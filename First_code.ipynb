{
 "cells": [
  {
   "cell_type": "markdown",
   "metadata": {},
   "source": [
    "# Python FromZero To Hero - CSphere"
   ]
  },
  {
   "cell_type": "markdown",
   "metadata": {},
   "source": [
    "### what you will learn from this section:\n",
    "<ol>\n",
    "<li>Basics of Python Coding</li>\n",
    "<li> Using help in python</li>\n",
    "<li> Characters management</li>\n",
    "<li> Numbers and mathematical operations</li>\n",
    "<li>Using Variable in Python</li>\n",
    "</ol>\n",
    "===================<br>\n",
    "<b>Ce que vous apprendrez dans cette section :</b>\n",
    "<ol>\n",
    "<li>Bases du codage Python</li>\n",
    "<li>Utilisation de l'aide en Python</li>\n",
    "<li>Gestion des charactères</li>\n",
    "<li>Nombres et opérations mathématiques</li>\n",
    "<li>Utilisation de variables en Python</li>\n",
    "</ol>"
   ]
  },
  {
   "cell_type": "code",
   "execution_count": 29,
   "metadata": {},
   "outputs": [
    {
     "name": "stdout",
     "output_type": "stream",
     "text": [
      "Hello, World!\n"
     ]
    }
   ],
   "source": [
    "# First Python Program === Premier Code en Python \n",
    "print(\"Hello, World!\")\n",
    "\n",
    "# The print() function is a built-in Python function that outputs text to the console.\n",
    "# La fonction print() est une fonction Python intégrée qui génère du texte vers la console.\n",
    "\n",
    "# \"Hello, World!\" is a string, which is a sequence of characters enclosed in quotation marks.\n",
    "# \"Bonjour le monde !\" est une chaîne, qui est une séquence de caractères entre guillemets.\n",
    "\n",
    "# When you run this program, Python will execute the print() function and display the message \"Hello, World!\" on the screen.\n",
    "# Lorsque vous exécutez ce programme, Python exécutera la fonction print() et affichera le message « Hello, World !» sur l'écran."
   ]
  },
  {
   "cell_type": "code",
   "execution_count": 32,
   "metadata": {},
   "outputs": [
    {
     "name": "stdout",
     "output_type": "stream",
     "text": [
      "\n",
      "Here is a list of the Python keywords.  Enter any keyword to get more help.\n",
      "\n",
      "False               class               from                or\n",
      "None                continue            global              pass\n",
      "True                def                 if                  raise\n",
      "and                 del                 import              return\n",
      "as                  elif                in                  try\n",
      "assert              else                is                  while\n",
      "async               except              lambda              with\n",
      "await               finally             nonlocal            yield\n",
      "break               for                 not                 \n",
      "\n"
     ]
    }
   ],
   "source": [
    "# help() function is used to get help in python\n",
    "# La fonction help() est utilisée pour obtenir de l'aide en Python\n",
    "#help(str)\n",
    "help('keywords')"
   ]
  },
  {
   "cell_type": "code",
   "execution_count": 1,
   "metadata": {},
   "outputs": [
    {
     "name": "stdout",
     "output_type": "stream",
     "text": [
      "Jone Doe\n",
      "Enter your Name:  Jone Doe\n"
     ]
    }
   ],
   "source": [
    "#name=\"Assih\"\n",
    "name = input()\n",
    "print('Enter your Name: ', name)"
   ]
  },
  {
   "cell_type": "markdown",
   "metadata": {},
   "source": [
    "# Numbners and Mathematical Operations\n",
    "\n",
    "========\n",
    "# Nombres et opérations "
   ]
  },
  {
   "cell_type": "code",
   "execution_count": 9,
   "metadata": {},
   "outputs": [
    {
     "name": "stdout",
     "output_type": "stream",
     "text": [
      "5\n",
      "1\n",
      "6\n",
      "1.5\n",
      "9\n",
      "1\n",
      "1\n"
     ]
    }
   ],
   "source": [
    "print(3 + 2)   # addition(+)\n",
    "print(3 - 2)   # subtraction(-)\n",
    "print(3 * 2)   # multiplication(*)\n",
    "print(3 / 2)   # division(/)\n",
    "print(3 ** 2)  # exponential(**)\n",
    "print(3 % 2)   # modulus(%)\n",
    "print(3 // 2)  # Floor division operator(//)\n",
    "\n"
   ]
  },
  {
   "cell_type": "code",
   "execution_count": 3,
   "metadata": {},
   "outputs": [
    {
     "name": "stdout",
     "output_type": "stream",
     "text": [
      "1\n"
     ]
    }
   ],
   "source": [
    "print(17 % 4)   # modulus(%)"
   ]
  },
  {
   "cell_type": "code",
   "execution_count": 7,
   "metadata": {},
   "outputs": [
    {
     "name": "stdout",
     "output_type": "stream",
     "text": [
      "<class 'dict'>\n"
     ]
    }
   ],
   "source": [
    "# Checking data types / Vérification des types de données\n",
    "#type()\n",
    "\n",
    "#print(type(10))                  # Int\n",
    "#print(type(3.14))                # Float\n",
    "#print(type(1 + 3j))              # Complex\n",
    "#print(type('Python Hero'))          # String\n",
    "#print(type([1, 2, 3]))           # List\n",
    "#print(type({'Course':'Python From Zero to Hero'})) # Dictionary\n",
    "#print(type({9.8, 3.14, 2.7}))    # Set\n",
    "#print(type((9.8, 3.14, 2.7)))    # Tuple\n",
    "#print(type(3 == 3))              # Bool\n",
    "#print(type(3 >= 3))              # Bool"
   ]
  },
  {
   "cell_type": "markdown",
   "metadata": {},
   "source": [
    "# Variables in Python\n",
    "a variable is a symbolic name that is a reference or pointer to an object. Once an object is assigned to a variable, you can refer to the object by that name. Variables in Python are dynamically typed, meaning you don’t have to declare their type; the type is inferred when you assign a value to the variable.\n",
    "\n",
    "Key Concepts:\n",
    "Variable Assignment\n",
    "<ol>\n",
    "<li> Dynamic Typing </li>\n",
    "<li> Variable Naming Conventions</li>\n",
    "<li> Multiple Assignments</li>\n",
    "<li> Constants (By Convention)</li>\n",
    "<li> Reassigning Variables</li>\n",
    "<li> Type Conversion</li>\n",
    "</ol>\n",
    "\n",
    "=========<br>\n",
    "# Variables en Python\n",
    "Une variable est un nom symbolique qui est une référence ou un pointeur vers un objet. Une fois un objet assigné à une variable, vous pouvez y faire référence par ce nom. En Python, les variables sont typées dynamiquement, ce qui signifie que vous n'avez pas besoin de déclarer leur type ; celui-ci est déduit lorsque vous leur attribuez une valeur.\n",
    "\n",
    "Concepts clés :\n",
    "Affectation de variables\n",
    "<ol>\n",
    "<li> Typage dynamique </li>\n",
    "<li> Conventions de nommage des variables</li>\n",
    "<li> Affectations multiples</li>\n",
    "<li> Constantes (par convention)</li>\n",
    "<li> Réaffectation de variables</li>\n",
    "<li> Conversion de type</li>\n",
    "</ol>"
   ]
  },
  {
   "cell_type": "markdown",
   "metadata": {},
   "source": [
    "### 1. Variable Assignment"
   ]
  },
  {
   "cell_type": "code",
   "execution_count": 12,
   "metadata": {},
   "outputs": [],
   "source": [
    "variable_name = value"
   ]
  },
  {
   "cell_type": "code",
   "execution_count": 38,
   "metadata": {},
   "outputs": [
    {
     "name": "stdout",
     "output_type": "stream",
     "text": [
      "Hello, World!\n"
     ]
    }
   ],
   "source": [
    "# Assigning a value to a variable\n",
    "message = \"Hello, World!\"\n",
    "number = 42\n",
    "pi = 3.14159\n",
    "#message\n",
    "print(message)"
   ]
  },
  {
   "cell_type": "markdown",
   "metadata": {},
   "source": [
    "### 2. Dynamic Typing\n",
    "Python is dynamically typed, which means the type of the variable is determined at runtime based on the value assigned to it. This allows the same variable to hold values of different types at different times.\n",
    "=======<br>\n",
    "### 2. Typage dynamique\n",
    "Python est typé dynamiquement, ce qui signifie que le type de la variable est déterminé à l'exécution en fonction de la valeur qui lui est attribuée. Cela permet à une même variable de contenir des valeurs de types différents à différents moments."
   ]
  },
  {
   "cell_type": "code",
   "execution_count": 8,
   "metadata": {},
   "outputs": [
    {
     "name": "stdout",
     "output_type": "stream",
     "text": [
      "10\n"
     ]
    }
   ],
   "source": [
    "my_var = 10       # my_var is an integer / my_var est un entier\n",
    "print(my_var)    \n",
    "\n"
   ]
  },
  {
   "cell_type": "code",
   "execution_count": 9,
   "metadata": {},
   "outputs": [
    {
     "name": "stdout",
     "output_type": "stream",
     "text": [
      "Python\n"
     ]
    }
   ],
   "source": [
    "my_var = \"Python\" # my_var is now a string / my_var est maintenant une chaîne\n",
    "print(my_var)    \n"
   ]
  },
  {
   "cell_type": "markdown",
   "metadata": {},
   "source": [
    "### 3. Variable Naming Conventions\n",
    "<b>Rules:</b>\n",
    "\n",
    "Variable names can contain letters, numbers, and underscores (_).\n",
    "\n",
    "They cannot start with a number.\n",
    "\n",
    "Variable names are case-sensitive (myVar and myvar are different).\n",
    "\n",
    "Avoid using Python reserved keywords like class, for, if, etc.<br>\n",
    "\n",
    "It's common practice to use lowercase words separated by underscores for variable names (snake_case) in Python, although camelCase (e.g., myVariable) is also used in some contexts.<br>\n",
    "============<br>\n",
    "### 3. Conventions de nommage des variables\n",
    "<b>Règles :</b>\n",
    "\n",
    "Les noms de variables peuvent contenir des lettres, des chiffres et des traits de soulignement (_).\n",
    "\n",
    "Ils ne peuvent pas commencer par un chiffre.\n",
    "\n",
    "Les noms de variables sont sensibles à la casse (myVar et myvar sont différents).\n",
    "\n",
    "Évitez utiliser des mots-clés réservés Python tels que class, for, if, etc.<br>\n",
    "Il est courant d'utiliser des mots minuscules séparés par des traits de soulignement pour les noms de variables (snake_case) en Python, bien que camelCase (par exemple, myVariable) soit également utilisé dans certains contextes."
   ]
  },
  {
   "cell_type": "code",
   "execution_count": 41,
   "metadata": {},
   "outputs": [
    {
     "ename": "SyntaxError",
     "evalue": "invalid decimal literal (2779963868.py, line 4)",
     "output_type": "error",
     "traceback": [
      "\u001b[0;36m  Input \u001b[0;32mIn [41]\u001b[0;36m\u001b[0m\n\u001b[0;31m    3total = 1500         # Invalid (SyntaxError)\u001b[0m\n\u001b[0m    ^\u001b[0m\n\u001b[0;31mSyntaxError\u001b[0m\u001b[0;31m:\u001b[0m invalid decimal literal\n"
     ]
    }
   ],
   "source": [
    "name = \"Alice\"        # Valid / Valide\n",
    "_age = 30             # Valid / Valide\n",
    "total_3 = 1500        # Valid / Valide\n",
    "3total = 1500         # Invalid (SyntaxError)\n",
    "myVar = \"Python\"      # Valid / Valide\n",
    "myvar = \"Java\"        # Different from myVar / Différent de myVar\n"
   ]
  },
  {
   "cell_type": "code",
   "execution_count": 10,
   "metadata": {},
   "outputs": [],
   "source": [
    "name = \"Alice\"        # Valid\n",
    "_age = 30             # Valid\n",
    "total_3 = 1500        # Valid\n",
    "total_3 = 1500        \n",
    "myVar = \"Python\"      # Valid\n",
    "myvar = \"Java\"  # Different from myVar\n"
   ]
  },
  {
   "cell_type": "markdown",
   "metadata": {},
   "source": [
    "### 4. Multiple Assignments\n",
    "Explanation: Python allows you to assign a single value to multiple variables or assign multiple values to multiple variables in one line.\n",
    "    <br>===========<br>\n",
    "### 4. Affectations multiples\n",
    "Explication : Python permet d'affecter une valeur unique à plusieurs variables ou d'affecter plusieurs valeurs à plusieurs variables sur une seule ligne.\n"
   ]
  },
  {
   "cell_type": "code",
   "execution_count": 12,
   "metadata": {},
   "outputs": [
    {
     "name": "stdout",
     "output_type": "stream",
     "text": [
      "3.14 3.14 3.14\n",
      "1 2 3\n"
     ]
    }
   ],
   "source": [
    "# Assigning a single value to multiple variables / Attribution d'une valeur unique à plusieurs variables\n",
    "a = b = c = 3.14\n",
    "print(a, b, c)  \n",
    "\n",
    "# Assigning multiple values to multiple variables / Attribution de plusieurs valeurs à plusieurs variables\n",
    "x, y, z = 1, 2, 3\n",
    "print(x, y, z)  "
   ]
  },
  {
   "cell_type": "markdown",
   "metadata": {},
   "source": [
    "### 5. Constants (By Convention)\n",
    "Explanation: Python does not have built-in constant types, but by convention, constants are written in all uppercase letters to indicate that they should not be changed.\n",
    "    <br>=========<br>\n",
    "### 5. Constantes (par convention)\n",
    "Explication : Python ne possède pas de types de constantes intégrés, mais par convention, les constantes sont écrites en majuscules pour indiquer qu'elles ne doivent pas être modifiées."
   ]
  },
  {
   "cell_type": "code",
   "execution_count": 49,
   "metadata": {},
   "outputs": [],
   "source": [
    "PI = 3.14159\n",
    "GRAVITY = 9.81"
   ]
  },
  {
   "cell_type": "markdown",
   "metadata": {},
   "source": [
    "### 6. Reassigning Variables\n",
    "Explanation: Variables in Python can be reassigned to new values at any time, and they can even be reassigned to a different data type.\n",
    "    <br>==========<br>\n",
    "### 6. Réaffectation de variables\n",
    "Explication : En Python, les variables peuvent être réaffectées à de nouvelles valeurs à tout moment, et même à un type de données différent."
   ]
  },
  {
   "cell_type": "code",
   "execution_count": 50,
   "metadata": {},
   "outputs": [
    {
     "name": "stdout",
     "output_type": "stream",
     "text": [
      "10\n",
      "Python\n",
      "3.14\n"
     ]
    }
   ],
   "source": [
    "my_var = 10         # my_var is an integer / my_var est un entier\n",
    "print(my_var)     \n",
    "\n",
    "my_var = \"Python\"   # my_var is now a string / my_var est maintenant une chaîne\n",
    "print(my_var)      \n",
    "\n",
    "my_var = 3.14       # my_var is now a float / my_var est maintenant un float\n",
    "print(my_var)      \n"
   ]
  },
  {
   "cell_type": "code",
   "execution_count": 13,
   "metadata": {},
   "outputs": [
    {
     "ename": "SyntaxError",
     "evalue": "cannot assign to expression here. Maybe you meant '==' instead of '='? (3265675479.py, line 1)",
     "output_type": "error",
     "traceback": [
      "\u001b[0;36m  Input \u001b[0;32mIn [13]\u001b[0;36m\u001b[0m\n\u001b[0;31m    name+2 = \"test\"\u001b[0m\n\u001b[0m    ^\u001b[0m\n\u001b[0;31mSyntaxError\u001b[0m\u001b[0;31m:\u001b[0m cannot assign to expression here. Maybe you meant '==' instead of '='?\n"
     ]
    }
   ],
   "source": [
    "Babala = \"test\""
   ]
  },
  {
   "cell_type": "markdown",
   "metadata": {},
   "source": [
    "### Invalid variables name / Invalid nom de variable;\n",
    "first-name<br>\n",
    "first@name<br>\n",
    "first$name<br>\n",
    "num-1<br>\n",
    "1num<br>\n",
    "\n",
    "### Valid Variable name / Nom valid pour les variables:\n",
    "firstname<br>\n",
    "lastname<br>\n",
    "age<br>\n",
    "country<br>\n",
    "city<br>\n",
    "first_name<br>\n",
    "last_name<br>\n",
    "capital_city<br>\n",
    "_if # if we want to use reserved word as a variable\n",
    "<br>year_2021<br>\n",
    "year2021<br>\n",
    "current_year_2021<br>\n",
    "birth_year<br>\n",
    "num1<br>\n",
    "num2<br>"
   ]
  },
  {
   "cell_type": "markdown",
   "metadata": {},
   "source": [
    "### 7. Type Conversion\n",
    "Sometimes you may need to convert a variable from one type to another. Python provides built-in functions for type conversion.\n",
    "<br>=========<br>\n",
    "### 7. Conversion de type\n",
    "Il peut parfois être nécessaire de convertir une variable d'un type à un autre. Python fournit des fonctions intégrées pour la conversion de type.\n"
   ]
  },
  {
   "cell_type": "code",
   "execution_count": 51,
   "metadata": {},
   "outputs": [
    {
     "name": "stdout",
     "output_type": "stream",
     "text": [
      "200\n",
      "100\n",
      "<class 'int'>\n",
      "100100\n",
      "100\n",
      "<class 'str'>\n",
      "25\n",
      "<class 'int'>\n",
      "5.9\n",
      "<class 'float'>\n"
     ]
    }
   ],
   "source": [
    "# Converting an integer to a string / Conversion d'un entier en chaîne\n",
    "number = 100\n",
    "x = number*2\n",
    "print(x)\n",
    "print(number)\n",
    "print(type(number))\n",
    "number_str = str(number)\n",
    "x = number_str*2\n",
    "print(x)\n",
    "print(number_str)        \n",
    "print(type(number_str))  \n",
    "\n",
    "# Converting a string to an integer\n",
    "# Conversion d'une chaîne en entier\n",
    "age_str = \"25\"\n",
    "age = int(age_str)\n",
    "print(age)               \n",
    "print(type(age))        \n",
    "\n",
    "# Converting a string to a float\n",
    "# Conversion d'une chaîne en nombre Reel\n",
    "height_str = \"5.9\"\n",
    "height = float(height_str)\n",
    "print(height)            \n",
    "print(type(height))      "
   ]
  },
  {
   "cell_type": "markdown",
   "metadata": {},
   "source": [
    "Summary\n",
    "Variables store data values that can be used and manipulated in your program.\n",
    "\n",
    "Dynamic Typing in Python allows variables to change types as needed.\n",
    "\n",
    "Naming Conventions ensure your code is readable and maintainable.\n",
    "\n",
    "Multiple Assignments make your code more concise.\n",
    "\n",
    "Constants are indicated by all uppercase letters, even though they can technically be changed.\n",
    "\n",
    "Reassigning Variables shows the flexibility in Python to change the type of data stored in a variable.\n",
    "\n",
    "Type Conversion allows you to convert between types, which is crucial when working with different kinds of data.\n",
    "<br>===============<br>\n",
    "Résumé\n",
    "Les variables stockent des valeurs de données utilisables et manipulables dans votre programme.\n",
    "\n",
    "Le typage dynamique en Python permet aux variables de changer de type selon les besoins.\n",
    "\n",
    "Les conventions de nommage garantissent la lisibilité et la maintenabilité de votre code.\n",
    "\n",
    "Les affectations multiples rendent votre code plus concis.\n",
    "\n",
    "Les constantes sont indiquées en majuscules, même si elles peuvent techniquement être modifiées.\n",
    "\n",
    "La réaffectation de variables illustre la flexibilité de Python pour modifier le type de données stockées dans une variable.\n",
    "\n",
    "La conversion de type permet de convertir entre les types, ce qui est crucial lorsque l'on travaille avec différents types de données."
   ]
  },
  {
   "cell_type": "code",
   "execution_count": 53,
   "metadata": {},
   "outputs": [
    {
     "name": "stdout",
     "output_type": "stream",
     "text": [
      "The \"global\" statement\n",
      "**********************\n",
      "\n",
      "   global_stmt ::= \"global\" identifier (\",\" identifier)*\n",
      "\n",
      "The \"global\" statement is a declaration which holds for the entire\n",
      "current code block.  It means that the listed identifiers are to be\n",
      "interpreted as globals.  It would be impossible to assign to a global\n",
      "variable without \"global\", although free variables may refer to\n",
      "globals without being declared global.\n",
      "\n",
      "Names listed in a \"global\" statement must not be used in the same code\n",
      "block textually preceding that \"global\" statement.\n",
      "\n",
      "Names listed in a \"global\" statement must not be defined as formal\n",
      "parameters, or as targets in \"with\" statements or \"except\" clauses, or\n",
      "in a \"for\" target list, \"class\" definition, function definition,\n",
      "\"import\" statement, or variable annotation.\n",
      "\n",
      "**CPython implementation detail:** The current implementation does not\n",
      "enforce some of these restrictions, but programs should not abuse this\n",
      "freedom, as future implementations may enforce them or silently change\n",
      "the meaning of the program.\n",
      "\n",
      "**Programmer’s note:** \"global\" is a directive to the parser.  It\n",
      "applies only to code parsed at the same time as the \"global\"\n",
      "statement. In particular, a \"global\" statement contained in a string\n",
      "or code object supplied to the built-in \"exec()\" function does not\n",
      "affect the code block *containing* the function call, and code\n",
      "contained in such a string is unaffected by \"global\" statements in the\n",
      "code containing the function call.  The same applies to the \"eval()\"\n",
      "and \"compile()\" functions.\n",
      "\n",
      "Related help topics: nonlocal, NAMESPACES\n",
      "\n"
     ]
    }
   ],
   "source": [
    "help('global')"
   ]
  },
  {
   "cell_type": "code",
   "execution_count": 54,
   "metadata": {},
   "outputs": [
    {
     "name": "stdout",
     "output_type": "stream",
     "text": [
      "The \"import\" statement\n",
      "**********************\n",
      "\n",
      "   import_stmt     ::= \"import\" module [\"as\" identifier] (\",\" module [\"as\" identifier])*\n",
      "                   | \"from\" relative_module \"import\" identifier [\"as\" identifier]\n",
      "                   (\",\" identifier [\"as\" identifier])*\n",
      "                   | \"from\" relative_module \"import\" \"(\" identifier [\"as\" identifier]\n",
      "                   (\",\" identifier [\"as\" identifier])* [\",\"] \")\"\n",
      "                   | \"from\" relative_module \"import\" \"*\"\n",
      "   module          ::= (identifier \".\")* identifier\n",
      "   relative_module ::= \".\"* module | \".\"+\n",
      "\n",
      "The basic import statement (no \"from\" clause) is executed in two\n",
      "steps:\n",
      "\n",
      "1. find a module, loading and initializing it if necessary\n",
      "\n",
      "2. define a name or names in the local namespace for the scope where\n",
      "   the \"import\" statement occurs.\n",
      "\n",
      "When the statement contains multiple clauses (separated by commas) the\n",
      "two steps are carried out separately for each clause, just as though\n",
      "the clauses had been separated out into individual import statements.\n",
      "\n",
      "The details of the first step, finding and loading modules are\n",
      "described in greater detail in the section on the import system, which\n",
      "also describes the various types of packages and modules that can be\n",
      "imported, as well as all the hooks that can be used to customize the\n",
      "import system. Note that failures in this step may indicate either\n",
      "that the module could not be located, *or* that an error occurred\n",
      "while initializing the module, which includes execution of the\n",
      "module’s code.\n",
      "\n",
      "If the requested module is retrieved successfully, it will be made\n",
      "available in the local namespace in one of three ways:\n",
      "\n",
      "* If the module name is followed by \"as\", then the name following \"as\"\n",
      "  is bound directly to the imported module.\n",
      "\n",
      "* If no other name is specified, and the module being imported is a\n",
      "  top level module, the module’s name is bound in the local namespace\n",
      "  as a reference to the imported module\n",
      "\n",
      "* If the module being imported is *not* a top level module, then the\n",
      "  name of the top level package that contains the module is bound in\n",
      "  the local namespace as a reference to the top level package. The\n",
      "  imported module must be accessed using its full qualified name\n",
      "  rather than directly\n",
      "\n",
      "The \"from\" form uses a slightly more complex process:\n",
      "\n",
      "1. find the module specified in the \"from\" clause, loading and\n",
      "   initializing it if necessary;\n",
      "\n",
      "2. for each of the identifiers specified in the \"import\" clauses:\n",
      "\n",
      "   1. check if the imported module has an attribute by that name\n",
      "\n",
      "   2. if not, attempt to import a submodule with that name and then\n",
      "      check the imported module again for that attribute\n",
      "\n",
      "   3. if the attribute is not found, \"ImportError\" is raised.\n",
      "\n",
      "   4. otherwise, a reference to that value is stored in the local\n",
      "      namespace, using the name in the \"as\" clause if it is present,\n",
      "      otherwise using the attribute name\n",
      "\n",
      "Examples:\n",
      "\n",
      "   import foo                 # foo imported and bound locally\n",
      "   import foo.bar.baz         # foo, foo.bar, and foo.bar.baz imported, foo bound locally\n",
      "   import foo.bar.baz as fbb  # foo, foo.bar, and foo.bar.baz imported, foo.bar.baz bound as fbb\n",
      "   from foo.bar import baz    # foo, foo.bar, and foo.bar.baz imported, foo.bar.baz bound as baz\n",
      "   from foo import attr       # foo imported and foo.attr bound as attr\n",
      "\n",
      "If the list of identifiers is replaced by a star (\"'*'\"), all public\n",
      "names defined in the module are bound in the local namespace for the\n",
      "scope where the \"import\" statement occurs.\n",
      "\n",
      "The *public names* defined by a module are determined by checking the\n",
      "module’s namespace for a variable named \"__all__\"; if defined, it must\n",
      "be a sequence of strings which are names defined or imported by that\n",
      "module.  The names given in \"__all__\" are all considered public and\n",
      "are required to exist.  If \"__all__\" is not defined, the set of public\n",
      "names includes all names found in the module’s namespace which do not\n",
      "begin with an underscore character (\"'_'\").  \"__all__\" should contain\n",
      "the entire public API. It is intended to avoid accidentally exporting\n",
      "items that are not part of the API (such as library modules which were\n",
      "imported and used within the module).\n",
      "\n",
      "The wild card form of import — \"from module import *\" — is only\n",
      "allowed at the module level.  Attempting to use it in class or\n",
      "function definitions will raise a \"SyntaxError\".\n",
      "\n",
      "When specifying what module to import you do not have to specify the\n",
      "absolute name of the module. When a module or package is contained\n",
      "within another package it is possible to make a relative import within\n",
      "the same top package without having to mention the package name. By\n",
      "using leading dots in the specified module or package after \"from\" you\n",
      "can specify how high to traverse up the current package hierarchy\n",
      "without specifying exact names. One leading dot means the current\n",
      "package where the module making the import exists. Two dots means up\n",
      "one package level. Three dots is up two levels, etc. So if you execute\n",
      "\"from . import mod\" from a module in the \"pkg\" package then you will\n",
      "end up importing \"pkg.mod\". If you execute \"from ..subpkg2 import mod\"\n",
      "from within \"pkg.subpkg1\" you will import \"pkg.subpkg2.mod\". The\n",
      "specification for relative imports is contained in the Package\n",
      "Relative Imports section.\n",
      "\n",
      "\"importlib.import_module()\" is provided to support applications that\n",
      "determine dynamically the modules to be loaded.\n",
      "\n",
      "Raises an auditing event \"import\" with arguments \"module\", \"filename\",\n",
      "\"sys.path\", \"sys.meta_path\", \"sys.path_hooks\".\n",
      "\n",
      "\n",
      "Future statements\n",
      "=================\n",
      "\n",
      "A *future statement* is a directive to the compiler that a particular\n",
      "module should be compiled using syntax or semantics that will be\n",
      "available in a specified future release of Python where the feature\n",
      "becomes standard.\n",
      "\n",
      "The future statement is intended to ease migration to future versions\n",
      "of Python that introduce incompatible changes to the language.  It\n",
      "allows use of the new features on a per-module basis before the\n",
      "release in which the feature becomes standard.\n",
      "\n",
      "   future_stmt ::= \"from\" \"__future__\" \"import\" feature [\"as\" identifier]\n",
      "                   (\",\" feature [\"as\" identifier])*\n",
      "                   | \"from\" \"__future__\" \"import\" \"(\" feature [\"as\" identifier]\n",
      "                   (\",\" feature [\"as\" identifier])* [\",\"] \")\"\n",
      "   feature     ::= identifier\n",
      "\n",
      "A future statement must appear near the top of the module.  The only\n",
      "lines that can appear before a future statement are:\n",
      "\n",
      "* the module docstring (if any),\n",
      "\n",
      "* comments,\n",
      "\n",
      "* blank lines, and\n",
      "\n",
      "* other future statements.\n",
      "\n",
      "The only feature that requires using the future statement is\n",
      "\"annotations\" (see **PEP 563**).\n",
      "\n",
      "All historical features enabled by the future statement are still\n",
      "recognized by Python 3.  The list includes \"absolute_import\",\n",
      "\"division\", \"generators\", \"generator_stop\", \"unicode_literals\",\n",
      "\"print_function\", \"nested_scopes\" and \"with_statement\".  They are all\n",
      "redundant because they are always enabled, and only kept for backwards\n",
      "compatibility.\n",
      "\n",
      "A future statement is recognized and treated specially at compile\n",
      "time: Changes to the semantics of core constructs are often\n",
      "implemented by generating different code.  It may even be the case\n",
      "that a new feature introduces new incompatible syntax (such as a new\n",
      "reserved word), in which case the compiler may need to parse the\n",
      "module differently.  Such decisions cannot be pushed off until\n",
      "runtime.\n",
      "\n",
      "For any given release, the compiler knows which feature names have\n",
      "been defined, and raises a compile-time error if a future statement\n",
      "contains a feature not known to it.\n",
      "\n",
      "The direct runtime semantics are the same as for any import statement:\n",
      "there is a standard module \"__future__\", described later, and it will\n",
      "be imported in the usual way at the time the future statement is\n",
      "executed.\n",
      "\n",
      "The interesting runtime semantics depend on the specific feature\n",
      "enabled by the future statement.\n",
      "\n",
      "Note that there is nothing special about the statement:\n",
      "\n",
      "   import __future__ [as name]\n",
      "\n",
      "That is not a future statement; it’s an ordinary import statement with\n",
      "no special semantics or syntax restrictions.\n",
      "\n",
      "Code compiled by calls to the built-in functions \"exec()\" and\n",
      "\"compile()\" that occur in a module \"M\" containing a future statement\n",
      "will, by default, use the new syntax or semantics associated with the\n",
      "future statement.  This can be controlled by optional arguments to\n",
      "\"compile()\" — see the documentation of that function for details.\n",
      "\n",
      "A future statement typed at an interactive interpreter prompt will\n",
      "take effect for the rest of the interpreter session.  If an\n",
      "interpreter is started with the \"-i\" option, is passed a script name\n",
      "to execute, and the script includes a future statement, it will be in\n",
      "effect in the interactive session started after the script is\n",
      "executed.\n",
      "\n",
      "See also:\n",
      "\n",
      "  **PEP 236** - Back to the __future__\n",
      "     The original proposal for the __future__ mechanism.\n",
      "\n",
      "Related help topics: MODULES\n",
      "\n"
     ]
    }
   ],
   "source": [
    "help('import')"
   ]
  },
  {
   "cell_type": "code",
   "execution_count": null,
   "metadata": {},
   "outputs": [],
   "source": []
  }
 ],
 "metadata": {
  "kernelspec": {
   "display_name": "Python 3.10",
   "language": "python",
   "name": "python3.10"
  },
  "language_info": {
   "codemirror_mode": {
    "name": "ipython",
    "version": 3
   },
   "file_extension": ".py",
   "mimetype": "text/x-python",
   "name": "python",
   "nbconvert_exporter": "python",
   "pygments_lexer": "ipython3",
   "version": "3.10.5"
  }
 },
 "nbformat": 4,
 "nbformat_minor": 1
}
