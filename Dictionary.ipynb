{
 "cells": [
  {
   "cell_type": "markdown",
   "metadata": {},
   "source": [
    "# Dictionary\n",
    "<b>Definition:</b>\n",
    "A dictionary is an unordered collection of key-value pairs. Each key is unique, and it is used to access the corresponding value.\n",
    "\n",
    "### Characteristics:\n",
    "\n",
    "Unordered (but insertion order is preserved from Python 3.7+) Mutable Keys must be unique and immutable\n",
    "<br>========<br>\n",
    "<b>Définition :</b>\n",
    "Un dictionnaire est un ensemble non ordonné de paires clé-valeur. Chaque clé est unique et permet d'accéder à la valeur correspondante.\n",
    "\n",
    "### Caractéristiques : \n",
    "Non ordonné (mais l'ordre d'insertion est conservé depuis Python 3.7 et versions ultérieures) Mutable Les clés doivent être uniques et immuables"
   ]
  },
  {
   "cell_type": "code",
   "execution_count": 53,
   "metadata": {},
   "outputs": [],
   "source": [
    "# syntax\n",
    "empty_dict = { }\n",
    "# Dictionary with data values\n",
    "dct = {'key1':'value1', 'key2':'value2', 'key3':'value3', 'key4':'value4'}"
   ]
  },
  {
   "cell_type": "code",
   "execution_count": 54,
   "metadata": {},
   "outputs": [],
   "source": [
    "# The dictionary above shows that a value could be any data types:string, boolean, list, tuple, set or a dictionary.\n",
    "# Le dictionnaire ci-dessus montre qu'une valeur peut être n'importe quel type de données : chaîne, booléen, liste, tuple, ensemble ou dictionnaire.\n",
    "person = {\n",
    "    'first_name':'Chayil',\n",
    "    'last_name':'Assih',\n",
    "    'age':250,\n",
    "    'country':'New York',\n",
    "    'is_marred':True,\n",
    "    'skills':['JavaScript', 'React', 'Node', 'MongoDB', 'Python'],\n",
    "    \n",
    "    'address':{\n",
    "        'street':'Bedell street',\n",
    "        'zipcode':'11434'\n",
    "    },\n",
    "    'demography':{\n",
    "        'marital status':'Married',\n",
    "        'gender':'Male'\n",
    "    }\n",
    "    }"
   ]
  },
  {
   "cell_type": "code",
   "execution_count": 55,
   "metadata": {},
   "outputs": [
    {
     "name": "stdout",
     "output_type": "stream",
     "text": [
      "First Name:  Chayil\n",
      "Last Name:  Assih\n",
      "Address:  {'street': 'Bedell street', 'zipcode': '11434'}\n"
     ]
    }
   ],
   "source": [
    "# We can access Dictionary items by referring to its key name.\n",
    "# Nous pouvons accéder aux éléments du dictionnaire en faisant référence à leur nom clé.\n",
    "print(\"First Name: \", person[\"first_name\"])\n",
    "print(\"Last Name: \", person[\"last_name\"])\n",
    "print(\"Address: \", person[\"address\"])"
   ]
  },
  {
   "cell_type": "code",
   "execution_count": 56,
   "metadata": {},
   "outputs": [
    {
     "name": "stdout",
     "output_type": "stream",
     "text": [
      "Chayil\n",
      "New York\n",
      "['JavaScript', 'React', 'Node', 'MongoDB', 'Python']\n",
      "None\n"
     ]
    }
   ],
   "source": [
    "# Accessing an item by key name raises an error if the key does not exist. To avoid this error first we have to check if a key exist or we can use the get method. The get method returns None, which is a NoneType object data type, if the key does not exist.\n",
    "# L'accès à un élément par le nom de la clé génère une erreur si la clé n'existe pas. Pour éviter cette erreur, nous devons d'abord vérifier si une clé existe ou utiliser la méthode get. Cette méthode renvoie None, un type de données d'objet NoneType, si la clé n'existe pas.\n",
    "print(person.get('first_name')) \n",
    "print(person.get('country'))    \n",
    "print(person.get('skills')) \n",
    "print(person.get('city'))  "
   ]
  },
  {
   "cell_type": "code",
   "execution_count": 17,
   "metadata": {},
   "outputs": [
    {
     "name": "stdout",
     "output_type": "stream",
     "text": [
      "8\n"
     ]
    }
   ],
   "source": [
    "# Dictionary Length: It checks the number of 'key: value' pairs in the dictionary.\n",
    "# Longueur du dictionnaire : il vérifie le nombre de paires « clé : valeur » dans le dictionnaire.\n",
    "print(len(person))"
   ]
  },
  {
   "cell_type": "code",
   "execution_count": 23,
   "metadata": {},
   "outputs": [
    {
     "name": "stdout",
     "output_type": "stream",
     "text": [
      "{'first_name': 'Chayil', 'last_name': 'Assih', 'age': 250, 'country': 'New York', 'is_marred': True, 'skills': ['JavaScript', 'React', 'Node', 'MongoDB', 'Python', 'Reflex'], 'address': {'street': 'Bedell street', 'zipcode': '11434'}, 'demography': {'marital status': 'Married', 'gender': 'Male'}, 'job_title': 'Data Scientist'}\n"
     ]
    }
   ],
   "source": [
    "# We can add new key and value pairs to a dictionary / Nous pouvons ajouter de nouvelles paires clé-valeur à un dictionnaire\n",
    "person['job_title'] = 'Data Scientist'\n",
    "person['skills'].append('Reflex')\n",
    "print(person)"
   ]
  },
  {
   "cell_type": "code",
   "execution_count": 24,
   "metadata": {},
   "outputs": [],
   "source": [
    "\n",
    "person['first_name'] = 'Babala'\n",
    "person['age'] = 252"
   ]
  },
  {
   "cell_type": "code",
   "execution_count": 25,
   "metadata": {},
   "outputs": [
    {
     "name": "stdout",
     "output_type": "stream",
     "text": [
      "{'first_name': 'Babala', 'last_name': 'Assih', 'age': 252, 'country': 'New York', 'is_marred': True, 'skills': ['JavaScript', 'React', 'Node', 'MongoDB', 'Python', 'Reflex'], 'address': {'street': 'Bedell street', 'zipcode': '11434'}, 'demography': {'marital status': 'Married', 'gender': 'Male'}, 'job_title': 'Data Scientist'}\n"
     ]
    }
   ],
   "source": [
    "print(person)"
   ]
  },
  {
   "cell_type": "code",
   "execution_count": 26,
   "metadata": {},
   "outputs": [
    {
     "name": "stdout",
     "output_type": "stream",
     "text": [
      "True\n",
      "False\n"
     ]
    }
   ],
   "source": [
    "# We use the in operator to check if a key exist in a dictionary / Nous utilisons l'opérateur in pour vérifier si une clé existe dans un dictionnaire\n",
    "dct = {'key1':'value1', 'key2':'value2', 'key3':'value3', 'key4':'value4'}\n",
    "print('key2' in dct) \n",
    "print('key5' in dct)"
   ]
  },
  {
   "cell_type": "code",
   "execution_count": 1,
   "metadata": {},
   "outputs": [
    {
     "data": {
      "text/plain": [
       "{'key1': 'value1', 'key3': 'value3'}"
      ]
     },
     "execution_count": 1,
     "metadata": {},
     "output_type": "execute_result"
    }
   ],
   "source": [
    "#Removing Key and Value Pairs from a Dictionary / Suppression des paires clé-valeur d'un dictionnaire\n",
    "#pop(key): removes the item with the specified key name: / supprime l'élément avec le nom de clé spécifié :\n",
    "#popitem(): removes the last item\n",
    "#del: removes an item with specified key name\n",
    "dct = {'key1':'value1', 'key2':'value2', 'key3':'value3', 'key4':'value4'}\n",
    "dct.pop('key1') \n",
    "dct = {'key1':'value1', 'key2':'value2', 'key3':'value3', 'key4':'value4'}\n",
    "dct.popitem() \n",
    "del dct['key2'] # removes key2 item / supprime l'élément key2\n",
    "dct"
   ]
  },
  {
   "cell_type": "code",
   "execution_count": 40,
   "metadata": {},
   "outputs": [],
   "source": [
    "person.pop('first_name')        # Removes the firstname item\n",
    "person.popitem()                # Removes the address item\n",
    "del person['age']        # Removes the is_married item"
   ]
  },
  {
   "cell_type": "code",
   "execution_count": 41,
   "metadata": {},
   "outputs": [
    {
     "name": "stdout",
     "output_type": "stream",
     "text": [
      "dict_items([('key1', 'value1'), ('key2', 'value2'), ('key3', 'value3'), ('key4', 'value4')])\n"
     ]
    }
   ],
   "source": [
    "# The items() method changes dictionary to a list of tuples. / La méthode items() transforme le dictionnaire en une liste de tuples.\n",
    "dct = {'key1':'value1', 'key2':'value2', 'key3':'value3', 'key4':'value4'}\n",
    "print(dct.items()) \n",
    "\n"
   ]
  },
  {
   "cell_type": "code",
   "execution_count": 42,
   "metadata": {},
   "outputs": [
    {
     "name": "stdout",
     "output_type": "stream",
     "text": [
      "None\n"
     ]
    }
   ],
   "source": [
    "# If we don't want the items in a dictionary we can clear them using clear() method / Si nous ne voulons pas des éléments dans un dictionnaire, nous pouvons les effacer en utilisant la méthode clear()\n",
    "dct = {'key1':'value1', 'key2':'value2', 'key3':'value3', 'key4':'value4'}\n",
    "print(dct.clear()) # None"
   ]
  },
  {
   "cell_type": "code",
   "execution_count": 44,
   "metadata": {},
   "outputs": [],
   "source": [
    "# If we do not use the dictionary we can delete it completely / Si nous n'utilisons pas le dictionnaire, nous pouvons le supprimer complètement\n",
    "dct = {'key1':'value1', 'key2':'value2', 'key3':'value3', 'key4':'value4'}\n",
    "del dct\n",
    "#print(dct)"
   ]
  },
  {
   "cell_type": "code",
   "execution_count": 46,
   "metadata": {},
   "outputs": [
    {
     "name": "stdout",
     "output_type": "stream",
     "text": [
      "{'key1': 'value1', 'key2': 'value2', 'key3': 'value3', 'key4': 'value4'}\n"
     ]
    }
   ],
   "source": [
    "# We can copy a dictionary using a copy() method. Using copy we can avoid mutation of the original dictionary. / Nous pouvons copier un dictionnaire à l'aide de la méthode copy(). Cette méthode permet d'éviter toute mutation du dictionnaire d'origine.\n",
    "dct = {'key1':'value1', 'key2':'value2', 'key3':'value3', 'key4':'value4'}\n",
    "dct_copy = dct.copy()\n",
    "print(dct_copy)"
   ]
  },
  {
   "cell_type": "code",
   "execution_count": 47,
   "metadata": {},
   "outputs": [
    {
     "name": "stdout",
     "output_type": "stream",
     "text": [
      "dict_keys(['key1', 'key2', 'key3', 'key4'])\n"
     ]
    }
   ],
   "source": [
    "#The keys() method gives us all the keys of a a dictionary as a list. / La méthode keys() nous donne toutes les clés d'un dictionnaire sous forme de liste.\n",
    "dct = {'key1':'value1', 'key2':'value2', 'key3':'value3', 'key4':'value4'}\n",
    "keys = dct.keys()\n",
    "print(keys)  "
   ]
  },
  {
   "cell_type": "code",
   "execution_count": 48,
   "metadata": {},
   "outputs": [
    {
     "name": "stdout",
     "output_type": "stream",
     "text": [
      "dict_values(['value1', 'value2', 'value3', 'value4'])\n"
     ]
    }
   ],
   "source": [
    "# The values method gives us all the values of a a dictionary as a list. / La méthode values nous donne toutes les valeurs d'un dictionnaire sous forme de liste.\n",
    "dct = {'key1':'value1', 'key2':'value2', 'key3':'value3', 'key4':'value4'}\n",
    "values = dct.values()\n",
    "print(values) \n"
   ]
  },
  {
   "cell_type": "code",
   "execution_count": 50,
   "metadata": {},
   "outputs": [
    {
     "name": "stdout",
     "output_type": "stream",
     "text": [
      "dict_values(['Assih', 'New York', True, ['JavaScript', 'React', 'Node', 'MongoDB', 'Python'], {'street': 'Bedell street', 'zipcode': '11434'}])\n"
     ]
    }
   ],
   "source": [
    "data = person.values()\n",
    "print(data)"
   ]
  },
  {
   "cell_type": "code",
   "execution_count": 61,
   "metadata": {},
   "outputs": [
    {
     "name": "stdout",
     "output_type": "stream",
     "text": [
      "The ship Enterprise belongs to CSphere\n",
      "The ship Enterprise B belongs to Picard\n",
      "The ship Deep Space Nine belongs to Sisko\n",
      "The ship Voyager belongs to Janeway\n",
      "The ship Maggie belongs to CSphere\n",
      "The ship Liao_MS belongs to Babala_ME\n",
      "The ship Nikita belongs to Chayil\n"
     ]
    }
   ],
   "source": [
    "# Like a map or hash table in other languages\n",
    "captains = {}\n",
    "captains[\"Enterprise\"] = \"CSphere\"\n",
    "captains[\"Enterprise B\"] = \"Picard\"\n",
    "captains[\"Deep Space Nine\"] = \"Sisko\"\n",
    "captains[\"Voyager\"] = \"Janeway\"\n",
    "captains[\"Maggie\"] = \"CSphere\"\n",
    "captains[\"Liao_MS\"] = \"Babala_ME\"\n",
    "captains[\"Nikita\"] = \"Chayil\"\n",
    "\n",
    "for ship in captains:\n",
    "    print(\"The ship \" + ship + \" belongs to \" + captains[ship])"
   ]
  },
  {
   "cell_type": "code",
   "execution_count": 51,
   "metadata": {},
   "outputs": [
    {
     "name": "stdout",
     "output_type": "stream",
     "text": [
      "Current Portfolio:\n",
      "NASDAQ: $14000\n",
      "S&P 500: $4400\n",
      "Dow Jones: $35000\n",
      "FTSE 100: $7100\n",
      "Updated NASDAQ to 14500.\n",
      "Total portfolio value: $61000\n"
     ]
    }
   ],
   "source": [
    "#Real application of dictionary data structure in the stock market\n",
    "#Application réelle de la structure de données du dictionnaire au marché boursier\n",
    "def update_portfolio(portfolio, index, new_value):\n",
    "    \"\"\"Update the value of a stock index in the portfolio.\"\"\"\n",
    "    portfolio[index] = new_value\n",
    "    print(f\"Updated {index} to {new_value}.\")\n",
    "\n",
    "def calculate_portfolio_value(portfolio):\n",
    "    \"\"\"Calculate the total value of the portfolio.\"\"\"\n",
    "    total_value = sum(portfolio.values())\n",
    "    print(f\"Total portfolio value: ${total_value}\")\n",
    "\n",
    "def display_portfolio(portfolio):\n",
    "    \"\"\"Display all stock indices and their values.\"\"\"\n",
    "    print(\"Current Portfolio:\")\n",
    "    for index, value in portfolio.items():\n",
    "        print(f\"{index}: ${value}\")\n",
    "\n",
    "# Portfolio of stock indices\n",
    "# Portefeuille d'indices boursiers\n",
    "portfolio = {\n",
    "    \"NASDAQ\": 14000,\n",
    "    \"S&P 500\": 4400,\n",
    "    \"Dow Jones\": 35000,\n",
    "    \"FTSE 100\": 7100\n",
    "}\n",
    "\n",
    "# Display the initial portfolio\n",
    "# Afficher le portefeuille initial\n",
    "display_portfolio(portfolio)\n",
    "\n",
    "# Update the value of the NASDAQ index\n",
    "# Mettre à jour la valeur de l'indice NASDAQ\n",
    "update_portfolio(portfolio, \"NASDAQ\", 14500)\n",
    "\n",
    "# Calculate the total value of the portfolio\n",
    "# Calculer la valeur totale du portefeuille\n",
    "calculate_portfolio_value(portfolio)"
   ]
  },
  {
   "cell_type": "markdown",
   "metadata": {},
   "source": [
    "### <font color=blue>Section Summary:</font><br>\n",
    "\n",
    "Dictionaries in Python are versatile and powerful data structures that allow you to store and manipulate data in a key-value format. They are particularly useful in scenarios where you need to associate data points (e.g., a stock ticker with its current value) and efficiently access, update, or remove elements based on their keys. Understanding and mastering dictionaries will greatly enhance your ability to handle and process data in Python, making your programs more efficient and organized.\n",
    "\n",
    "==========\n",
    "\n",
    "Les dictionnaires Python sont des structures de données polyvalentes et puissantes qui permettent de stocker et de manipuler des données au format clé-valeur. Ils sont particulièrement utiles pour associer des points de données (par exemple, un symbole boursier à sa valeur actuelle) et accéder, mettre à jour ou supprimer efficacement des éléments en fonction de leurs clés. Comprendre et maîtriser les dictionnaires améliorera considérablement votre capacité à manipuler et traiter les données en Python, rendant vos programmes plus efficaces et organisés.\n",
    "\n"
   ]
  },
  {
   "cell_type": "markdown",
   "metadata": {},
   "source": [
    "# exercise\n",
    "<ol>\n",
    "<li>Create an empty dictionary called dog</li>\n",
    "<li>Add name, color, breed, legs, age to the dog dictionary</li>\n",
    "<li>Create a student dictionary and add first_name, last_name, gender, age, marital status, skills, country, city and address as keys for the dictionary</li>\n",
    "<li>Get the length of the student dictionary</li>\n",
    "<li>Get the value of skills and check the data type, it should be a list</li>\n",
    "<li>Modify the skills values by adding one or two skills</li>\n",
    "<li>Get the dictionary keys as a list</li>\n",
    "<li>Get the dictionary values as a list</li>\n",
    "<li>Change the dictionary to a list of tuples using items() method</li>\n",
    "<li>Delete one of the items in the dictionary</li>\n",
    "<li>Delete one of the dictionaries</li>\n",
    "</ol>\n",
    "<br>=========================================<br>\n",
    "\n",
    "# exercice\n",
    "<ol>\n",
    "<li><font color=\"blue\">Créer un dictionnaire vide appelé chien</li>\n",
    "<li><font color=\"blue\">Ajouter le nom, la couleur, la race, les pattes et l'âge au dictionnaire chien</li>\n",
    "<li><font color=\"blue\">Créer un dictionnaire étudiant et ajouter les clés suivantes : prénom, nom, sexe, âge, état civil, compétences, pays, ville et adresse</li>\n",
    "<li><font color=\"blue\">Obtenir la longueur du dictionnaire étudiant</li>\n",
    "<li><font color=\"blue\">Obtenir la valeur des compétences et vérifier le type de données : il doit s'agir d'une liste</li>\n",
    "<li><font color=\"blue\">Modifier les valeurs des compétences en ajoutant une ou deux compétences</li>\n",
    "<li><font color=\"blue\">Obtenir les clés du dictionnaire sous forme de liste</li>\n",
    "<li><font color=\"blue\">Obtenir les valeurs du dictionnaire sous forme de liste</li>\n",
    "<li><font color=\"blue\">Transformer le dictionnaire en une liste de tuples à l'aide de la méthode items()</li>\n",
    "<li><font color=\"blue\">Supprimer un élément du dictionnaire</li>\n",
    "<li><font color=\"blue\">Supprimer un dictionnaire</li>\n",
    "</ol>"
   ]
  },
  {
   "cell_type": "code",
   "execution_count": null,
   "metadata": {},
   "outputs": [],
   "source": []
  }
 ],
 "metadata": {
  "kernelspec": {
   "display_name": "Python 3.10",
   "language": "python",
   "name": "python3.10"
  },
  "language_info": {
   "codemirror_mode": {
    "name": "ipython",
    "version": 3
   },
   "file_extension": ".py",
   "mimetype": "text/x-python",
   "name": "python",
   "nbconvert_exporter": "python",
   "pygments_lexer": "ipython3",
   "version": "3.10.5"
  }
 },
 "nbformat": 4,
 "nbformat_minor": 1
}
