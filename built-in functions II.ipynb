{
 "cells": [
  {
   "cell_type": "markdown",
   "metadata": {},
   "source": [
    "### Type Conversion Functions:\n",
    "<b>int(): </b>Converts a value to an integer.<br>\n",
    "<b>float(): </b>Converts a value to a floating-point number.<br>\n",
    "<b>str(): </b>Converts a value to a string.<br>\n",
    "<b>bool(): </b>Converts a value to a Boolean (True or False).\n",
    "    <br>===========<br>\n",
    "### <font color=\"blue\">Fonctions de conversion de type :</font>\n",
    "<font color=\"blue\">\n",
    "<b>int() : </b>Convertit une valeur en entier.<br>\n",
    "<b>float() : </b>Convertit une valeur en nombre à virgule flottante.<br>\n",
    "<b>str() : </b>Convertit une valeur en chaîne.<br>\n",
    "<b>bool() :</b> Convertit une valeur en booléen (Vrai ou Faux).\n",
    "    </font>"
   ]
  },
  {
   "cell_type": "code",
   "execution_count": 1,
   "metadata": {},
   "outputs": [
    {
     "name": "stdout",
     "output_type": "stream",
     "text": [
      "3 <class 'int'>\n",
      "3 <class 'str'>\n",
      "3.0 <class 'float'>\n"
     ]
    }
   ],
   "source": [
    "a = 3\n",
    "b = str(a)\n",
    "c = float(a)\n",
    "\n",
    "print(a, type(a))\n",
    "print(b, type(b))\n",
    "print(c, type(c))"
   ]
  },
  {
   "cell_type": "markdown",
   "metadata": {},
   "source": [
    "### Mathematical Functions:\n",
    "\n",
    "<b>abs(): </b>Returns the absolute value of a number.\n",
    "\n",
    "<b>round(): </b>Rounds a number to a specified number of decimal places.\n",
    "\n",
    "<b>max(): </b>Returns the largest item in an iterable or the largest of two or more arguments.\n",
    "\n",
    "<b>min(): </b>Returns the smallest item in an iterable or the smallest of two or more arguments.\n",
    "\n",
    "<b>sum(): </b>Sums the items of an iterable.\n",
    "<br>========<br>\n",
    "### <font color=\"blue\">Fonctions mathématiques :</font>\n",
    "<font color=\"blue\">\n",
    "<b>abs() : </b>Renvoie la valeur absolue d’un nombre.\n",
    "\n",
    "<b>round() : </b>Arrondit un nombre à un nombre spécifié de décimales.\n",
    "\n",
    "<b>max() : </b>Renvoie le plus grand élément d’un itérable ou le plus grand de deux arguments ou plus.\n",
    "\n",
    "<b>min() : </b>Renvoie le plus petit élément d’un itérable ou le plus petit de deux arguments ou plus.\n",
    "\n",
    "<b>sum() : </b>Additionne les éléments d’un itérable.\n",
    "    </font>"
   ]
  },
  {
   "cell_type": "code",
   "execution_count": 6,
   "metadata": {},
   "outputs": [
    {
     "name": "stdout",
     "output_type": "stream",
     "text": [
      "rounded value of x[2] list is:  21\n",
      "Sum of x is:  40.5666\n"
     ]
    }
   ],
   "source": [
    "x = [0, -10, 20.5666, 30]\n",
    "a = abs(x[1])\n",
    "\n",
    "print(\"Absolute value of x[1] is: \", a)\n",
    "print(\"Maximum numbner is x list is: \", max(x))\n",
    "print(\"Minimum numbner is x list is: \", min(x))\n",
    "print(\"rounded value of x[2] list is: \", round(x[2]))\n",
    "print(\"Sum of x is: \", sum(x))"
   ]
  },
  {
   "cell_type": "markdown",
   "metadata": {},
   "source": [
    "### Iterables and Sequence Functions:<br>\n",
    "len(): Returns the length (number of items) of an object.<br>\n",
    "sorted(): Returns a sorted list from the items in an iterable.<br>\n",
    "reversed(): Returns a reverse iterator over the values of a sequence.<br>\n",
    "range(): Generates a sequence of numbers.<br>\n",
    "<br>=============<br>\n",
    "### <font color=\"blue\">Itérables et fonctions de séquence :</font><br>\n",
    "<font color=\"blue\">\n",
    "len() : Renvoie la longueur (nombre d’éléments) d’un objet.<br>\n",
    "sorted() : Renvoie une liste triée à partir des éléments d’un itérable.<br>\n",
    "reversed() : Renvoie un itérateur inverse sur les valeurs d’une séquence.<br>\n",
    "range() : Génère une séquence de nombres.\n",
    "    </font>"
   ]
  },
  {
   "cell_type": "code",
   "execution_count": 3,
   "metadata": {},
   "outputs": [
    {
     "name": "stdout",
     "output_type": "stream",
     "text": [
      "3\n",
      "6\n",
      "3\n"
     ]
    }
   ],
   "source": [
    "# len() Example with a list /  Exemple avec une liste\n",
    "fruits = ['apple', 'banana', 'cherry']\n",
    "print(len(fruits))\n",
    "\n",
    "# Example with a string / Exemple avec une chaîne\n",
    "word = \"Python\"\n",
    "print(len(word)) \n",
    "\n",
    "# Example with a dictionary / Exemple avec un dictionnaire\n",
    "stock_prices = {'AAPL': 150, 'GOOGL': 2800, 'MSFT': 300}\n",
    "print(len(stock_prices))"
   ]
  },
  {
   "cell_type": "code",
   "execution_count": 4,
   "metadata": {},
   "outputs": [
    {
     "name": "stdout",
     "output_type": "stream",
     "text": [
      "[1, 2, 4, 5, 9]\n",
      "['Alice', 'Bob', 'Charlie']\n",
      "['AAPL', 'GOOGL', 'MSFT']\n"
     ]
    }
   ],
   "source": [
    "# sort() Example with numbers / Exemple avec des nombres\n",
    "numbers = [4, 2, 9, 1, 5]\n",
    "sorted_numbers = sorted(numbers)\n",
    "print(sorted_numbers)  \n",
    "\n",
    "# Example with strings / Exemple avec des chaînes\n",
    "names = [\"Charlie\", \"Alice\", \"Bob\"]\n",
    "print(sorted(names))  \n",
    "\n",
    "# Example with dictionary keys / Exemple avec des clés de dictionnaire\n",
    "stock_prices = {'AAPL': 150, 'GOOGL': 2800, 'MSFT': 300}\n",
    "print(sorted(stock_prices))  "
   ]
  },
  {
   "cell_type": "code",
   "execution_count": 5,
   "metadata": {},
   "outputs": [
    {
     "name": "stdout",
     "output_type": "stream",
     "text": [
      "[5, 4, 3, 2, 1]\n",
      "nohtyP\n"
     ]
    }
   ],
   "source": [
    "# reversed() Example with a list / Exemple avec une liste\n",
    "numbers = [1, 2, 3, 4, 5]\n",
    "rev_numbers = list(reversed(numbers))\n",
    "print(rev_numbers)  \n",
    "\n",
    "# Example with a string / Exemple avec une chaîne\n",
    "word = \"Python\"\n",
    "rev_word = ''.join(reversed(word))\n",
    "print(rev_word)  "
   ]
  },
  {
   "cell_type": "code",
   "execution_count": 6,
   "metadata": {},
   "outputs": [
    {
     "name": "stdout",
     "output_type": "stream",
     "text": [
      "0 1 2 3 4 [2, 3, 4, 5]\n",
      "[10, 8, 6, 4, 2]\n"
     ]
    }
   ],
   "source": [
    "# Basic range from 0 to 4 / Plage de base de 0 à 4\n",
    "for i in range(5): print(i, end=' ',) \n",
    "\n",
    "# Range with start and stop / Gamme avec démarrage et arrêt\n",
    "print(list(range(2, 6))) \n",
    "\n",
    "# Range with step / Gamme avec marchepied\n",
    "print(list(range(10, 0, -2))) "
   ]
  },
  {
   "cell_type": "markdown",
   "metadata": {},
   "source": [
    "<b>enumerate(): </b>Adds a counter to an iterable and returns it in a form of an enumerate object.\n",
    "\n",
    "<b>zip(): </b>Aggregates elements from two or more iterables.\n",
    "\n",
    "<b>map(): </b>Applies a function to all the items in an input list.\n",
    "\n",
    "<b>filter(): </b>Filters the items in an iterable based on a function.\n",
    "<br>===========<br>\n",
    "<font color=\"blue\">\n",
    "<b>enumerate() :</b> Ajoute un compteur à un itérable et le renvoie sous la forme d'un objet énuméré.</font><br>\n",
    "<font color=\"blue\">\n",
    "<b>zip() :</b> Agrège les éléments de deux itérables ou plus.</font><br>\n",
    "<font color=\"blue\">\n",
    "<b>map() : </b>Applique une fonction à tous les éléments d'une liste d'entrée.</font><br>\n",
    "<font color=\"blue\">\n",
    "<b>filter() : </b>Filtre les éléments d'un itérable en fonction d'une fonction.</font>"
   ]
  },
  {
   "cell_type": "code",
   "execution_count": 7,
   "metadata": {},
   "outputs": [
    {
     "name": "stdout",
     "output_type": "stream",
     "text": [
      "[2, 4, 6, 8, 10]\n"
     ]
    }
   ],
   "source": [
    "# The map() function applies a given function to all the items in an iterable (such as a list) and returns a map object (which can be converted to a list, tuple, etc.).\n",
    "# La fonction map() applique une fonction donnée à tous les éléments d'un itérable (comme une liste) et renvoie un objet map (qui peut être converti en liste, tuple, etc.).\n",
    "# Function to double a number / # Fonction pour doubler un nombre\n",
    "def double(x):\n",
    "    return x * 2\n",
    "\n",
    "# List of numbers\n",
    "numbers = [1, 2, 3, 4, 5]\n",
    "\n",
    "# Use map() to apply the double function to each element in the list / Utilisez map() pour appliquer la fonction double à chaque élément de la liste\n",
    "doubled_numbers = map(double, numbers)\n",
    "\n",
    "# Convert the map object to a list\n",
    "doubled_numbers_list = list(doubled_numbers)\n",
    "print(doubled_numbers_list)  \n"
   ]
  },
  {
   "cell_type": "code",
   "execution_count": 8,
   "metadata": {},
   "outputs": [
    {
     "name": "stdout",
     "output_type": "stream",
     "text": [
      "[2, 4, 6, 8, 10]\n"
     ]
    }
   ],
   "source": [
    "# The filter() function constructs an iterator from elements of an iterable for which a function returns true.\n",
    "#La fonction filter() construit un itérateur à partir des éléments d'un itérable pour lesquels une fonction renvoie true.\n",
    "\n",
    "# Function to check if a number is even / Fonction pour vérifier si un nombre est pair\n",
    "def is_even(x):\n",
    "    return x % 2 == 0\n",
    "\n",
    "# List of numbers\n",
    "numbers = [1, 2, 3, 4, 5, 6, 7, 8, 9, 10]\n",
    "\n",
    "# Use filter() to apply the is_even function and filter out even numbers\n",
    "# Utilisez filter() pour appliquer la fonction is_even et filtrer les nombres pairs\n",
    "even_numbers = filter(is_even, numbers)\n",
    "\n",
    "# Convert the filter object to a list / Convertir l'objet filtre en liste\n",
    "even_numbers_list = list(even_numbers)\n",
    "print(even_numbers_list)  "
   ]
  },
  {
   "cell_type": "code",
   "execution_count": 9,
   "metadata": {},
   "outputs": [
    {
     "name": "stdout",
     "output_type": "stream",
     "text": [
      "[1, 2, 5, 5, 6, 9]\n"
     ]
    }
   ],
   "source": [
    "#The sorted() function returns a new sorted list from the elements of any iterable.\n",
    "#La fonction sorted() renvoie une nouvelle liste triée à partir des éléments de n'importe quel itérable.\n",
    "\n",
    "# List of numbers\n",
    "numbers = [5, 2, 9, 1, 5, 6]\n",
    "\n",
    "# Use sorted() to sort the list / Utilisez sorted() pour trier la liste\n",
    "sorted_numbers = sorted(numbers)\n",
    "print(sorted_numbers) "
   ]
  },
  {
   "cell_type": "code",
   "execution_count": 10,
   "metadata": {},
   "outputs": [
    {
     "name": "stdout",
     "output_type": "stream",
     "text": [
      "[('Bob', 75), ('Alice', 85), ('Charlie', 95)]\n"
     ]
    }
   ],
   "source": [
    "# List of tuples / Liste de tuples\n",
    "students = [(\"Alice\", 85), (\"Bob\", 75), (\"Charlie\", 95)]\n",
    "\n",
    "# Sort by score (second item in each tuple) / Trier par score (deuxième élément de chaque tuple)\n",
    "sorted_students = sorted(students, key=lambda x: x[1])\n",
    "\n",
    "print(sorted_students)  \n"
   ]
  },
  {
   "cell_type": "code",
   "execution_count": 11,
   "metadata": {},
   "outputs": [
    {
     "name": "stdout",
     "output_type": "stream",
     "text": [
      "120\n"
     ]
    }
   ],
   "source": [
    "# The reduce() function from the functools module is used to apply a function cumulatively to the items of an iterable, from left to right, so as to reduce the iterable to a single value.\n",
    "#La fonction reduce() du module functools permet d'appliquer une fonction de manière cumulative aux éléments d'un itérable, de gauche à droite, afin de réduire l'itérable à une valeur unique.\n",
    "\n",
    "from functools import reduce\n",
    "\n",
    "# List of numbers\n",
    "numbers = [1, 2, 3, 4, 5]\n",
    "\n",
    "# Use reduce() to compute the product of all numbers \n",
    "#Utilisez reduce() pour calculer le produit de tous les nombres\n",
    "product = reduce(lambda x, y: x * y, numbers)\n",
    "print(product)  "
   ]
  },
  {
   "cell_type": "code",
   "execution_count": 12,
   "metadata": {},
   "outputs": [
    {
     "name": "stdout",
     "output_type": "stream",
     "text": [
      "[(1, 4), (2, 5), (3, 6)]\n"
     ]
    }
   ],
   "source": [
    "# The zip() function takes iterables (can be zero or more), aggregates them in a tuple, and returns it.\n",
    "# La fonction zip() prend des itérables (peuvent être nuls ou plus), les agrège dans un tuple et le renvoie.\n",
    "# Two lists\n",
    "list1 = [1, 2, 3]\n",
    "list2 = [4, 5, 6]\n",
    "\n",
    "# Use zip() to combine elements from both lists / Utilisez zip() pour combiner les éléments des deux listes\n",
    "zipped = zip(list1, list2)\n",
    "zipped_list = list(zipped)\n",
    "print(zipped_list)  "
   ]
  },
  {
   "cell_type": "code",
   "execution_count": 13,
   "metadata": {},
   "outputs": [
    {
     "name": "stdout",
     "output_type": "stream",
     "text": [
      "1: apple\n",
      "2: banana\n",
      "3: cherry\n"
     ]
    }
   ],
   "source": [
    "# The enumerate() function adds a counter to an iterable and returns it in the form of an enumerate object.\n",
    "#La fonction enumerate() ajoute un compteur à un itérable et le renvoie sous la forme d'un objet enumerate.\n",
    "# List of items\n",
    "items = [\"apple\", \"banana\", \"cherry\"]\n",
    "\n",
    "# Use enumerate() to get index and value / Utilisez enumerate() pour obtenir l'index et la valeur\n",
    "for index, item in enumerate(items, start=1):\n",
    "    print(f\"{index}: {item}\")"
   ]
  },
  {
   "cell_type": "markdown",
   "metadata": {},
   "source": [
    "### Exercises: Level 1\n",
    "<ol>\n",
    "<li>Explain the difference between map, filter, and reduce.</li>\n",
    "<li>Explain the difference between higher order function, closure and decorator</li>\n",
    "<li>Define a call function before map, filter or reduce, see examples.</li>\n",
    "<li>Use for loop to print each country in the countries list.</li>\n",
    "<li>Use for to print each name in the names list.</li>\n",
    "<li>Use for to print each number in the numbers list.</li>\n",
    "</ol>\n",
    "\n",
    "### <font color=\"blue\">Exercices : Niveau 1</font>\n",
    "<ol>\n",
    "<li><font color=\"blue\">Expliquez la différence entre map, filter et reduce.</font></li>\n",
    "<li><font color=\"blue\">Expliquez la différence entre fonction d'ordre supérieur, fermeture et décorateur.</font></li>\n",
    "<li><font color=\"blue\">Définissez une fonction d'appel avant map, filter ou reduce (voir exemples).</font></li>\n",
    "<li><font color=\"blue\">Utilisez la boucle for pour afficher chaque pays de la liste des pays.</font></li>\n",
    "<li><font color=\"blue\">Utilisez for pour afficher chaque nom de la liste des noms.</font></li>\n",
    "<li><font color=\"blue\">Utilisez for pour afficher chaque nombre de la liste des nombres.</font></li>\n",
    "</ol>"
   ]
  },
  {
   "cell_type": "markdown",
   "metadata": {},
   "source": [
    "### Exercises: Level 2\n",
    "<ol>\n",
    "<li>Use map to create a new list by changing each country to uppercase in the countries list</li>\n",
    "<li>Use map to create a new list by changing each number to its square in the numbers list</li>\n",
    "<li>Use map to change each name to uppercase in the names list</li>\n",
    "<li>Use filter to filter out countries containing 'land'.</li>\n",
    "<li>Use filter to filter out countries having exactly six characters.</li>\n",
    "<li>Use filter to filter out countries containing six letters and more in the country list.</li>\n",
    "<li>Use filter to filter out countries starting with an 'E'</li>\n",
    "</ol>\n",
    "\n",
    "### <font color=\"blue\">Exercices : Niveau 2</font>\n",
    "<ol>\n",
    "<li><font color=\"blue\">Utilisez la carte pour créer une liste en mettant chaque pays en majuscules dans la liste des pays.</font></li>\n",
    "<li><font color=\"blue\">Utilisez la carte pour créer une liste en mettant chaque nombre par sa case.</font></li>\n",
    "<li><font color=\"blue\">Utilisez la carte pour mettre chaque nom en majuscules dans la liste des noms.</font></li>\n",
    "<li><font color=\"blue\">Utilisez le filtre pour exclure les pays contenant le mot « land ».</font></li>\n",
    "<li><font color=\"blue\">Utilisez le filtre pour exclure les pays contenant exactement six caractères.</font></li>\n",
    "<li><font color=\"blue\">Utilisez le filtre pour exclure les pays contenant six lettres ou plus dans la liste des pays.</font></li>\n",
    "<li><font color=\"blue\">Utilisez le filtre pour exclure les pays commençant par un « E ».</font></li>\n",
    "</ol>"
   ]
  },
  {
   "cell_type": "code",
   "execution_count": null,
   "metadata": {},
   "outputs": [],
   "source": []
  }
 ],
 "metadata": {
  "kernelspec": {
   "display_name": "Python 3.10",
   "language": "python",
   "name": "python3.10"
  },
  "language_info": {
   "codemirror_mode": {
    "name": "ipython",
    "version": 3
   },
   "file_extension": ".py",
   "mimetype": "text/x-python",
   "name": "python",
   "nbconvert_exporter": "python",
   "pygments_lexer": "ipython3",
   "version": "3.10.5"
  }
 },
 "nbformat": 4,
 "nbformat_minor": 1
}
