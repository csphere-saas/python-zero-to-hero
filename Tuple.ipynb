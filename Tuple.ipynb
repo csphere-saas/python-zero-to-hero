{
 "cells": [
  {
   "cell_type": "markdown",
   "metadata": {},
   "source": [
    "# Tuple\n",
    "is a collection which is ordered and unchangeable or unmodifiable(immutable). Allows duplicate members.\n",
    "\n",
    "# <font color='blue'>Tuple\n",
    "<font color='blue'>est une collection ordonnée et immuable. Les membres peuvent être dupliqués."
   ]
  },
  {
   "cell_type": "code",
   "execution_count": 13,
   "metadata": {},
   "outputs": [
    {
     "name": "stdout",
     "output_type": "stream",
     "text": [
      "0\n"
     ]
    }
   ],
   "source": [
    "# this is an empty tuple / c'est un tuple vide\n",
    "empty_tuple = list() \n",
    "print(len(empty_tuple))"
   ]
  },
  {
   "cell_type": "code",
   "execution_count": 14,
   "metadata": {},
   "outputs": [],
   "source": [
    "# Tuple with initial values / Tuple avec valeurs initiales\n",
    "tpl = ('item1', 'item2','item3')"
   ]
  },
  {
   "cell_type": "code",
   "execution_count": 15,
   "metadata": {},
   "outputs": [
    {
     "data": {
      "text/plain": [
       "('banana', 'orange', 'mango', 'lemon')"
      ]
     },
     "execution_count": 15,
     "metadata": {},
     "output_type": "execute_result"
    }
   ],
   "source": [
    "fruits = ('banana', 'orange', 'mango', 'lemon')\n",
    "fruits"
   ]
  },
  {
   "cell_type": "code",
   "execution_count": 16,
   "metadata": {},
   "outputs": [
    {
     "name": "stdout",
     "output_type": "stream",
     "text": [
      "('banana', 'orange', 'mango', 'lemon')\n"
     ]
    }
   ],
   "source": [
    "print(fruits)"
   ]
  },
  {
   "cell_type": "code",
   "execution_count": 17,
   "metadata": {},
   "outputs": [
    {
     "data": {
      "text/plain": [
       "3"
      ]
     },
     "execution_count": 17,
     "metadata": {},
     "output_type": "execute_result"
    }
   ],
   "source": [
    "# We use the len() method to get the length of a tuple./ Nous utilisons la méthode len() pour obtenir la longueur d'un tuple.\n",
    "tpl = ('item1', 'item2', 'item3')\n",
    "len(tpl)"
   ]
  },
  {
   "cell_type": "code",
   "execution_count": 18,
   "metadata": {},
   "outputs": [
    {
     "name": "stdout",
     "output_type": "stream",
     "text": [
      "First item:  item1\n",
      "Second item:  item2\n"
     ]
    }
   ],
   "source": [
    "# Positive Indexing Similar to the list data type we use positive or negative indexing to access tuple items.\n",
    "# Indexation positive Similaire au type de données de liste, nous utilisons une indexation positive ou négative pour accéder aux éléments de tuple.\n",
    "tpl = ('item1', 'item2', 'item3')\n",
    "first_item = tpl[0]\n",
    "second_item = tpl[1]\n",
    "print(\"First item: \",first_item)\n",
    "print(\"Second item: \",second_item)"
   ]
  },
  {
   "cell_type": "code",
   "execution_count": 22,
   "metadata": {},
   "outputs": [
    {
     "name": "stdout",
     "output_type": "stream",
     "text": [
      "3\n",
      "lemon\n"
     ]
    }
   ],
   "source": [
    "fruits = ('banana', 'orange', 'mango', 'lemon')\n",
    "first_fruit = fruits[0]\n",
    "second_fruit = fruits[1]\n",
    "last_index =len(fruits) - 1\n",
    "last_fruit = fruits[last_index]\n",
    "print(last_index)\n",
    "print(last_fruit)"
   ]
  },
  {
   "cell_type": "code",
   "execution_count": 1,
   "metadata": {},
   "outputs": [
    {
     "name": "stdout",
     "output_type": "stream",
     "text": [
      "orange\n"
     ]
    }
   ],
   "source": [
    "# Negative indexing means beginning from the end, -1 refers to the last item, -2 refers to the second last and the negative of the list/tuple length refers to the first item.\n",
    "# L'indexation négative signifie commencer par la fin, -1 fait référence au dernier élément, -2 fait référence à l'avant-dernier et le négatif de la longueur de la liste/tuple fait référence au premier élément.\n",
    "fruits = ('banana', 'orange', 'mango', 'lemon')\n",
    "first_fruit = fruits[-4]\n",
    "\n",
    "second_fruit = fruits[-3]\n",
    "\n",
    "last_fruit = fruits[-1]\n",
    "print(second_fruit)"
   ]
  },
  {
   "cell_type": "code",
   "execution_count": 2,
   "metadata": {},
   "outputs": [
    {
     "name": "stdout",
     "output_type": "stream",
     "text": [
      "('banana', 'orange', 'mango', 'lemon')\n",
      "('orange', 'mango')\n"
     ]
    }
   ],
   "source": [
    "# We can slice out a sub-tuple by specifying a range of indexes where to start and where to end in the tuple, the return value will be a new tuple with the specified items.\n",
    "# Nous pouvons découper un sous-tuple en spécifiant une plage d'index où commencer et où terminer dans le tuple, la valeur de retour sera un nouveau tuple avec les éléments spécifiés.\n",
    "fruits = ('banana', 'orange', 'mango', 'lemon')\n",
    "all_items = fruits[0:4]         # all items / tous les objets\n",
    "all_items = fruits[0:]         # all items / tous les objets\n",
    "middle_two_items = fruits[1:3]  # does not include item at index 3 / n'inclut pas l'élément à l'index 3\n",
    "print(all_items)\n",
    "print(middle_two_items)"
   ]
  },
  {
   "cell_type": "code",
   "execution_count": 3,
   "metadata": {},
   "outputs": [
    {
     "name": "stdout",
     "output_type": "stream",
     "text": [
      "('orange', 'mango')\n",
      "('banana', 'orange', 'mango', 'lemon')\n",
      "('banana', 'orange', 'mango', 'lemon')\n",
      "('orange', 'mango', 'lemon')\n"
     ]
    }
   ],
   "source": [
    "fruits = ('banana', 'orange', 'mango', 'lemon')\n",
    "all_fruits = fruits[-4:]    # all items / tous les objets\n",
    "orange_mango = fruits[-3:-1]  # doesn't include item at index 3 / n'inclut pas l'élément à l'index 3\n",
    "orange_to_the_rest = fruits[-3:]\n",
    "print(orange_mango)\n",
    "print(all_fruits)\n",
    "print(all_fruits)\n",
    "print(orange_to_the_rest )\n"
   ]
  },
  {
   "cell_type": "code",
   "execution_count": 7,
   "metadata": {},
   "outputs": [
    {
     "name": "stdout",
     "output_type": "stream",
     "text": [
      "('apple', 'orange', 'mango', 'lemon')\n"
     ]
    }
   ],
   "source": [
    "# We can change tuples to lists and lists to tuples. Tuple is immutable if we want to modify a tuple we should change it to a list.\n",
    "# Nous pouvons transformer des tuples en listes et inversement. Un tuple est immuable : pour le modifier, il faut le transformer en liste.\n",
    "fruits = ('banana', 'orange', 'mango', 'lemon')\n",
    "fruits = list(fruits)\n",
    "\n",
    "fruits[0] = 'apple'\n",
    "print(fruits)  \n",
    "fruits = tuple(fruits)\n",
    "print(fruits)    "
   ]
  },
  {
   "cell_type": "code",
   "execution_count": 8,
   "metadata": {},
   "outputs": [
    {
     "name": "stdout",
     "output_type": "stream",
     "text": [
      "True\n",
      "False\n"
     ]
    },
    {
     "ename": "TypeError",
     "evalue": "'tuple' object does not support item assignment",
     "output_type": "error",
     "traceback": [
      "\u001b[0;31m---------------------------------------------------------------------------\u001b[0m",
      "\u001b[0;31mTypeError\u001b[0m                                 Traceback (most recent call last)",
      "Input \u001b[0;32mIn [8]\u001b[0m, in \u001b[0;36m<module>\u001b[0;34m\u001b[0m\n\u001b[1;32m      4\u001b[0m \u001b[38;5;28mprint\u001b[39m(\u001b[38;5;124m'\u001b[39m\u001b[38;5;124morange\u001b[39m\u001b[38;5;124m'\u001b[39m \u001b[38;5;129;01min\u001b[39;00m fruits)\n\u001b[1;32m      5\u001b[0m \u001b[38;5;28mprint\u001b[39m(\u001b[38;5;124m'\u001b[39m\u001b[38;5;124mapple\u001b[39m\u001b[38;5;124m'\u001b[39m \u001b[38;5;129;01min\u001b[39;00m fruits)\n\u001b[0;32m----> 6\u001b[0m \u001b[43mfruits\u001b[49m\u001b[43m[\u001b[49m\u001b[38;5;241;43m0\u001b[39;49m\u001b[43m]\u001b[49m \u001b[38;5;241m=\u001b[39m \u001b[38;5;124m'\u001b[39m\u001b[38;5;124mapple\u001b[39m\u001b[38;5;124m'\u001b[39m\n",
      "\u001b[0;31mTypeError\u001b[0m: 'tuple' object does not support item assignment"
     ]
    }
   ],
   "source": [
    "# We can check if an item exists or not in a tuple using in, it returns a boolean.\n",
    "# Nous pouvons vérifier si un élément existe ou non dans un tuple en utilisant in, il renvoie un booléen.\n",
    "fruits = ('banana', 'orange', 'mango', 'lemon')\n",
    "print('orange' in fruits)\n",
    "print('apple' in fruits)\n",
    "fruits[0] = 'apple' "
   ]
  },
  {
   "cell_type": "code",
   "execution_count": 24,
   "metadata": {},
   "outputs": [
    {
     "name": "stdout",
     "output_type": "stream",
     "text": [
      "('banana', 'orange', 'mango', 'lemon', 'Tomato', 'Potato', 'Cabbage', 'Onion', 'Carrot')\n"
     ]
    }
   ],
   "source": [
    "# We can join two or more tuples using + operator\n",
    "# Nous pouvons joindre deux ou plusieurs tuples en utilisant l'opérateur +\n",
    "fruits = ('banana', 'orange', 'mango', 'lemon')\n",
    "vegetables = ('Tomato', 'Potato', 'Cabbage','Onion', 'Carrot')\n",
    "fruits_and_vegetables = fruits + vegetables\n",
    "print(fruits_and_vegetables)"
   ]
  },
  {
   "cell_type": "code",
   "execution_count": 9,
   "metadata": {},
   "outputs": [
    {
     "ename": "NameError",
     "evalue": "name 'fruits' is not defined",
     "output_type": "error",
     "traceback": [
      "\u001b[0;31m---------------------------------------------------------------------------\u001b[0m",
      "\u001b[0;31mNameError\u001b[0m                                 Traceback (most recent call last)",
      "Input \u001b[0;32mIn [9]\u001b[0m, in \u001b[0;36m<module>\u001b[0;34m\u001b[0m\n\u001b[1;32m      3\u001b[0m fruits \u001b[38;5;241m=\u001b[39m (\u001b[38;5;124m'\u001b[39m\u001b[38;5;124mbanana\u001b[39m\u001b[38;5;124m'\u001b[39m, \u001b[38;5;124m'\u001b[39m\u001b[38;5;124morange\u001b[39m\u001b[38;5;124m'\u001b[39m, \u001b[38;5;124m'\u001b[39m\u001b[38;5;124mmango\u001b[39m\u001b[38;5;124m'\u001b[39m, \u001b[38;5;124m'\u001b[39m\u001b[38;5;124mlemon\u001b[39m\u001b[38;5;124m'\u001b[39m)\n\u001b[1;32m      4\u001b[0m \u001b[38;5;28;01mdel\u001b[39;00m fruits\n\u001b[0;32m----> 5\u001b[0m \u001b[38;5;28mprint\u001b[39m(\u001b[43mfruits\u001b[49m)\n",
      "\u001b[0;31mNameError\u001b[0m: name 'fruits' is not defined"
     ]
    }
   ],
   "source": [
    "# It is not possible to remove a single item in a tuple but it is possible to delete the tuple itself using del.\n",
    "# Il n'est pas possible de supprimer un seul élément dans un tuple, mais il est possible de supprimer le tuple lui-même en utilisant del.\n",
    "fruits = ('banana', 'orange', 'mango', 'lemon')\n",
    "del fruits\n",
    "print(fruits)"
   ]
  },
  {
   "cell_type": "code",
   "execution_count": 1,
   "metadata": {},
   "outputs": [],
   "source": [
    "x = (1,3,6)"
   ]
  },
  {
   "cell_type": "code",
   "execution_count": 6,
   "metadata": {},
   "outputs": [
    {
     "name": "stdout",
     "output_type": "stream",
     "text": [
      "Sum of x:  10\n",
      "Maximum of x:  6\n",
      "Minimum of x:  1\n"
     ]
    }
   ],
   "source": [
    "print(\"Sum of x: \", sum(x))\n",
    "print(\"Maximum of x: \", max(x))\n",
    "print(\"Minimum of x: \", min(x))"
   ]
  },
  {
   "cell_type": "code",
   "execution_count": 7,
   "metadata": {},
   "outputs": [
    {
     "data": {
      "text/plain": [
       "(1, 3, 6, 1, 3, 6)"
      ]
     },
     "execution_count": 7,
     "metadata": {},
     "output_type": "execute_result"
    }
   ],
   "source": [
    "2*x"
   ]
  },
  {
   "cell_type": "code",
   "execution_count": 9,
   "metadata": {},
   "outputs": [
    {
     "name": "stdout",
     "output_type": "stream",
     "text": [
      "2\n",
      "6\n",
      "12\n"
     ]
    }
   ],
   "source": [
    "for i in x:\n",
    "    print(i*2)"
   ]
  },
  {
   "cell_type": "code",
   "execution_count": 10,
   "metadata": {},
   "outputs": [
    {
     "name": "stdout",
     "output_type": "stream",
     "text": [
      "1\n",
      "1\n",
      "0\n"
     ]
    }
   ],
   "source": [
    "for i in x:\n",
    "    print(i%2)"
   ]
  },
  {
   "cell_type": "code",
   "execution_count": 11,
   "metadata": {},
   "outputs": [
    {
     "name": "stdout",
     "output_type": "stream",
     "text": [
      "The age of the person is:  34\n",
      "Household income is:  120670\n",
      "Number of children in the household:  1\n"
     ]
    }
   ],
   "source": [
    "(age, income, kids) = \"34:120670:1\".split(':')\n",
    "\n",
    "print(\"The age of the person is: \", age)\n",
    "print(\"Household income is: \", income)\n",
    "print (\"Number of children in the household: \", kids)"
   ]
  },
  {
   "cell_type": "markdown",
   "metadata": {},
   "source": [
    "### Exercise\n",
    "<ol>\n",
    "<li>Create an empty tuple</li>\n",
    "<li>Create a tuple containing names of your colleagues (imaginary colleagues are fine)</li>\n",
    "<li> Join female and male colleagues tuples and assign it to colleagues\n",
    "<li>How many colleagues do you have?</li>\n",
    "<li>Modify the colleagues tuple and add the name of your managers and MD and assign it to company_employees</li>\n",
    "</ol>\n",
    "\n",
    "=========<br>\n",
    "### <font color='blue'>Exercice\n",
    "<ol>\n",
    "<font color='blue'><li>Créez un tuple vide</li>\n",
    "<font color='blue'><li>Créez un tuple contenant les noms de vos collègues (des collègues imaginaires conviennent)</li>\n",
    "<font color='blue'><li>Joignez les tuples des collègues féminins et masculins et attribuez-les à des collègues.\n",
    "<font color='blue'><li>Combien de collègues avez-vous ?</li>\n",
    "<font color='blue'><li>Modifiez le tuple des collègues, ajoutez le nom de vos responsables et de votre directeur général et attribuez-le à company_employees.</li>\n",
    "</ol>"
   ]
  },
  {
   "cell_type": "markdown",
   "metadata": {},
   "source": [
    "### Exercise 2\n",
    "<ol>\n",
    "<li>Create fruits, vegetables and animal products tuples. Join the three tuples and assign it to a variable called food_stuff_tp.</li>\n",
    "<li>Change the about food_stuff_tp tuple to a food_stuff_lt list</li>\n",
    "<li>Slice out the middle item or items from the food_stuff_tp tuple or food_stuff_lt list.</li>\n",
    "<li>Slice out the first three items and the last three items from food_staff_lt list</li>\n",
    "<li>Delete the food_staff_tp tuple completely</li>\n",
    "</ol>\n",
    "=========<br>\n",
    "\n",
    "### <font color='blue'>Exercice 2\n",
    "<ol>\n",
    "<font color='blue'><li>Créez des tuples de fruits, légumes et produits animaux. Joignez les trois tuples et affectez-les à une variable appelée food_stuff_tp.</li>\n",
    "<font color='blue'><li>Transformez le tuple about food_stuff_tp en une liste food_stuff_lt.</li>\n",
    "<font color='blue'><li>Supprimez le ou les éléments du milieu du tuple food_stuff_tp ou de la liste food_stuff_lt.</li>\n",
    "<font color='blue'><li>Supprimez les trois premiers et les trois derniers éléments de la liste food_staff_lt.</li>\n",
    "<font color='blue'><li>Supprimez complètement le tuple food_staff_tp.</li>\n",
    "</ol>"
   ]
  },
  {
   "cell_type": "code",
   "execution_count": null,
   "metadata": {},
   "outputs": [],
   "source": []
  }
 ],
 "metadata": {
  "kernelspec": {
   "display_name": "Python 3.10",
   "language": "python",
   "name": "python3.10"
  },
  "language_info": {
   "codemirror_mode": {
    "name": "ipython",
    "version": 3
   },
   "file_extension": ".py",
   "mimetype": "text/x-python",
   "name": "python",
   "nbconvert_exporter": "python",
   "pygments_lexer": "ipython3",
   "version": "3.10.5"
  }
 },
 "nbformat": 4,
 "nbformat_minor": 1
}
