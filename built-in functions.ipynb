{
 "cells": [
  {
   "cell_type": "markdown",
   "metadata": {},
   "source": [
    "# Built-in Functions\n",
    "In Python functions are treated as first class citizens, allowing you to perform the following operations on functions:\n",
    "<ul>\n",
    "\n",
    "<li>A function can take one or more functions as parameters</li>\n",
    "<li>A function can be returned as a result of another function</li>\n",
    "<li>A function can be modified</li>\n",
    "<li>A function can be assigned to a variable</li>\n",
    "</ul>\n",
    "<br>\n",
    "In this section, we will cover:\n",
    "<ul>\n",
    "<li>Handling functions as parameters</li>\n",
    "<li>Returning functions as return value from another functions</li>\n",
    "<li>Using Python closures and decorators</li>\n",
    "</ul>\n",
    "\n",
    "# <font color=\"blue\">Fonctions intégrées</font>\n",
    "<font color=\"blue\">\n",
    "En Python, les fonctions sont traitées comme des éléments de première classe, ce qui permet d'effectuer les opérations suivantes :\n",
    "<ul>\n",
    "<li>Une fonction peut prendre une ou plusieurs fonctions comme paramètres ;</li>\n",
    "<li>Une fonction peut être renvoyée comme résultat d'une autre fonction ;</li>\n",
    "<li>Une fonction peut être modifiée ;</li>\n",
    "<li>Une fonction peut être affectée à une variable.</li>\n",
    "</ul>\n",
    "Dans cette section, nous aborderons :\n",
    "<ul>\n",
    "<li>La gestion des fonctions comme paramètres ;</li>\n",
    "<li>Le renvoi de fonctions comme valeur de retour d'autres fonctions ;</li>\n",
    "<li>L'utilisation des fermetures et des décorateurs Python.</li>\n",
    "</ul>\n",
    "</font>"
   ]
  },
  {
   "cell_type": "code",
   "execution_count": 1,
   "metadata": {},
   "outputs": [
    {
     "name": "stdout",
     "output_type": "stream",
     "text": [
      "15\n"
     ]
    }
   ],
   "source": [
    "# Function as a Parameter / Fonction comme paramètre\n",
    "def sum_numbers(nums):  # normal function / Fonction normale\n",
    "    return sum(nums)    # a sad function abusing the built-in sum function / une fonction triste abusant de la fonction somme intégrée\n",
    "\n",
    "def higher_order_function(f, lst):  # function as a parameter\n",
    "    summation = f(lst)\n",
    "    return summation\n",
    "result = higher_order_function(sum_numbers, [1, 2, 3, 4, 5])\n",
    "print(result)      "
   ]
  },
  {
   "cell_type": "code",
   "execution_count": 2,
   "metadata": {},
   "outputs": [],
   "source": [
    "def square(x):          # a square function\n",
    "    return x ** 2\n",
    "\n",
    "def cube(x):            # a cube function\n",
    "    return x ** 3\n",
    "\n",
    "def absolute(x):        # an absolute value function\n",
    "    if x >= 0:\n",
    "        return x\n",
    "    else:\n",
    "        return -(x)\n",
    "\n",
    "def higher_order_function(type): # a higher order function returning a function\n",
    "    if type == 'square':\n",
    "        return square\n",
    "    elif type == 'cube':\n",
    "        return cube\n",
    "    elif type == 'absolute':\n",
    "        return absolute"
   ]
  },
  {
   "cell_type": "code",
   "execution_count": 3,
   "metadata": {},
   "outputs": [
    {
     "name": "stdout",
     "output_type": "stream",
     "text": [
      "9\n",
      "27\n",
      "3\n"
     ]
    }
   ],
   "source": [
    "result = higher_order_function('square')\n",
    "print(result(3))      \n",
    "result = higher_order_function('cube')\n",
    "print(result(3))      \n",
    "result = higher_order_function('absolute')\n",
    "print(result(-3))     "
   ]
  },
  {
   "cell_type": "markdown",
   "metadata": {},
   "source": [
    "Python allows a nested function to access the outer scope of the enclosing function. This is is known as a Closure. Let us have a look at how closures work in Python. In Python, closure is created by nesting a function inside another encapsulating function and then returning the inner function. See the example below.\n",
    "\n",
    "<br>\n",
    "<font color=\"blue\">\n",
    "Python permet à une fonction imbriquée d'accéder à la portée externe de la fonction englobante. C'est ce qu'on appelle une fermeture. Voyons comment fonctionnent les fermetures en Python. En Python, une fermeture est créée en imbriquant une fonction dans une autre fonction encapsulante, puis en renvoyant la fonction interne. Voir l'exemple ci-dessous.</font>"
   ]
  },
  {
   "cell_type": "code",
   "execution_count": 9,
   "metadata": {},
   "outputs": [],
   "source": [
    "def add_ten():\n",
    "    ten = 10\n",
    "    def add(num):\n",
    "        return num + ten\n",
    "    return add"
   ]
  },
  {
   "cell_type": "code",
   "execution_count": 10,
   "metadata": {},
   "outputs": [
    {
     "name": "stdout",
     "output_type": "stream",
     "text": [
      "15\n",
      "20\n"
     ]
    }
   ],
   "source": [
    "closure_result = add_ten()\n",
    "print(closure_result(5))\n",
    "print(closure_result(10)) "
   ]
  },
  {
   "cell_type": "markdown",
   "metadata": {},
   "source": [
    "### Python Decorators\n",
    "A decorator is a design pattern in Python that allows a user to add new functionality to an existing object without modifying its structure. Decorators are usually called before the definition of a function you want to decorate.\n",
    "<br>To create a decorator function, we need an outer function with an inner wrapper function.\n",
    "\n",
    "### <font color=\"blue\"> Décorateurs Python</font>\n",
    "<font color=\"blue\">Un décorateur est un modèle de conception Python qui permet d'ajouter de nouvelles fonctionnalités à un objet existant sans modifier sa structure. Les décorateurs sont généralement appelés avant la définition de la fonction à décorer.<br>\n",
    "Pour créer une fonction décoratrice, nous avons besoin d'une fonction externe avec une fonction wrapper interne.</font>"
   ]
  },
  {
   "cell_type": "code",
   "execution_count": 1,
   "metadata": {},
   "outputs": [
    {
     "name": "stdout",
     "output_type": "stream",
     "text": [
      "WELCOME TO PYTHON\n"
     ]
    }
   ],
   "source": [
    "# Normal function\n",
    "def greeting():\n",
    "    return 'Welcome to Python'\n",
    "\n",
    "def uppercase_decorator(function):\n",
    "    def wrapper():\n",
    "        func = function()\n",
    "        make_uppercase = func.upper()\n",
    "        return make_uppercase\n",
    "    return wrapper\n",
    "g = uppercase_decorator(greeting)\n",
    "print(g())"
   ]
  },
  {
   "cell_type": "markdown",
   "metadata": {},
   "source": [
    "### Let us implement the example above with a decorator\n",
    "\n",
    "### <font color=\"blue\">Implémentons l'exemple ci-dessus avec un décorateur</font>"
   ]
  },
  {
   "cell_type": "code",
   "execution_count": 12,
   "metadata": {},
   "outputs": [],
   "source": [
    "'''This decorator function is a higher order function that takes a function as a parameter'''\n",
    "'''Cette fonction décoratrice est une fonction d'ordre supérieur qui prend une fonction comme paramètre'''\n",
    "\n",
    "def uppercase_decorator(function):\n",
    "    def wrapper():\n",
    "        func = function()\n",
    "        make_uppercase = func.upper()\n",
    "        return make_uppercase\n",
    "    return wrapper\n"
   ]
  },
  {
   "cell_type": "code",
   "execution_count": 13,
   "metadata": {},
   "outputs": [
    {
     "name": "stdout",
     "output_type": "stream",
     "text": [
      "WELCOME TO PYTHON\n"
     ]
    }
   ],
   "source": [
    "# Here is how to call the decorator / Voici comment appeler le décorateur\n",
    "@uppercase_decorator\n",
    "def greeting():\n",
    "    return 'Welcome to Python'\n",
    "print(greeting())"
   ]
  },
  {
   "cell_type": "markdown",
   "metadata": {},
   "source": [
    "### Applying Multiple Decorators to a Single Function\n",
    "\n",
    "### <font color=\"blue\">Application de plusieurs décorateurs à une seule fonction</font>"
   ]
  },
  {
   "cell_type": "code",
   "execution_count": 18,
   "metadata": {},
   "outputs": [],
   "source": [
    "# First Decorator / premier decorateur\n",
    "def uppercase_decorator(function):\n",
    "    def wrapper():\n",
    "        func = function()\n",
    "        make_uppercase = func.upper()\n",
    "        return make_uppercase\n",
    "    return wrapper\n",
    "\n",
    "# Second decorator / Deuxieme decorateur\n",
    "def split_string_decorator(function):\n",
    "    def wrapper():\n",
    "        func = function()\n",
    "        splitted_string = func.split()\n",
    "        return splitted_string\n",
    "\n",
    "    return wrapper"
   ]
  },
  {
   "cell_type": "code",
   "execution_count": 19,
   "metadata": {},
   "outputs": [
    {
     "name": "stdout",
     "output_type": "stream",
     "text": [
      "['WELCOME', 'TO', 'PYTHON']\n"
     ]
    }
   ],
   "source": [
    "# order with decorators is important in this case - .upper() function does not work with lists\n",
    "# l'ordre avec les décorateurs est important dans ce cas - la fonction .upper() ne fonctionne pas avec les listes\n",
    "@split_string_decorator\n",
    "@uppercase_decorator     \n",
    "def greeting():\n",
    "    return 'Welcome to Python'\n",
    "print(greeting())"
   ]
  },
  {
   "cell_type": "markdown",
   "metadata": {},
   "source": [
    "### Accepting Parameters in Decorator Functions\n",
    "Most of the time we need our functions to take parameters, so we might need to define a decorator that accepts parameters.\n",
    "\n",
    "### <font color=\"blue\">Acceptation de paramètres dans les fonctions décoratrices</font>\n",
    "<font color=\"blue\">La plupart du temps, nos fonctions doivent accepter des paramètres. Il peut donc être nécessaire de définir un décorateur acceptant des paramètres.</font>"
   ]
  },
  {
   "cell_type": "code",
   "execution_count": 20,
   "metadata": {},
   "outputs": [],
   "source": [
    "def decorator_with_parameters(function):\n",
    "    def wrapper_accepting_parameters(para1, para2, para3):\n",
    "        function(para1, para2, para3)\n",
    "        print(\"I live in {}\".format(para3))\n",
    "    return wrapper_accepting_parameters\n",
    "\n"
   ]
  },
  {
   "cell_type": "code",
   "execution_count": 21,
   "metadata": {},
   "outputs": [
    {
     "name": "stdout",
     "output_type": "stream",
     "text": [
      "I am Chayil Assih. I love to teach.\n",
      "I live in USA\n"
     ]
    }
   ],
   "source": [
    "@decorator_with_parameters\n",
    "def print_full_name(first_name, last_name, country):\n",
    "    print(\"I am {} {}. I love to teach.\".format(\n",
    "        first_name, last_name, country))\n",
    "\n",
    "print_full_name(\"Chayil\", \"Assih\",'USA')"
   ]
  },
  {
   "cell_type": "code",
   "execution_count": null,
   "metadata": {},
   "outputs": [],
   "source": [
    "\n"
   ]
  }
 ],
 "metadata": {
  "kernelspec": {
   "display_name": "Python 3.10",
   "language": "python",
   "name": "python3.10"
  },
  "language_info": {
   "codemirror_mode": {
    "name": "ipython",
    "version": 3
   },
   "file_extension": ".py",
   "mimetype": "text/x-python",
   "name": "python",
   "nbconvert_exporter": "python",
   "pygments_lexer": "ipython3",
   "version": "3.10.5"
  }
 },
 "nbformat": 4,
 "nbformat_minor": 1
}
