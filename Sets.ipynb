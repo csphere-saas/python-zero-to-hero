{
 "cells": [
  {
   "cell_type": "markdown",
   "metadata": {},
   "source": [
    "# Sets:\n",
    "Set is a collection of items. Let me take you back to your elementary or high school Mathematics lesson. The Mathematics definition of a set can be applied also in Python. Set is a collection of unordered and un-indexed distinct elements. In Python set is used to store unique items, and it is possible to find the union, intersection, difference, symmetric difference, subset, super set and disjoint set among sets.\n",
    "\n",
    "### Characteristics:<br>\n",
    "<ul>\n",
    "<li>Unordered</li>\n",
    "<li>No duplicate elements</li>\n",
    "<li>Mutable (elements can be added/removed)</li>\n",
    "</ul>\n",
    "\n",
    "### Real-Life Use Cases\n",
    "<ul>\n",
    "<li>Filter user tags</li>\n",
    "<li>Permission systems</li>\n",
    "<li>Keyword matching</li>\n",
    "<li>Duplicate removal </li>\n",
    "<li>Dataset comparisons</li></ul>\n",
    "=======<br>\n",
    "\n",
    "# <font color='blue'> Ensembles:\n",
    "<font color='blue'>Un ensemble est une collection d'éléments. Revenons à vos cours de mathématiques de primaire ou de lycée. La définition mathématique d'un ensemble s'applique également en Python. Un ensemble est une collection d'éléments distincts, non ordonnés et non indexés. En Python, un ensemble est utilisé pour stocker des éléments uniques, et il est possible de trouver l'union, l'intersection, la différence, la différence symétrique, le sous-ensemble, le sur-ensemble et l'ensemble disjoint parmi des ensembles.\n",
    "### <font color='blue'>Caractéristiques :<br>\n",
    "<ul>\n",
    "<font color='blue'><li>Non ordonné</li>\n",
    "<font color='blue'><li>Aucun élément en double</li>\n",
    "<font color='blue'><li>Mutable (ajout/suppression d'éléments possibles)</li>\n",
    "</ul>\n",
    "                                \n",
    "### <font color='blue'>Cas d'utilisation concrets\n",
    "<ul>\n",
    "<font color='blue'><li>Filtrage des tags utilisateur</li>\n",
    "<font color='blue'><li>Systèmes d'autorisation</li>\n",
    "<font color='blue'><li>Correspondance des mots-clés</li>\n",
    "<font color='blue'><li>Suppression des doublons</li>\n",
    "<font color='blue'><li>Comparaison d'ensembles de données</li></ul>"
   ]
  },
  {
   "cell_type": "code",
   "execution_count": 2,
   "metadata": {},
   "outputs": [
    {
     "data": {
      "text/plain": [
       "set()"
      ]
     },
     "execution_count": 2,
     "metadata": {},
     "output_type": "execute_result"
    }
   ],
   "source": [
    "# Creating an empty set / Création d'un ensemble vide\n",
    "st = set()\n",
    "st"
   ]
  },
  {
   "cell_type": "code",
   "execution_count": 1,
   "metadata": {},
   "outputs": [
    {
     "name": "stdout",
     "output_type": "stream",
     "text": [
      "Help on class set in module builtins:\n",
      "\n",
      "class set(object)\n",
      " |  set() -> new empty set object\n",
      " |  set(iterable) -> new set object\n",
      " |  \n",
      " |  Build an unordered collection of unique elements.\n",
      " |  \n",
      " |  Methods defined here:\n",
      " |  \n",
      " |  __and__(self, value, /)\n",
      " |      Return self&value.\n",
      " |  \n",
      " |  __contains__(...)\n",
      " |      x.__contains__(y) <==> y in x.\n",
      " |  \n",
      " |  __eq__(self, value, /)\n",
      " |      Return self==value.\n",
      " |  \n",
      " |  __ge__(self, value, /)\n",
      " |      Return self>=value.\n",
      " |  \n",
      " |  __getattribute__(self, name, /)\n",
      " |      Return getattr(self, name).\n",
      " |  \n",
      " |  __gt__(self, value, /)\n",
      " |      Return self>value.\n",
      " |  \n",
      " |  __iand__(self, value, /)\n",
      " |      Return self&=value.\n",
      " |  \n",
      " |  __init__(self, /, *args, **kwargs)\n",
      " |      Initialize self.  See help(type(self)) for accurate signature.\n",
      " |  \n",
      " |  __ior__(self, value, /)\n",
      " |      Return self|=value.\n",
      " |  \n",
      " |  __isub__(self, value, /)\n",
      " |      Return self-=value.\n",
      " |  \n",
      " |  __iter__(self, /)\n",
      " |      Implement iter(self).\n",
      " |  \n",
      " |  __ixor__(self, value, /)\n",
      " |      Return self^=value.\n",
      " |  \n",
      " |  __le__(self, value, /)\n",
      " |      Return self<=value.\n",
      " |  \n",
      " |  __len__(self, /)\n",
      " |      Return len(self).\n",
      " |  \n",
      " |  __lt__(self, value, /)\n",
      " |      Return self<value.\n",
      " |  \n",
      " |  __ne__(self, value, /)\n",
      " |      Return self!=value.\n",
      " |  \n",
      " |  __or__(self, value, /)\n",
      " |      Return self|value.\n",
      " |  \n",
      " |  __rand__(self, value, /)\n",
      " |      Return value&self.\n",
      " |  \n",
      " |  __reduce__(...)\n",
      " |      Return state information for pickling.\n",
      " |  \n",
      " |  __repr__(self, /)\n",
      " |      Return repr(self).\n",
      " |  \n",
      " |  __ror__(self, value, /)\n",
      " |      Return value|self.\n",
      " |  \n",
      " |  __rsub__(self, value, /)\n",
      " |      Return value-self.\n",
      " |  \n",
      " |  __rxor__(self, value, /)\n",
      " |      Return value^self.\n",
      " |  \n",
      " |  __sizeof__(...)\n",
      " |      S.__sizeof__() -> size of S in memory, in bytes\n",
      " |  \n",
      " |  __sub__(self, value, /)\n",
      " |      Return self-value.\n",
      " |  \n",
      " |  __xor__(self, value, /)\n",
      " |      Return self^value.\n",
      " |  \n",
      " |  add(...)\n",
      " |      Add an element to a set.\n",
      " |      \n",
      " |      This has no effect if the element is already present.\n",
      " |  \n",
      " |  clear(...)\n",
      " |      Remove all elements from this set.\n",
      " |  \n",
      " |  copy(...)\n",
      " |      Return a shallow copy of a set.\n",
      " |  \n",
      " |  difference(...)\n",
      " |      Return the difference of two or more sets as a new set.\n",
      " |      \n",
      " |      (i.e. all elements that are in this set but not the others.)\n",
      " |  \n",
      " |  difference_update(...)\n",
      " |      Remove all elements of another set from this set.\n",
      " |  \n",
      " |  discard(...)\n",
      " |      Remove an element from a set if it is a member.\n",
      " |      \n",
      " |      If the element is not a member, do nothing.\n",
      " |  \n",
      " |  intersection(...)\n",
      " |      Return the intersection of two sets as a new set.\n",
      " |      \n",
      " |      (i.e. all elements that are in both sets.)\n",
      " |  \n",
      " |  intersection_update(...)\n",
      " |      Update a set with the intersection of itself and another.\n",
      " |  \n",
      " |  isdisjoint(...)\n",
      " |      Return True if two sets have a null intersection.\n",
      " |  \n",
      " |  issubset(...)\n",
      " |      Report whether another set contains this set.\n",
      " |  \n",
      " |  issuperset(...)\n",
      " |      Report whether this set contains another set.\n",
      " |  \n",
      " |  pop(...)\n",
      " |      Remove and return an arbitrary set element.\n",
      " |      Raises KeyError if the set is empty.\n",
      " |  \n",
      " |  remove(...)\n",
      " |      Remove an element from a set; it must be a member.\n",
      " |      \n",
      " |      If the element is not a member, raise a KeyError.\n",
      " |  \n",
      " |  symmetric_difference(...)\n",
      " |      Return the symmetric difference of two sets as a new set.\n",
      " |      \n",
      " |      (i.e. all elements that are in exactly one of the sets.)\n",
      " |  \n",
      " |  symmetric_difference_update(...)\n",
      " |      Update a set with the symmetric difference of itself and another.\n",
      " |  \n",
      " |  union(...)\n",
      " |      Return the union of sets as a new set.\n",
      " |      \n",
      " |      (i.e. all elements that are in either set.)\n",
      " |  \n",
      " |  update(...)\n",
      " |      Update a set with the union of itself and others.\n",
      " |  \n",
      " |  ----------------------------------------------------------------------\n",
      " |  Class methods defined here:\n",
      " |  \n",
      " |  __class_getitem__(...) from builtins.type\n",
      " |      See PEP 585\n",
      " |  \n",
      " |  ----------------------------------------------------------------------\n",
      " |  Static methods defined here:\n",
      " |  \n",
      " |  __new__(*args, **kwargs) from builtins.type\n",
      " |      Create and return a new object.  See help(type) for accurate signature.\n",
      " |  \n",
      " |  ----------------------------------------------------------------------\n",
      " |  Data and other attributes defined here:\n",
      " |  \n",
      " |  __hash__ = None\n",
      "\n"
     ]
    }
   ],
   "source": [
    "help(set)"
   ]
  },
  {
   "cell_type": "code",
   "execution_count": 6,
   "metadata": {},
   "outputs": [
    {
     "name": "stdout",
     "output_type": "stream",
     "text": [
      "{19, 20, 22, 24, 25, 26}\n"
     ]
    }
   ],
   "source": [
    "# set A and B / Ensemble A et B\n",
    "A = {19, 22, 24, 20, 25, 26}\n",
    "B = {19, 22, 20, 25, 26, 24, 28, 27}\n",
    "print(A)"
   ]
  },
  {
   "cell_type": "code",
   "execution_count": 10,
   "metadata": {},
   "outputs": [
    {
     "name": "stdout",
     "output_type": "stream",
     "text": [
      "{'banana', 'mango', 'lemon', 'orange'}\n"
     ]
    }
   ],
   "source": [
    "# Creating a set with initial items / Création d'un ensemble avec des éléments initiaux\n",
    "fruits = {'banana', 'orange', 'mango', 'lemon',}\n",
    "print(fruits)\n"
   ]
  },
  {
   "cell_type": "code",
   "execution_count": 6,
   "metadata": {},
   "outputs": [
    {
     "data": {
      "text/plain": [
       "6"
      ]
     },
     "execution_count": 6,
     "metadata": {},
     "output_type": "execute_result"
    }
   ],
   "source": [
    "# We use len() method to find the length of a set. / \n",
    "#Nous utilisons la méthode len() pour trouver la longueur d'un ensemble.\n",
    "\n",
    "len(fruits)"
   ]
  },
  {
   "cell_type": "code",
   "execution_count": 5,
   "metadata": {},
   "outputs": [
    {
     "name": "stdout",
     "output_type": "stream",
     "text": [
      "True\n"
     ]
    }
   ],
   "source": [
    "# To check if an item exist in a list we use in membership operator.\n",
    "# Pour vérifier si un élément existe dans une liste, nous utilisons l'opérateur d'appartenance.\n",
    "fruits = {'banana', 'orange', 'mango', 'lemon'}\n",
    "print('mango' in fruits )"
   ]
  },
  {
   "cell_type": "code",
   "execution_count": 9,
   "metadata": {},
   "outputs": [
    {
     "name": "stdout",
     "output_type": "stream",
     "text": [
      "{'orange', 'lemon', 'mango', 'banana'}\n",
      "{'orange', 'lemon', 'lime', 'mango', 'banana'}\n"
     ]
    }
   ],
   "source": [
    "# Once a set is created we cannot change any items and we can also add additional items. Add one item using add()\n",
    "# Une fois l'ensemble créé, nous ne pouvons plus modifier aucun élément, et nous pouvons en ajouter d'autres. Ajoutez un élément avec add().\n",
    "fruits = {'banana', 'orange', 'mango', 'lemon'}\n",
    "print(fruits)\n",
    "fruits.add('lime')\n",
    "print(fruits)"
   ]
  },
  {
   "cell_type": "code",
   "execution_count": 14,
   "metadata": {},
   "outputs": [
    {
     "name": "stdout",
     "output_type": "stream",
     "text": [
      "{'potato', 'orange', 'onion', 'lemon', 'carrot', 'tomato', 'cabbage', 'mango', 'banana'}\n"
     ]
    }
   ],
   "source": [
    "# Add multiple items using update() The update() allows to add multiple items to a set. The update() takes a list argument.\n",
    "# Ajouter plusieurs éléments en utilisant update(). La fonction update() permet d'ajouter plusieurs éléments à un ensemble. Elle prend un argument de liste.\n",
    "fruits = {'banana', 'orange', 'mango', 'lemon'}\n",
    "vegetables = ('tomato', 'potato', 'cabbage','onion', 'carrot', 'mango')\n",
    "fruits.update(vegetables)\n",
    "print(fruits)\n"
   ]
  },
  {
   "cell_type": "code",
   "execution_count": 15,
   "metadata": {},
   "outputs": [
    {
     "data": {
      "text/plain": [
       "{'lemon', 'mango', 'orange'}"
      ]
     },
     "execution_count": 15,
     "metadata": {},
     "output_type": "execute_result"
    }
   ],
   "source": [
    "# We can remove an item from a set using remove() method. If the item is not found remove() method will raise errors, so it is good to check if the item exist in the given set. However, discard() method doesn't raise any errors.\n",
    "fruits = {'banana', 'orange', 'mango', 'lemon'}\n",
    "fruits.remove('banana')\n",
    "fruits"
   ]
  },
  {
   "cell_type": "code",
   "execution_count": 14,
   "metadata": {},
   "outputs": [
    {
     "data": {
      "text/plain": [
       "'orange'"
      ]
     },
     "execution_count": 14,
     "metadata": {},
     "output_type": "execute_result"
    }
   ],
   "source": [
    "# The pop() methods remove a random item from a list and it returns the removed item.\n",
    "# Les méthodes pop() suppriment un élément aléatoire d'une liste et renvoient l'élément supprimé.\n",
    "fruits = {'banana', 'orange', 'mango', 'lemon'}\n",
    "fruits.pop()  # removes a random item from the set / supprime un élément aléatoire de l'ensemble"
   ]
  },
  {
   "cell_type": "code",
   "execution_count": 16,
   "metadata": {},
   "outputs": [
    {
     "data": {
      "text/plain": [
       "'orange'"
      ]
     },
     "execution_count": 16,
     "metadata": {},
     "output_type": "execute_result"
    }
   ],
   "source": [
    "# If we are interested in the removed item. / Si nous sommes intéressés par l'article supprimé.\n",
    "fruits = {'banana', 'orange', 'mango', 'lemon'}\n",
    "removed_item = fruits.pop() \n",
    "removed_item"
   ]
  },
  {
   "cell_type": "code",
   "execution_count": 17,
   "metadata": {},
   "outputs": [
    {
     "name": "stdout",
     "output_type": "stream",
     "text": [
      "set()\n"
     ]
    }
   ],
   "source": [
    "# If we want to clear or empty the set we use clear method. / Si nous voulons effacer ou vider l'ensemble, nous utilisons la méthode clear.\n",
    "fruits = {'banana', 'orange', 'mango', 'lemon'}\n",
    "fruits.clear()\n",
    "print(fruits) "
   ]
  },
  {
   "cell_type": "code",
   "execution_count": 20,
   "metadata": {},
   "outputs": [],
   "source": [
    "# If we want to delete the set itself we use del operator. / Si nous voulons supprimer l'ensemble lui-même, nous utilisons l'opérateur del.\n",
    "fruits = {'banana', 'orange', 'mango', 'lemon'}\n",
    "del fruits\n",
    "#fruits "
   ]
  },
  {
   "cell_type": "code",
   "execution_count": 21,
   "metadata": {},
   "outputs": [
    {
     "name": "stdout",
     "output_type": "stream",
     "text": [
      "{'orange', 'banana', 'mango', 'lemon'}\n"
     ]
    }
   ],
   "source": [
    "# We can convert list to set and set to list. Converting list to set removes duplicates and only unique items will be reserved.\n",
    "# Nous pouvons convertir une liste en ensemble et inversement. Convertir une liste en ensemble supprime les doublons et seuls les éléments uniques sont réservés.\n",
    "fruits = ['banana', 'orange', 'mango', 'lemon','orange', 'banana']\n",
    "fruits = set(fruits)\n",
    "print(fruits)"
   ]
  },
  {
   "cell_type": "markdown",
   "metadata": {},
   "source": [
    "### Joining Sets\n",
    "We can join two sets using the union() or update() method.\n",
    "Union This method returns a new set\n",
    "\n",
    "=====<br>\n",
    "\n",
    "### <font color='blue'>Joindre des ensembles\n",
    "<font color='blue'>On peut joindre deux ensembles à l'aide des méthodes union() ou update().\n",
    "<font color='blue'>Union : cette méthode renvoie un nouvel ensemble."
   ]
  },
  {
   "cell_type": "code",
   "execution_count": 34,
   "metadata": {},
   "outputs": [
    {
     "name": "stdout",
     "output_type": "stream",
     "text": [
      "Using union function:  {'FTSE 100', 'S&P 500', 'Dow Jones', 'Russell 2000', 'NASDAQ'}\n",
      "Using the pipe symbol:  {'FTSE 100', 'S&P 500', 'Dow Jones', 'Russell 2000', 'NASDAQ'}\n"
     ]
    }
   ],
   "source": [
    "# Set of stock indices in the Technology sector\n",
    "# Ensemble d'indices boursiers du secteur technologique\n",
    "tech_indices = {\"NASDAQ\", \"S&P 500\", \"Russell 2000\"}\n",
    "\n",
    "# Set of stock indices in the Finance sector\n",
    "# Ensemble d'indices boursiers du secteur financier\n",
    "finance_indices = {\"Dow Jones\", \"S&P 500\", \"FTSE 100\"}\n",
    "\n",
    "all_stocks = tech_indices.union(finance_indices)\n",
    "print(\"Using union function: \", all_stocks)\n",
    "\n",
    "# Using pipe symbol(|) to accomplish the above / Utiliser le symbole du tuyau (|) pour réaliser ce qui précède\n",
    "all_stocks = tech_indices|finance_indices\n",
    "print(\"Using the pipe symbol: \", all_stocks)"
   ]
  },
  {
   "cell_type": "code",
   "execution_count": 30,
   "metadata": {},
   "outputs": [
    {
     "name": "stdout",
     "output_type": "stream",
     "text": [
      "{'FTSE 100', 'S&P 500', 'Dow Jones', 'Russell 2000', 'NASDAQ'}\n"
     ]
    }
   ],
   "source": [
    "# Using update() to join two or more sets / \n",
    "tech_indices.update(finance_indices)\n",
    "print(tech_indices)\n"
   ]
  },
  {
   "cell_type": "code",
   "execution_count": 31,
   "metadata": {},
   "outputs": [
    {
     "name": "stdout",
     "output_type": "stream",
     "text": [
      "Intersection of Tech and Finance indices: {'FTSE 100', 'Dow Jones', 'S&P 500'}\n"
     ]
    }
   ],
   "source": [
    "# Intersection returns a set of items which are in both the sets. / Intersection renvoie un ensemble d'éléments qui se trouvent dans les deux ensembles.\n",
    "common_indices = tech_indices & finance_indices\n",
    "print(\"Intersection of Tech and Finance indices:\", common_indices)"
   ]
  },
  {
   "cell_type": "code",
   "execution_count": 32,
   "metadata": {},
   "outputs": [
    {
     "name": "stdout",
     "output_type": "stream",
     "text": [
      "Intersection of Tech and Finance indices: {'FTSE 100', 'Dow Jones', 'S&P 500'}\n"
     ]
    }
   ],
   "source": [
    "common_indices = tech_indices.intersection(finance_indices)\n",
    "print(\"Intersection of Tech and Finance indices:\", common_indices)"
   ]
  },
  {
   "cell_type": "code",
   "execution_count": 36,
   "metadata": {},
   "outputs": [
    {
     "name": "stdout",
     "output_type": "stream",
     "text": [
      "Tech indices not in Finance: {'Russell 2000', 'NASDAQ'}\n",
      "==========\t\n",
      "Finance indices not in Finance: {'FTSE 100', 'Dow Jones'}\n"
     ]
    }
   ],
   "source": [
    "# Checking the Difference Between Two Sets / Vérification de la différence entre deux ensembles\n",
    "#Operation: Find stock indices that are in the Technology sector but not in the Finance sector.\n",
    "#Opération : Rechercher des indices boursiers qui sont dans le secteur de la Technologie mais pas dans le secteur de la Finance.\n",
    "tech_only_indices = tech_indices - finance_indices\n",
    "finance_only_indices = finance_indices - tech_indices\n",
    "\n",
    "print(\"Tech indices not in Finance:\", tech_only_indices)\n",
    "print(\"==========\\t\")\n",
    "print(\"Finance indices not in Tech:\", finance_only_indices)"
   ]
  },
  {
   "cell_type": "code",
   "execution_count": 38,
   "metadata": {},
   "outputs": [
    {
     "name": "stdout",
     "output_type": "stream",
     "text": [
      "Tech indices not in Finance: {'Russell 2000', 'NASDAQ'}\n",
      "==========\t\n",
      "Finance indices not in Finance: {'FTSE 100', 'Dow Jones'}\n"
     ]
    }
   ],
   "source": [
    "tech_only_indices = tech_indices.difference(finance_indices)\n",
    "finance_only_indices = finance_indices.difference(tech_indices)\n",
    "\n",
    "print(\"Tech indices not in Finance:\", tech_only_indices)\n",
    "print(\"==========\\t\")\n",
    "print(\"Finance indices not in Finance:\", finance_only_indices)"
   ]
  },
  {
   "cell_type": "code",
   "execution_count": 18,
   "metadata": {},
   "outputs": [
    {
     "data": {
      "text/plain": [
       "True"
      ]
     },
     "execution_count": 18,
     "metadata": {},
     "output_type": "execute_result"
    }
   ],
   "source": [
    "# Checking Subset and Super Set / Vérification du sous-ensemble et du super-ensemble\n",
    "whole_numbers = {0, 1, 2, 3, 4, 5, 6, 7, 8, 9, 10}\n",
    "even_numbers = {0, 2, 4, 6, 8, 10}\n",
    "whole_numbers.issubset(even_numbers) \n",
    "even_numbers.issubset(whole_numbers)"
   ]
  },
  {
   "cell_type": "code",
   "execution_count": 40,
   "metadata": {},
   "outputs": [
    {
     "data": {
      "text/plain": [
       "True"
      ]
     },
     "execution_count": 40,
     "metadata": {},
     "output_type": "execute_result"
    }
   ],
   "source": [
    "whole_numbers.issuperset(even_numbers) "
   ]
  },
  {
   "cell_type": "code",
   "execution_count": 43,
   "metadata": {},
   "outputs": [
    {
     "data": {
      "text/plain": [
       "{0, 6, 7, 8, 10, 13}"
      ]
     },
     "execution_count": 43,
     "metadata": {},
     "output_type": "execute_result"
    }
   ],
   "source": [
    "# It returns the symmetric difference between two sets. It means that it returns a set that contains all items from both sets, except items that are present in both sets, mathematically: (A\\B) ∪ (B\\A)\n",
    "# Elle renvoie la différence symétrique entre deux ensembles. Autrement dit, elle renvoie un ensemble contenant tous les éléments des deux ensembles, à l'exception de ceux qui y sont présents, mathématiquement : (A\\B) ∪ (B\\A)\n",
    "whole_numbers = {0, 1, 2, 3, 4, 5, 6, 7, 8, 9, 10}\n",
    "some_numbers = {1, 2, 3, 4, 5, 9, 13}\n",
    "whole_numbers.symmetric_difference(some_numbers)"
   ]
  },
  {
   "cell_type": "code",
   "execution_count": 44,
   "metadata": {},
   "outputs": [
    {
     "data": {
      "text/plain": [
       "True"
      ]
     },
     "execution_count": 44,
     "metadata": {},
     "output_type": "execute_result"
    }
   ],
   "source": [
    "# If two sets do not have a common item or items we call them disjoint sets. We can check if two sets are joint or disjoint using isdisjoint() method.\n",
    "# Si deux ensembles n'ont pas d'élément(s) en commun, on les appelle des ensembles disjoints. La méthode isdisjoint() permet de vérifier si deux ensembles sont joints ou disjoints.\n",
    "even_numbers = {0, 2, 4 ,6, 8}\n",
    "odd_numbers = {1, 3, 5, 7, 9}\n",
    "even_numbers.isdisjoint(odd_numbers)"
   ]
  },
  {
   "cell_type": "markdown",
   "metadata": {},
   "source": [
    "# Exercise"
   ]
  },
  {
   "cell_type": "code",
   "execution_count": 45,
   "metadata": {},
   "outputs": [],
   "source": [
    "\n",
    "it_companies = {'Facebook', 'Google', 'Microsoft', 'Apple', 'IBM', 'Oracle', 'Amazon'}\n",
    "A = {19, 22, 24, 20, 25, 26}\n",
    "B = {19, 22, 20, 25, 26, 24, 28, 27}\n",
    "age = [22, 19, 24, 25, 26, 24, 25, 24]\n",
    "\n"
   ]
  },
  {
   "cell_type": "markdown",
   "metadata": {},
   "source": [
    "### Part I\n",
    "<ol>\n",
    "<li>Find the length of the set it_companies</li>\n",
    "<li>Add 'Twitter' to it_companies</li>\n",
    "<li>Insert multiple IT companies at once to the set it_companies</li>\n",
    "<li>Remove one of the companies from the set it_companies</li>\n",
    "<li>What is the difference between remove and discard</li>\n",
    "</ol>\n",
    "\n",
    "=========<br>\n",
    "\n",
    "<ol>\n",
    "<font color='blue'><li>Trouver la longueur de l'ensemble « it_companies »</li>\n",
    "<font color='blue'><li>Ajouter « Twitter » à « it_companies »</li>\n",
    "<font color='blue'><li>Insérer plusieurs entreprises informatiques simultanément dans l'ensemble « it_companies »</li>\n",
    "<font color='blue'><li>Supprimer une entreprise de l'ensemble « it_companies »</li>\n",
    "<font color='blue'><li>Quelle est la différence entre « supprimer » et « ignorer » ?</li>\n",
    "</ol>"
   ]
  },
  {
   "cell_type": "markdown",
   "metadata": {},
   "source": [
    "### Part II\n",
    "<ol>\n",
    "<li>Join A and B</li>\n",
    "<li>Find A intersection B</li>\n",
    "<li>Is A subset of B</li>\n",
    "<li>Are A and B disjoint sets</li>\n",
    "<li>Join A with B and B with A</li>\n",
    "<li>What is the symmetric difference between A and B</li>\n",
    "<li>Delete the sets completely</li>\n",
    "</ol>\n",
    "===========<br>\n",
    "<ol>\n",
    "<font color='blue'><li>Joindre A et B</li>\n",
    "<font color='blue'><li>Trouver une intersection B</li>\n",
    "<font color='blue'><li>Est un sous-ensemble de B</li>\n",
    "<font color='blue'><li>A et B sont-ils des ensembles disjoints ?</li>\n",
    "<font color='blue'><li>Joindre A à B et B à A</li>\n",
    "<font color='blue'><li>Quelle est la différence de symétrie entre A et B ?</li>\n",
    "<font color='blue'><li>Supprimer complètement les ensembles.</li>\n",
    "</ol>"
   ]
  },
  {
   "cell_type": "markdown",
   "metadata": {},
   "source": [
    "# Sets\n",
    "Sets in Python are a powerful tool for managing collections of unique elements. In this example, we used sets to manage stock indices in different sectors and performed operations like union, intersection, difference, and symmetric difference to explore relationships between these sets. Additionally, we demonstrated how to add and remove elements from a set, showing how sets can be dynamically managed in Python.\n",
    "These operations are particularly useful in data science and finance when dealing with large datasets where relationships between different groups of data need to be analyzed. Understanding how to work with sets effectively can greatly enhance your ability to manipulate and analyze data in Python.\n",
    "<br>==============<br>\n",
    "# <font color='blue'>Ensemble\n",
    "<font color='blue'>En Python, les ensembles constituent un outil puissant pour gérer des collections d'éléments uniques. Dans cet exemple, nous avons utilisé des ensembles pour gérer des indices boursiers de différents secteurs et effectué des opérations telles que l'union, l'intersection, la différence et la différence symétrique afin d'explorer les relations entre ces ensembles. De plus, nous avons montré comment ajouter et supprimer des éléments d'un ensemble, illustrant ainsi la gestion dynamique des ensembles en Python.\n",
    "Ces opérations sont particulièrement utiles en science des données et en finance pour traiter de grands ensembles de données nécessitant l'analyse des relations entre différents groupes de données. Comprendre comment utiliser efficacement les ensembles peut grandement améliorer votre capacité à manipuler et analyser les données en Python."
   ]
  },
  {
   "cell_type": "code",
   "execution_count": null,
   "metadata": {},
   "outputs": [],
   "source": []
  }
 ],
 "metadata": {
  "kernelspec": {
   "display_name": "Python 3.10",
   "language": "python",
   "name": "python3.10"
  },
  "language_info": {
   "codemirror_mode": {
    "name": "ipython",
    "version": 3
   },
   "file_extension": ".py",
   "mimetype": "text/x-python",
   "name": "python",
   "nbconvert_exporter": "python",
   "pygments_lexer": "ipython3",
   "version": "3.10.5"
  }
 },
 "nbformat": 4,
 "nbformat_minor": 1
}
