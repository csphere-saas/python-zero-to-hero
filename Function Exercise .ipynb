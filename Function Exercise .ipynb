{
 "cells": [
  {
   "cell_type": "markdown",
   "metadata": {},
   "source": [
    "# Functions \n",
    "\n",
    "### Exercise I\n",
    "<ol>\n",
    "<li>Declare a function add_two_numbers. It takes two parameters and it returns a sum.</li>\n",
    "<li>Area of a circle is calculated as follows: area = π x r x r. Write a function that calculates area_of_circle.</li>\n",
    "<li>Write a function called add_all_nums which takes arbitrary number of arguments and sums all the arguments. Check if all the list items are number types. If not do give a reasonable feedback.</li>\n",
    "<li>Temperature in °C can be converted to °F using this formula: °F = (°C x 9/5) + 32. Write a function which converts °C to °F, convert_celsius_to-fahrenheit.</li>\n",
    "<li>Write a function called check-season, it takes a month parameter and returns the season: Autumn, Winter, Spring or Summer.</li>\n",
    "<li>Write a function called calculate_slope which return the slope of a linear equation</li>\n",
    "<li>Quadratic equation is calculated as follows: ax² + bx + c = 0. Write a function which calculates solution set of a quadratic equation, solve_quadratic_eqn.</li>\n",
    "</ol>\n",
    "\n",
    "<ol><font color=\"blue\">\n",
    "<li>Déclarez une fonction addition_deux_nombres. Elle prend deux paramètres et renvoie une somme.</li>\n",
    "<li>L'aire d'un cercle se calcule comme suit : aire = π x r x r. Écrivez une fonction qui calcule aire_du_cercle.</li>\n",
    "<li>Écrivez une fonction appelée additionner_tous_nombres qui prend un nombre arbitraire d'arguments et les additionne tous. Vérifiez si tous les éléments de la liste sont de type numérique. Sinon, veuillez fournir un commentaire raisonnable.</li>\n",
    "<li>La température en °C peut être convertie en °F grâce à la formule suivante : °F = (°C x 9/5) + 32. Écrivez une fonction qui convertit les °C en °F : convert_celsius_to-fahrenheit.</li>\n",
    "<li>Écrivez une fonction appelée check-season, qui prend un mois comme paramètre et renvoie la saison : automne, hiver, printemps ou été.</li>\n",
    "<li>Écrivez une fonction appelée calculate_slope, qui renvoie la pente d'une équation linéaire.</li>\n",
    "<li>Une équation quadratique se calcule comme suit : ax² + bx + c = 0. Écrivez une fonction qui calcule l'ensemble solution d'une équation quadratique : solve_quadratic_eqn.</li>\n",
    "</font>\n",
    "        </ol>"
   ]
  },
  {
   "cell_type": "code",
   "execution_count": 18,
   "metadata": {},
   "outputs": [],
   "source": [
    "# This function returns the sum of two numbers.\n",
    "# Cette fonction retourne la somme de deux nombres.\n",
    "def add_two_numbers(a, b):\n",
    "    return a + b\n",
    "\n"
   ]
  },
  {
   "cell_type": "code",
   "execution_count": 19,
   "metadata": {},
   "outputs": [
    {
     "name": "stdout",
     "output_type": "stream",
     "text": [
      "10\n"
     ]
    }
   ],
   "source": [
    "print(add_two_numbers(3, 7))"
   ]
  },
  {
   "cell_type": "code",
   "execution_count": 20,
   "metadata": {},
   "outputs": [],
   "source": [
    "import math\n",
    "\n",
    "# This function calculates the area of a circle given the radius.\n",
    "# Cette fonction calcule l’aire d’un cercle donné le rayon.\n",
    "def area_of_circle(r):\n",
    "    return math.pi * r ** 2\n",
    "\n"
   ]
  },
  {
   "cell_type": "code",
   "execution_count": 23,
   "metadata": {},
   "outputs": [
    {
     "name": "stdout",
     "output_type": "stream",
     "text": [
      "78.53981633974483\n"
     ]
    }
   ],
   "source": [
    "print(area_of_circle(5))"
   ]
  },
  {
   "cell_type": "code",
   "execution_count": 24,
   "metadata": {},
   "outputs": [],
   "source": [
    "# This function sums all arguments if they are numbers.\n",
    "# Cette fonction additionne tous les arguments s’ils sont des nombres.\n",
    "def add_all_nums(*args):\n",
    "    if all(isinstance(i, (int, float)) for i in args):\n",
    "        return sum(args)\n",
    "    else:\n",
    "        return \"Error: All items must be numbers. / Erreur : Tous les éléments doivent être des nombres.\"\n"
   ]
  },
  {
   "cell_type": "code",
   "execution_count": 25,
   "metadata": {},
   "outputs": [
    {
     "name": "stdout",
     "output_type": "stream",
     "text": [
      "6\n"
     ]
    }
   ],
   "source": [
    "print(add_all_nums(1, 2, 3)) "
   ]
  },
  {
   "cell_type": "code",
   "execution_count": 26,
   "metadata": {},
   "outputs": [
    {
     "name": "stdout",
     "output_type": "stream",
     "text": [
      "Error: All items must be numbers. / Erreur : Tous les éléments doivent être des nombres.\n"
     ]
    }
   ],
   "source": [
    "print(add_all_nums(1, \"a\", 3))"
   ]
  },
  {
   "cell_type": "code",
   "execution_count": 27,
   "metadata": {},
   "outputs": [],
   "source": [
    "# Converts temperature from Celsius to Fahrenheit.\n",
    "# Convertit la température de Celsius en Fahrenheit.\n",
    "def convert_celsius_to_fahrenheit(c):\n",
    "    return (c * 9/5) + 32"
   ]
  },
  {
   "cell_type": "code",
   "execution_count": 28,
   "metadata": {},
   "outputs": [
    {
     "name": "stdout",
     "output_type": "stream",
     "text": [
      "32.0\n"
     ]
    }
   ],
   "source": [
    "print(convert_celsius_to_fahrenheit(0))"
   ]
  },
  {
   "cell_type": "code",
   "execution_count": 29,
   "metadata": {},
   "outputs": [],
   "source": [
    "# This function returns the season based on the month (in English or French).\n",
    "# Cette fonction retourne la saison à partir du mois (en anglais ou français).\n",
    "def check_season(month):\n",
    "    month = month.lower()\n",
    "    autumn = ['september', 'october', 'november', 'septembre', 'octobre', 'novembre']\n",
    "    winter = ['december', 'january', 'february', 'décembre', 'janvier', 'février']\n",
    "    spring = ['march', 'april', 'may', 'mars', 'avril', 'mai']\n",
    "    summer = ['june', 'july', 'august', 'juin', 'juillet', 'août']\n",
    "\n",
    "    if month in autumn:\n",
    "        return \"Autumn / Automne\"\n",
    "    elif month in winter:\n",
    "        return \"Winter / Hiver\"\n",
    "    elif month in spring:\n",
    "        return \"Spring / Printemps\"\n",
    "    elif month in summer:\n",
    "        return \"Summer / Été\"\n",
    "    else:\n",
    "        return \"Unknown month / Mois inconnu\"\n",
    "\n"
   ]
  },
  {
   "cell_type": "code",
   "execution_count": 30,
   "metadata": {},
   "outputs": [
    {
     "name": "stdout",
     "output_type": "stream",
     "text": [
      "Spring / Printemps\n"
     ]
    }
   ],
   "source": [
    "print(check_season(\"mars\")) "
   ]
  },
  {
   "cell_type": "code",
   "execution_count": 42,
   "metadata": {},
   "outputs": [],
   "source": [
    "# This function calculates the slope of a line given two points.\n",
    "# Cette fonction calcule la pente d'une droite à partir de deux points.\n",
    "def calculate_slope(x1, y1, x2, y2):\n",
    "    try:\n",
    "        return (y2 - y1) / (x2 - x1)\n",
    "    except ZeroDivisionError:\n",
    "        return \"Undefined slope (division by zero) / Pente indéfinie (division par zéro)\"\n",
    "\n"
   ]
  },
  {
   "cell_type": "code",
   "execution_count": 43,
   "metadata": {},
   "outputs": [
    {
     "name": "stdout",
     "output_type": "stream",
     "text": [
      "The slope of the line is / la pente de la droite est:  0.5\n"
     ]
    }
   ],
   "source": [
    "print(\"The slope of the line is / la pente de la droite est: \", calculate_slope(0, 0, 4, 2))"
   ]
  },
  {
   "cell_type": "code",
   "execution_count": 50,
   "metadata": {},
   "outputs": [],
   "source": [
    "import cmath\n",
    "\n",
    "# This function solves a quadratic equation and returns two roots.\n",
    "# Cette fonction résout une équation quadratique et retourne deux racines.\n",
    "def solve_quadratic_eqn(a, b, c):\n",
    "    delta = cmath.sqrt(b**2 - 4*a*c)\n",
    "    x1 = (-b + delta) / (2*a)\n",
    "    x2 = (-b - delta) / (2*a)\n",
    "    return x1, x2\n",
    "\n"
   ]
  },
  {
   "cell_type": "code",
   "execution_count": 53,
   "metadata": {},
   "outputs": [
    {
     "name": "stdout",
     "output_type": "stream",
     "text": [
      "The 2 roots are / Les 2 racines sont:  ((1+0j), (-1+0j))\n"
     ]
    }
   ],
   "source": [
    "print(\"The 2 roots are / Les 2 racines sont: \", solve_quadratic_eqn(1, 0, -1))"
   ]
  },
  {
   "cell_type": "markdown",
   "metadata": {},
   "source": [
    "# Functions\n",
    "\n",
    "### Exercise II\n",
    "<ol>\n",
    "<li>Write a function called is_prime, which checks if a number is prime.</li>\n",
    "<li>Write a functions which checks if all items are unique in the list.</li>\n",
    "<li>Write a function which checks if all the items of the list are of the same data type.</li>\n",
    "<li>Write a function which check if provided variable is a valid python variable</li>\n",
    "</ol>\n",
    "\n",
    "<ol><font color=\"blue\">\n",
    "<li>Écrivez une fonction appelée is_prime, qui vérifie si un nombre est premier.</li>\n",
    "<li>Écrivez une fonction qui vérifie si tous les éléments de la liste sont uniques.</li>\n",
    "<li>Écrivez une fonction qui vérifie si tous les éléments de la liste sont du même type de données.</li>\n",
    "<li>Écrivez une fonction qui vérifie si la variable fournie est une variable Python valide.</li>\n",
    "</font></ol>\n"
   ]
  },
  {
   "cell_type": "markdown",
   "metadata": {},
   "source": [
    "### Check if a Number is Prime\n",
    "\n",
    "### <font color='blue'>Vérifier si un nombre est premier"
   ]
  },
  {
   "cell_type": "code",
   "execution_count": 1,
   "metadata": {},
   "outputs": [],
   "source": [
    "# A prime number is only divisible by 1 and itself.\n",
    "# Un nombre premier n'est divisible que par 1 et par lui-même.\n",
    "\n",
    "def is_prime(num):\n",
    "    \"\"\"Return True if num is a prime number, else False.\"\"\"\n",
    "    if num <= 1:\n",
    "        return False\n",
    "    for i in range(2, int(num ** 0.5) + 1):  # only check up to sqrt(num)\n",
    "        if num % i == 0:\n",
    "            return False\n",
    "    return True"
   ]
  },
  {
   "cell_type": "code",
   "execution_count": 2,
   "metadata": {},
   "outputs": [
    {
     "name": "stdout",
     "output_type": "stream",
     "text": [
      "True\n"
     ]
    }
   ],
   "source": [
    "print(is_prime(7))"
   ]
  },
  {
   "cell_type": "code",
   "execution_count": 3,
   "metadata": {},
   "outputs": [
    {
     "name": "stdout",
     "output_type": "stream",
     "text": [
      "False\n"
     ]
    }
   ],
   "source": [
    "print(is_prime(10)) "
   ]
  },
  {
   "cell_type": "markdown",
   "metadata": {},
   "source": [
    "### Check if All Items in a List are Unique\n",
    "### <font color='blue'>Vérifiez si tous les éléments d'une liste sont uniques"
   ]
  },
  {
   "cell_type": "code",
   "execution_count": 4,
   "metadata": {},
   "outputs": [],
   "source": [
    "# We can compare the length of the list to the length of its set (since sets remove duplicates).\n",
    "# Nous pouvons comparer la longueur de la liste à la longueur de son ensemble (puisque les ensembles suppriment les doublons).\n",
    "\n",
    "def are_items_unique(lst):\n",
    "    \"\"\"Return True if all items in the list are unique.\"\"\"\n",
    "    return len(lst) == len(set(lst))\n"
   ]
  },
  {
   "cell_type": "code",
   "execution_count": 5,
   "metadata": {},
   "outputs": [
    {
     "name": "stdout",
     "output_type": "stream",
     "text": [
      "True\n"
     ]
    }
   ],
   "source": [
    "print(are_items_unique([1, 2, 3]))"
   ]
  },
  {
   "cell_type": "code",
   "execution_count": 6,
   "metadata": {},
   "outputs": [
    {
     "name": "stdout",
     "output_type": "stream",
     "text": [
      "False\n"
     ]
    }
   ],
   "source": [
    "print(are_items_unique([1, 2, 2, 3]))"
   ]
  },
  {
   "cell_type": "markdown",
   "metadata": {},
   "source": [
    "### Check if All Items are of the Same Data Type\n",
    "### <font color='blue'>Vérifiez si tous les éléments sont du même type de données"
   ]
  },
  {
   "cell_type": "code",
   "execution_count": 8,
   "metadata": {},
   "outputs": [],
   "source": [
    "# We use type() to check the type of the first item and compare it to all others.\n",
    "# Nous utilisons type() pour vérifier le type du premier élément et le comparer à tous les autres.\n",
    "\n",
    "def are_same_type(lst):\n",
    "    \"\"\"Return True if all elements in the list are of the same type.\"\"\"\n",
    "    if not lst:\n",
    "        return True  # empty list considered homogeneous\n",
    "    first_type = type(lst[0])\n",
    "    return all(isinstance(item, first_type) for item in lst)"
   ]
  },
  {
   "cell_type": "code",
   "execution_count": 9,
   "metadata": {},
   "outputs": [
    {
     "name": "stdout",
     "output_type": "stream",
     "text": [
      "True\n"
     ]
    }
   ],
   "source": [
    "print(are_same_type([1, 2, 3]))    "
   ]
  },
  {
   "cell_type": "code",
   "execution_count": 10,
   "metadata": {},
   "outputs": [
    {
     "name": "stdout",
     "output_type": "stream",
     "text": [
      "False\n"
     ]
    }
   ],
   "source": [
    "print(are_same_type([1, \"2\", 3.0])) "
   ]
  },
  {
   "cell_type": "markdown",
   "metadata": {},
   "source": [
    "### Check if a Variable Name is a Valid Python Identifier\n",
    "### <font color='blue'> Vérifier si un nom de variable est un identifiant Python valide"
   ]
  },
  {
   "cell_type": "code",
   "execution_count": 11,
   "metadata": {},
   "outputs": [],
   "source": [
    "# Python has a built‑in string method .isidentifier() for this purpose.\n",
    "# Python dispose d'une méthode de chaîne intégrée .isidentifier() à cet effet.\n",
    "def is_valid_variable(var_name):\n",
    "    \"\"\"Return True if the given string is a valid Python variable name.\"\"\"\n",
    "    return var_name.isidentifier()"
   ]
  },
  {
   "cell_type": "code",
   "execution_count": 12,
   "metadata": {},
   "outputs": [
    {
     "name": "stdout",
     "output_type": "stream",
     "text": [
      "True\n"
     ]
    }
   ],
   "source": [
    "print(is_valid_variable(\"age\"))  "
   ]
  },
  {
   "cell_type": "code",
   "execution_count": 13,
   "metadata": {},
   "outputs": [
    {
     "name": "stdout",
     "output_type": "stream",
     "text": [
      "False\n"
     ]
    }
   ],
   "source": [
    "print(is_valid_variable(\"2nd_name\")) "
   ]
  },
  {
   "cell_type": "code",
   "execution_count": 14,
   "metadata": {},
   "outputs": [
    {
     "name": "stdout",
     "output_type": "stream",
     "text": [
      "True\n"
     ]
    }
   ],
   "source": [
    "print(is_valid_variable(\"user_name\"))"
   ]
  },
  {
   "cell_type": "code",
   "execution_count": 15,
   "metadata": {},
   "outputs": [
    {
     "name": "stdout",
     "output_type": "stream",
     "text": [
      "True\n"
     ]
    }
   ],
   "source": [
    "print(is_valid_variable(\"for\"))# Syntactically valid, but reserved keyword / Mot-clé syntaxiquement valide, mais réservé"
   ]
  },
  {
   "cell_type": "markdown",
   "metadata": {},
   "source": [
    "If you also want to exclude Python keywords, you can extend it using the keyword module:<br>\n",
    "    \n",
    "<font color='blue'>Si vous souhaitez également exclure les mots-clés Python, vous pouvez l'étendre à l'aide du module de mots-clés :"
   ]
  },
  {
   "cell_type": "code",
   "execution_count": 16,
   "metadata": {},
   "outputs": [],
   "source": [
    "import keyword\n",
    "\n",
    "def is_valid_variable(var_name):\n",
    "    \"\"\"Return True if var_name is a valid Python variable (not a keyword).\"\"\"\n",
    "    return var_name.isidentifier() and not keyword.iskeyword(var_name)"
   ]
  },
  {
   "cell_type": "code",
   "execution_count": 17,
   "metadata": {},
   "outputs": [
    {
     "name": "stdout",
     "output_type": "stream",
     "text": [
      "True\n"
     ]
    }
   ],
   "source": [
    "print(is_valid_variable(\"user_name\"))"
   ]
  },
  {
   "cell_type": "markdown",
   "metadata": {},
   "source": [
    "# Built-in Functions \n",
    "\n",
    "### Exercises: Level 1\n",
    "<ol>\n",
    "<li>Explain the difference between map, filter, and reduce.</li>\n",
    "<li>Explain the difference between higher order function, closure and decorator</li>\n",
    "<li>Define a call function before map, filter or reduce, see examples.</li>\n",
    "<li>Use for loop to print each country in the countries list.</li>\n",
    "<li>Use for to print each name in the names list.</li>\n",
    "<li>Use for to print each number in the numbers list.</li>\n",
    "</ol>\n",
    "\n",
    "### <font color=\"blue\">Exercices : Niveau 1</font>\n",
    "<ol>\n",
    "<li><font color=\"blue\">Expliquez la différence entre map, filter et reduce.</font></li>\n",
    "<li><font color=\"blue\">Expliquez la différence entre fonction d'ordre supérieur, fermeture et décorateur.</font></li>\n",
    "<li><font color=\"blue\">Définissez une fonction d'appel avant map, filter ou reduce (voir exemples).</font></li>\n",
    "<li><font color=\"blue\">Utilisez la boucle for pour afficher chaque pays de la liste des pays.</font></li>\n",
    "<li><font color=\"blue\">Utilisez for pour afficher chaque nom de la liste des noms.</font></li>\n",
    "<li><font color=\"blue\">Utilisez for pour afficher chaque nombre de la liste des nombres.</font></li>\n",
    "</ol>"
   ]
  },
  {
   "cell_type": "markdown",
   "metadata": {},
   "source": [
    "| Function   | Description                                                       | Input                                | Output                   |\n",
    "| ---------- | ----------------------------------------------------------------- | ------------------------------------ | ------------------------ |\n",
    "| `map()`    | Applies a function to every item in an iterable                   | Function + Iterable                  | New iterable             |\n",
    "| `filter()` | Selects items from an iterable that match a condition             | Function (returning bool) + Iterable | Filtered iterable        |\n",
    "| `reduce()` | Applies a rolling computation to pairs of values from an iterable | Function + Iterable                  | Single accumulated value |\n",
    "\n",
    "\n",
    "| <font color='blue'>Fonction | <font color='blue'>Description | <font color='blue'>Entrée | <font color='blue'>Sortie |\n",
    "| ---------- | ----------------------------------------------------------------- | ------------------------------------ | ------------------------ |\n",
    "| `map()` | Applique une fonction à chaque élément d'un itérable | Fonction + Itérable | Nouvel itérable |\n",
    "| `filter()` | Sélectionne les éléments d'un itérable qui remplissent une condition | Fonction (retournant un booléen) + Itérable | Itérable filtré |\n",
    "| `reduce()` | Applique un calcul continu aux paires de valeurs d'un itérable | Fonction + Itérable | Valeur accumulée unique |\n"
   ]
  },
  {
   "cell_type": "code",
   "execution_count": 56,
   "metadata": {},
   "outputs": [],
   "source": [
    "# real-life: Transforming prices, converting currencies, applying formatting.\n",
    "# vie réelle : Transformer les prix, convertir les devises, appliquer la mise en forme.\n",
    "def square(n): return n * n\n",
    "numbers = [1, 2, 3, 4]\n",
    "squares = list(map(square, numbers))\n"
   ]
  },
  {
   "cell_type": "code",
   "execution_count": 57,
   "metadata": {},
   "outputs": [
    {
     "name": "stdout",
     "output_type": "stream",
     "text": [
      "[1, 4, 9, 16]\n"
     ]
    }
   ],
   "source": [
    "print(squares)"
   ]
  },
  {
   "cell_type": "code",
   "execution_count": 62,
   "metadata": {},
   "outputs": [],
   "source": [
    "# Real-life use: Filtering data rows, validation checks, selecting records.\n",
    "# Utilisation concrète : filtrage des lignes de données, contrôles de validation, sélection d'enregistrements.\n",
    "def is_even(n): return n % 2 == 0\n",
    "numbers = [1, 2, 3, 4, 11, 34]\n",
    "evens = list(filter(is_even, numbers))\n"
   ]
  },
  {
   "cell_type": "code",
   "execution_count": 63,
   "metadata": {},
   "outputs": [
    {
     "name": "stdout",
     "output_type": "stream",
     "text": [
      "[2, 4, 34]\n"
     ]
    }
   ],
   "source": [
    "print(evens)"
   ]
  },
  {
   "cell_type": "code",
   "execution_count": 66,
   "metadata": {},
   "outputs": [],
   "source": [
    "# Real-life use: Aggregating totals, factorials, cumulative calculations.\n",
    "# Utilisation concrète : agrégation de totaux, factoriels, calculs cumulatifs.\n",
    "\n",
    "from functools import reduce \n",
    "\n",
    "def multiply(x, y): return x * y\n",
    "result = reduce(multiply, [1, 2, 3, 4])\n"
   ]
  },
  {
   "cell_type": "code",
   "execution_count": 67,
   "metadata": {},
   "outputs": [
    {
     "name": "stdout",
     "output_type": "stream",
     "text": [
      "24\n"
     ]
    }
   ],
   "source": [
    "print(result) "
   ]
  },
  {
   "cell_type": "markdown",
   "metadata": {},
   "source": [
    "Higher-Order Functions (HOF)\n",
    "\n",
    "A Higher-Order Function is a function that:\n",
    "\n",
    "Takes one or more functions as arguments\n",
    "\n",
    "Returns a function as result\n",
    "\n",
    "<br>\n",
    "<font color='blue'>\n",
    "Fonctions d'ordre supérieur (HOF)\n",
    "\n",
    "Une fonction d'ordre supérieur est une fonction qui :\n",
    "\n",
    "Prend une ou plusieurs fonctions comme arguments ;\n",
    "\n",
    "Renvoie une fonction comme résultat."
   ]
  },
  {
   "cell_type": "code",
   "execution_count": 74,
   "metadata": {},
   "outputs": [],
   "source": [
    "def apply_twice(f, x): return f(f(x))\n"
   ]
  },
  {
   "cell_type": "code",
   "execution_count": 75,
   "metadata": {},
   "outputs": [],
   "source": [
    "\n",
    "def add_five(n): return n + 5\n"
   ]
  },
  {
   "cell_type": "code",
   "execution_count": 76,
   "metadata": {},
   "outputs": [
    {
     "name": "stdout",
     "output_type": "stream",
     "text": [
      "20\n"
     ]
    }
   ],
   "source": [
    "print(apply_twice( add_five, 10))"
   ]
  },
  {
   "cell_type": "code",
   "execution_count": 77,
   "metadata": {},
   "outputs": [],
   "source": [
    "# A Closure is a function that retains the binding of the free variables from its lexical scope.\n",
    "# Une fermeture est une fonction qui conserve la liaison des variables libres de sa portée lexicale.\n",
    "def outer(x):\n",
    "    def inner(y):\n",
    "        return x + y\n",
    "    return inner\n"
   ]
  },
  {
   "cell_type": "code",
   "execution_count": 79,
   "metadata": {},
   "outputs": [
    {
     "name": "stdout",
     "output_type": "stream",
     "text": [
      "15\n"
     ]
    }
   ],
   "source": [
    "# Used in decorators, state preservation, custom filters.\n",
    "# Utilisé dans les décorateurs, la préservation de l'état, les filtres personnalisés.\n",
    "add10 = outer(10)\n",
    "print(add10(5))"
   ]
  },
  {
   "cell_type": "code",
   "execution_count": 80,
   "metadata": {},
   "outputs": [],
   "source": [
    "# A Decorator is a special type of HOF that modifies the behavior of another function.\n",
    "# Un décorateur est un type spécial de HOF qui modifie le comportement d'une autre fonction.\n",
    "\n",
    "def log_function(fn):\n",
    "    def wrapper(*args, **kwargs):\n",
    "        print(f\"Calling {fn.__name__}\")\n",
    "        return fn(*args, **kwargs)\n",
    "    return wrapper\n",
    "\n"
   ]
  },
  {
   "cell_type": "code",
   "execution_count": 81,
   "metadata": {},
   "outputs": [
    {
     "name": "stdout",
     "output_type": "stream",
     "text": [
      "Calling greet\n",
      "Hello Python\n"
     ]
    }
   ],
   "source": [
    "@log_function # Decorator / Decorateur\n",
    "def greet(name): return f\"Hello {name}\"\n",
    "\n",
    "print(greet(\"Python\"))"
   ]
  },
  {
   "cell_type": "code",
   "execution_count": 82,
   "metadata": {},
   "outputs": [],
   "source": [
    "# Pre-Defined Functions with map, filter, reduce / Fonctions prédéfinies avec mappage, filtrage, réduction\n",
    "# Before calling map/filter/reduce / Avant d'appeler map/filter/reduce\n",
    "def square(n): return n * n\n",
    "def is_even(n): return n % 2 == 0\n",
    "def multiply(x, y): return x * y"
   ]
  },
  {
   "cell_type": "code",
   "execution_count": 84,
   "metadata": {},
   "outputs": [
    {
     "data": {
      "text/plain": [
       "[1, 4, 9]"
      ]
     },
     "execution_count": 84,
     "metadata": {},
     "output_type": "execute_result"
    }
   ],
   "source": [
    "list(map(square, [1, 2, 3]))\n"
   ]
  },
  {
   "cell_type": "code",
   "execution_count": 85,
   "metadata": {},
   "outputs": [
    {
     "data": {
      "text/plain": [
       "[2]"
      ]
     },
     "execution_count": 85,
     "metadata": {},
     "output_type": "execute_result"
    }
   ],
   "source": [
    "list(filter(is_even, [1, 2, 3]))\n"
   ]
  },
  {
   "cell_type": "code",
   "execution_count": 86,
   "metadata": {},
   "outputs": [
    {
     "data": {
      "text/plain": [
       "6"
      ]
     },
     "execution_count": 86,
     "metadata": {},
     "output_type": "execute_result"
    }
   ],
   "source": [
    "reduce(multiply, [1, 2, 3])"
   ]
  },
  {
   "cell_type": "code",
   "execution_count": 87,
   "metadata": {},
   "outputs": [
    {
     "name": "stdout",
     "output_type": "stream",
     "text": [
      "Togo\n",
      "USA\n",
      "Russia\n",
      "China\n",
      "Burkina Faso\n"
     ]
    }
   ],
   "source": [
    "countries = ['Togo', 'USA', 'Russia', 'China','Burkina Faso']\n",
    "for country in countries:\n",
    "    print(country)"
   ]
  },
  {
   "cell_type": "code",
   "execution_count": 89,
   "metadata": {},
   "outputs": [
    {
     "name": "stdout",
     "output_type": "stream",
     "text": [
      "1: Togo\n",
      "2: USA\n",
      "3: Russia\n",
      "4: China\n",
      "5: Burkina Faso\n"
     ]
    }
   ],
   "source": [
    "for index, country in enumerate(countries, start=1):\n",
    "    print(f\"{index}: {country}\")"
   ]
  },
  {
   "cell_type": "markdown",
   "metadata": {},
   "source": [
    "# Built-in Functions\n",
    "\n",
    "### Exercises: Level 2\n",
    "<ol>\n",
    "<li>Use map to create a new list by changing each country to uppercase in the countries list</li>\n",
    "<li>Use map to create a new list by changing each number to its square in the numbers list</li>\n",
    "<li>Use map to change each name to uppercase in the names list</li>\n",
    "<li>Use filter to filter out countries containing 'land'.</li>\n",
    "<li>Use filter to filter out countries having exactly six characters.</li>\n",
    "<li>Use filter to filter out countries containing six letters and more in the country list.</li>\n",
    "<li>Use filter to filter out countries starting with an 'E'</li>\n",
    "</ol>\n",
    "\n",
    "### <font color=\"blue\">Exercices : Niveau 2</font>\n",
    "<ol>\n",
    "<li><font color=\"blue\">Utilisez la carte pour créer une liste en mettant chaque pays en majuscules dans la liste des pays.</font></li>\n",
    "<li><font color=\"blue\">Utilisez la carte pour créer une liste en mettant chaque nombre par sa case.</font></li>\n",
    "<li><font color=\"blue\">Utilisez la carte pour mettre chaque nom en majuscules dans la liste des noms.</font></li>\n",
    "<li><font color=\"blue\">Utilisez le filtre pour exclure les pays contenant le mot « land ».</font></li>\n",
    "<li><font color=\"blue\">Utilisez le filtre pour exclure les pays contenant exactement six caractères.</font></li>\n",
    "<li><font color=\"blue\">Utilisez le filtre pour exclure les pays contenant six lettres ou plus dans la liste des pays.</font></li>\n",
    "<li><font color=\"blue\">Utilisez le filtre pour exclure les pays commençant par un « E ».</font></li>\n",
    "</ol>"
   ]
  },
  {
   "cell_type": "code",
   "execution_count": 90,
   "metadata": {},
   "outputs": [],
   "source": [
    "# import the library needed / importer la librarie necessaire\n",
    "from functools import reduce"
   ]
  },
  {
   "cell_type": "code",
   "execution_count": 91,
   "metadata": {},
   "outputs": [],
   "source": [
    "# sample data / example de donnes\n",
    "countries = ['Finland', 'Estonia', 'Sweden', 'Kenya', 'Ethiopia', 'Ireland', 'Norway']\n",
    "numbers = [1, 2, 3, 4, 5, 6, 7]\n",
    "names = ['Asher', 'Chayil', 'Assih']"
   ]
  },
  {
   "cell_type": "markdown",
   "metadata": {},
   "source": [
    "### Use map to change each country to uppercase\n",
    "\n",
    "### <font color='blue'>Utilisez la carte pour mettre chaque pays en majuscules"
   ]
  },
  {
   "cell_type": "code",
   "execution_count": 92,
   "metadata": {},
   "outputs": [],
   "source": [
    "# Convert all country names to uppercase\n",
    "# Convertir tous les noms de pays en majuscules\n",
    "countries_upper = list(map(str.upper, countries))\n"
   ]
  },
  {
   "cell_type": "code",
   "execution_count": 93,
   "metadata": {},
   "outputs": [
    {
     "name": "stdout",
     "output_type": "stream",
     "text": [
      "Uppercase Countries: ['FINLAND', 'ESTONIA', 'SWEDEN', 'KENYA', 'ETHIOPIA', 'IRELAND', 'NORWAY']\n"
     ]
    }
   ],
   "source": [
    "print(\"Uppercase Countries:\", countries_upper)"
   ]
  },
  {
   "cell_type": "markdown",
   "metadata": {},
   "source": [
    "### Use map to square each number\n",
    "### <font color='blue'>Utilisez la carte pour mettre au carré chaque nombre"
   ]
  },
  {
   "cell_type": "code",
   "execution_count": 94,
   "metadata": {},
   "outputs": [],
   "source": [
    "# Square each number in the list\n",
    "# Élever au carré chaque nombre de la liste\n",
    "squared_numbers = list(map(lambda x: x ** 2, numbers))\n"
   ]
  },
  {
   "cell_type": "code",
   "execution_count": 95,
   "metadata": {},
   "outputs": [
    {
     "name": "stdout",
     "output_type": "stream",
     "text": [
      "Squared Numbers: [1, 4, 9, 16, 25, 36, 49]\n"
     ]
    }
   ],
   "source": [
    "print(\"Squared Numbers:\", squared_numbers)"
   ]
  },
  {
   "cell_type": "markdown",
   "metadata": {},
   "source": [
    "### Use map to change each name to uppercase\n",
    "### <font color='blue'> Utilisez la carte pour mettre chaque nom en majuscules"
   ]
  },
  {
   "cell_type": "code",
   "execution_count": 96,
   "metadata": {},
   "outputs": [],
   "source": [
    "# Convert all names to uppercase\n",
    "# Convertir tous les noms en majuscules\n",
    "names_upper = list(map(str.upper, names))\n"
   ]
  },
  {
   "cell_type": "code",
   "execution_count": 97,
   "metadata": {},
   "outputs": [
    {
     "name": "stdout",
     "output_type": "stream",
     "text": [
      "Uppercase Names: ['ASHER', 'CHAYIL', 'ASSIH']\n"
     ]
    }
   ],
   "source": [
    "print(\"Uppercase Names:\", names_upper)"
   ]
  },
  {
   "cell_type": "markdown",
   "metadata": {},
   "source": [
    "### Use filter to keep countries containing 'land'\n",
    "\n",
    "### <font color='blue'>Utilisez le filtre pour conserver les pays contenant « land »"
   ]
  },
  {
   "cell_type": "code",
   "execution_count": 98,
   "metadata": {},
   "outputs": [],
   "source": [
    "# Filter countries containing the substring 'land'\n",
    "# Filtrer les pays contenant le mot 'land'\n",
    "countries_with_land = list(filter(lambda country: 'land' in country.lower(), countries))\n"
   ]
  },
  {
   "cell_type": "code",
   "execution_count": 99,
   "metadata": {},
   "outputs": [
    {
     "name": "stdout",
     "output_type": "stream",
     "text": [
      "Countries with 'land': ['Finland', 'Ireland']\n"
     ]
    }
   ],
   "source": [
    "print(\"Countries with 'land':\", countries_with_land)"
   ]
  },
  {
   "cell_type": "markdown",
   "metadata": {},
   "source": [
    "### Filter countries with exactly six characters\n",
    "### <font color='blue'>Filtrer les pays avec exactement six caractères"
   ]
  },
  {
   "cell_type": "code",
   "execution_count": 100,
   "metadata": {},
   "outputs": [],
   "source": [
    "# Filter countries with exactly 6 characters\n",
    "# Filtrer les pays ayant exactement 6 caractères\n",
    "countries_six_chars = list(filter(lambda country: len(country) == 6, countries))\n"
   ]
  },
  {
   "cell_type": "code",
   "execution_count": 101,
   "metadata": {},
   "outputs": [
    {
     "name": "stdout",
     "output_type": "stream",
     "text": [
      "Countries with 6 characters: ['Sweden', 'Norway']\n"
     ]
    }
   ],
   "source": [
    "print(\"Countries with 6 characters:\", countries_six_chars)"
   ]
  },
  {
   "cell_type": "markdown",
   "metadata": {},
   "source": [
    "### Filter countries with 6 or more letters\n",
    "### <font color='blue'>Filtrer les pays avec 6 lettres ou plus"
   ]
  },
  {
   "cell_type": "code",
   "execution_count": 102,
   "metadata": {},
   "outputs": [],
   "source": [
    "# Filter countries with 6 or more letters\n",
    "# Filtrer les pays contenant 6 lettres ou plus\n",
    "countries_six_or_more = list(filter(lambda country: len(country) >= 6, countries))\n"
   ]
  },
  {
   "cell_type": "code",
   "execution_count": 103,
   "metadata": {},
   "outputs": [
    {
     "name": "stdout",
     "output_type": "stream",
     "text": [
      "Countries with 6+ letters: ['Finland', 'Estonia', 'Sweden', 'Ethiopia', 'Ireland', 'Norway']\n"
     ]
    }
   ],
   "source": [
    "print(\"Countries with 6+ letters:\", countries_six_or_more)"
   ]
  },
  {
   "cell_type": "markdown",
   "metadata": {},
   "source": [
    "### Filter countries starting with 'E'\n",
    "### <font color='blue'> Filtrer les pays commençant par « E »"
   ]
  },
  {
   "cell_type": "code",
   "execution_count": 104,
   "metadata": {},
   "outputs": [],
   "source": [
    "# Filter countries that start with the letter 'E'\n",
    "# Filtrer les pays commençant par la lettre 'E'\n",
    "countries_start_E = list(filter(lambda country: country.startswith('E'), countries))\n"
   ]
  },
  {
   "cell_type": "code",
   "execution_count": 105,
   "metadata": {},
   "outputs": [
    {
     "name": "stdout",
     "output_type": "stream",
     "text": [
      "Countries starting with 'E': ['Estonia', 'Ethiopia']\n"
     ]
    }
   ],
   "source": [
    "print(\"Countries starting with 'E':\", countries_start_E)"
   ]
  },
  {
   "cell_type": "code",
   "execution_count": null,
   "metadata": {},
   "outputs": [],
   "source": []
  }
 ],
 "metadata": {
  "kernelspec": {
   "display_name": "Python 3.10",
   "language": "python",
   "name": "python3.10"
  },
  "language_info": {
   "codemirror_mode": {
    "name": "ipython",
    "version": 3
   },
   "file_extension": ".py",
   "mimetype": "text/x-python",
   "name": "python",
   "nbconvert_exporter": "python",
   "pygments_lexer": "ipython3",
   "version": "3.10.5"
  }
 },
 "nbformat": 4,
 "nbformat_minor": 1
}
