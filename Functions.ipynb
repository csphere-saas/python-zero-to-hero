{
 "cells": [
  {
   "cell_type": "markdown",
   "metadata": {},
   "source": [
    "# Logic with Functions\n",
    "In Python, a function is a block of organized, reusable code that is used to perform a single, related action. Functions help break our program into smaller, manageable, and modular chunks. They also promote code reuse, which makes programs more readable and maintainable.\n",
    "\n",
    "=============<br>\n",
    "\n",
    "# <font color=\"blue\">Logique avec fonctions\n",
    "<font color=\"blue\">En Python, une fonction est un bloc de code organisé et réutilisable, utilisé pour effectuer une action unique et connexe. Les fonctions permettent de décomposer notre programme en blocs plus petits, gérables et modulaires. Elles favorisent également la réutilisation du code, ce qui rend les programmes plus lisibles et maintenables."
   ]
  },
  {
   "cell_type": "code",
   "execution_count": null,
   "metadata": {},
   "outputs": [],
   "source": [
    "# Function syntax\n",
    "# Syntaxe de fonction\n",
    "def function_name():\n",
    "    codes\n",
    "    codes\n",
    "    \n",
    "# Calling a function\n",
    "function_name()"
   ]
  },
  {
   "cell_type": "code",
   "execution_count": 1,
   "metadata": {},
   "outputs": [],
   "source": [
    "# Function to greet a user\n",
    "# Fonction pour saluer un utilisateur\n",
    "def greet():\n",
    "    print(\"Hello, welcome to the Python class!\")\n"
   ]
  },
  {
   "cell_type": "code",
   "execution_count": 2,
   "metadata": {},
   "outputs": [
    {
     "name": "stdout",
     "output_type": "stream",
     "text": [
      "Hello, welcome to the Python class!\n"
     ]
    }
   ],
   "source": [
    "# Calling the function\n",
    "# Appel de la fonction\n",
    "greet()"
   ]
  },
  {
   "cell_type": "code",
   "execution_count": 3,
   "metadata": {},
   "outputs": [
    {
     "name": "stdout",
     "output_type": "stream",
     "text": [
      "Babala Assih\n"
     ]
    }
   ],
   "source": [
    "def generate_full_name ():\n",
    "    first_name = 'Babala'\n",
    "    last_name = 'Assih'\n",
    "    space = ' '\n",
    "    full_name = first_name + space + last_name\n",
    "    print(full_name)\n",
    "generate_full_name () # calling a function\n"
   ]
  },
  {
   "cell_type": "code",
   "execution_count": 3,
   "metadata": {},
   "outputs": [],
   "source": [
    "def add_two_numbers ():\n",
    "    num_one = int(input())\n",
    "    num_two = int(input())\n",
    "    total = num_one + num_two\n",
    "    print(\"Sum of the above numbers: \", total)\n"
   ]
  },
  {
   "cell_type": "code",
   "execution_count": 4,
   "metadata": {},
   "outputs": [
    {
     "name": "stdout",
     "output_type": "stream",
     "text": [
      "12\n",
      "23\n",
      "Sum of the above numbers:  35\n"
     ]
    }
   ],
   "source": [
    "# Execution de la fonction\n",
    "add_two_numbers()"
   ]
  },
  {
   "cell_type": "code",
   "execution_count": 7,
   "metadata": {},
   "outputs": [
    {
     "name": "stdout",
     "output_type": "stream",
     "text": [
      "Hello, Chayil! Welcome to the Python class!\n"
     ]
    }
   ],
   "source": [
    "# Function with arguments\n",
    "# Fonction avec arguments\n",
    "def greet(name):\n",
    "    print(f\"Hello, {name}! Welcome to the Python class!\")\n",
    "\n",
    "# Calling the function with an argument\n",
    "# Appel de la fonction avec un argument\n",
    "greet(\"Chayil\") "
   ]
  },
  {
   "cell_type": "markdown",
   "metadata": {},
   "source": [
    "### Function Returning a Value - Part 1\n",
    "Function can also return values, if a function does not have a return statement, the value of the function is None. Let us rewrite the above functions using return. From now on, we get a value from a function when we call the function and print it.\n",
    "\n",
    "==========<br>\n",
    "### <font color=\"blue\">Fonction renvoyant une valeur - Partie 1\n",
    "<font color=\"blue\">Une fonction peut également renvoyer des valeurs. Si elle ne possède pas d'instruction return, sa valeur est None. Réécrivons les fonctions ci-dessus en utilisant return. À partir de maintenant, nous obtenons une valeur d'une fonction lorsque nous l'appelons et l'affichons."
   ]
  },
  {
   "cell_type": "code",
   "execution_count": 9,
   "metadata": {},
   "outputs": [],
   "source": [
    "def generate_full_name ():\n",
    "    first_name = 'Chayil'\n",
    "    last_name = 'Assih'\n",
    "    space = ' '\n",
    "    full_name = first_name + space + last_name\n",
    "    return full_name\n"
   ]
  },
  {
   "cell_type": "code",
   "execution_count": 10,
   "metadata": {},
   "outputs": [
    {
     "name": "stdout",
     "output_type": "stream",
     "text": [
      "Chayil Assih\n"
     ]
    }
   ],
   "source": [
    "print(generate_full_name())"
   ]
  },
  {
   "cell_type": "code",
   "execution_count": 11,
   "metadata": {},
   "outputs": [],
   "source": [
    "def add_two_numbers ():\n",
    "    num_one = int(input())\n",
    "    num_two = int(input())\n",
    "    total = num_one + num_two\n",
    "    return  total\n",
    "\n"
   ]
  },
  {
   "cell_type": "code",
   "execution_count": 12,
   "metadata": {},
   "outputs": [
    {
     "name": "stdout",
     "output_type": "stream",
     "text": [
      "-20\n",
      "30\n",
      "Sum of the above numbers:  10\n"
     ]
    }
   ],
   "source": [
    "print(\"Sum of the above numbers: \", add_two_numbers ())"
   ]
  },
  {
   "cell_type": "code",
   "execution_count": 16,
   "metadata": {},
   "outputs": [],
   "source": [
    "# Function to calculate the area of a rectangle - more than one argument\n",
    "# Fonction pour calculer l'aire d'un rectangle - plus d'un argument dans la function\n",
    "def calculate_area(length, width):\n",
    "    area = length * width\n",
    "    perimeter = (length + width)*2\n",
    "    return area\n",
    "\n"
   ]
  },
  {
   "cell_type": "code",
   "execution_count": 18,
   "metadata": {},
   "outputs": [
    {
     "name": "stdout",
     "output_type": "stream",
     "text": [
      "29\n",
      "89\n",
      "2581\n"
     ]
    }
   ],
   "source": [
    "# Calling the function with arguments\n",
    "# Appel de la fonction avec des arguments\n",
    "\n",
    "length=int(input())\n",
    "width=int(input())\n",
    "result = calculate_area(length, width)\n",
    "#result = calculate_area(5, 3)\n",
    "print(result)\n"
   ]
  },
  {
   "cell_type": "code",
   "execution_count": 19,
   "metadata": {},
   "outputs": [
    {
     "name": "stdout",
     "output_type": "stream",
     "text": [
      "10\n",
      "19\n"
     ]
    },
    {
     "data": {
      "text/plain": [
       "190"
      ]
     },
     "execution_count": 19,
     "metadata": {},
     "output_type": "execute_result"
    }
   ],
   "source": [
    "length=int(input())\n",
    "width=int(input())\n",
    "calculate_area(length, width)\n",
    "#print(f\"The area of the rectangle is {result}\") \n"
   ]
  },
  {
   "cell_type": "code",
   "execution_count": 13,
   "metadata": {},
   "outputs": [
    {
     "name": "stdout",
     "output_type": "stream",
     "text": [
      "5\n",
      "Age:  96\n"
     ]
    }
   ],
   "source": [
    "# Returning a number / Retourne un nombre:\n",
    "def add_two_numbers (num1, num2):\n",
    "    total = num1 + num2\n",
    "    return total\n",
    "print(add_two_numbers(2, 3))\n",
    "\n",
    "def calculate_age (current_year, birth_year):\n",
    "    age = current_year - birth_year\n",
    "    return age;\n",
    "print('Age: ', calculate_age(2025, 1929))"
   ]
  },
  {
   "cell_type": "code",
   "execution_count": 20,
   "metadata": {},
   "outputs": [
    {
     "name": "stdout",
     "output_type": "stream",
     "text": [
      "even\n",
      "True\n",
      "False\n"
     ]
    }
   ],
   "source": [
    "# Returning a boolean / Renvoyer un booléen:\n",
    "def is_even (n):\n",
    "    if n % 2 == 0:\n",
    "        print('even')\n",
    "        return True    # return stops further execution of the function, similar to break / return arrête l'exécution ultérieure de la fonction, similaire à break\n",
    "    return False\n",
    "print(is_even(10)) \n",
    "print(is_even(7)) "
   ]
  },
  {
   "cell_type": "code",
   "execution_count": 16,
   "metadata": {},
   "outputs": [
    {
     "name": "stdout",
     "output_type": "stream",
     "text": [
      "[0, 2, 4, 6, 8, 10]\n"
     ]
    }
   ],
   "source": [
    "# Returning a list / Renvoyer une liste\n",
    "def find_even_numbers(n):\n",
    "    evens = []\n",
    "    for i in range(n + 1):\n",
    "        if i % 2 == 0:\n",
    "            evens.append(i)\n",
    "    return evens\n",
    "print(find_even_numbers(10))"
   ]
  },
  {
   "cell_type": "markdown",
   "metadata": {},
   "source": [
    "### Function with Default Parameters\n",
    "Sometimes we pass default values to parameters, when we invoke the function. If we do not pass arguments when calling the function, their default values will be used.\n",
    "\n",
    "### <font color=\"blue\">Fonction avec paramètres par défaut</font>\n",
    "<font color=\"blue\">Il arrive que nous transmettions des valeurs par défaut aux paramètres lors de l'appel de la fonction. Si nous ne transmettons pas d'arguments lors de l'appel de la fonction, leurs valeurs par défaut seront utilisées.</font>"
   ]
  },
  {
   "cell_type": "code",
   "execution_count": null,
   "metadata": {},
   "outputs": [],
   "source": [
    "# syntax\n",
    "# Declaring a function\n",
    "def function_name(param = value):\n",
    "    codes\n",
    "    codes\n",
    "# Calling function\n",
    "function_name()\n",
    "function_name(arg)"
   ]
  },
  {
   "cell_type": "code",
   "execution_count": 21,
   "metadata": {},
   "outputs": [
    {
     "name": "stdout",
     "output_type": "stream",
     "text": [
      "Age:  44\n"
     ]
    }
   ],
   "source": [
    "def calculate_age (birth_year, current_year = 2025):\n",
    "    age = current_year - birth_year\n",
    "    return age;\n",
    "print('Age: ', calculate_age(1981))"
   ]
  },
  {
   "cell_type": "code",
   "execution_count": 19,
   "metadata": {},
   "outputs": [
    {
     "name": "stdout",
     "output_type": "stream",
     "text": [
      "Weight of an object in Newtons:  981.0 N\n",
      "Weight of an object in Newtons:  162.0 N\n"
     ]
    }
   ],
   "source": [
    "def weight_of_object (mass, gravity = 9.81):\n",
    "    weight = str(mass * gravity)+ ' N' # the value has to be changed to string first / la valeur doit d'abord être changée en chaîne\n",
    "    return weight\n",
    "print('Weight of an object in Newtons: ', weight_of_object(100)) \n",
    "print('Weight of an object in Newtons: ', weight_of_object(100, 1.62)) "
   ]
  },
  {
   "cell_type": "markdown",
   "metadata": {},
   "source": [
    "### Arbitrary Number of Arguments\n",
    "If we do not know the number of arguments we pass to our function, we can create a function which can take arbitrary number of arguments by adding * before the parameter name.\n",
    "\n",
    "### <font color=\"blue\">Nombre arbitraire d'arguments</font>\n",
    "<font color=\"blue\">Si nous ne connaissons pas le nombre d'arguments que nous passons à notre fonction, nous pouvons créer une fonction pouvant accepter un nombre arbitraire d'arguments en ajoutant * avant le nom du paramètre.</font>"
   ]
  },
  {
   "cell_type": "code",
   "execution_count": null,
   "metadata": {},
   "outputs": [],
   "source": [
    "# syntax\n",
    "# Declaring a function\n",
    "def function_name(*args):\n",
    "    codes\n",
    "    codes\n",
    "# Calling function\n",
    "function_name(param1, param2, param3,..)"
   ]
  },
  {
   "cell_type": "code",
   "execution_count": 23,
   "metadata": {},
   "outputs": [
    {
     "name": "stdout",
     "output_type": "stream",
     "text": [
      "27\n"
     ]
    }
   ],
   "source": [
    "def sum_all_nums(*nums):\n",
    "    total = 0\n",
    "    for num in nums:\n",
    "        total += num     # same as total = total + num \n",
    "    return total\n",
    "print(sum_all_nums(2, 3, 5, 5,6,1)) "
   ]
  },
  {
   "cell_type": "markdown",
   "metadata": {},
   "source": [
    "### Default and Arbitrary Number of Parameters in Functions\n",
    "\n",
    "### <font color=\"blue\">Nombre de paramètres par défaut et arbitraire dans les fonctions</font>"
   ]
  },
  {
   "cell_type": "code",
   "execution_count": 22,
   "metadata": {},
   "outputs": [
    {
     "name": "stdout",
     "output_type": "stream",
     "text": [
      "Team-1\n",
      "Chayil\n",
      "Hannah\n",
      "Nikita\n",
      "Nana\n",
      "None\n"
     ]
    }
   ],
   "source": [
    "def generate_groups (team,*args):\n",
    "    print(team)\n",
    "    for i in args:\n",
    "        print(i)\n",
    "print(generate_groups('Team-1','Chayil','Hannah','Nikita','Nana'))"
   ]
  },
  {
   "cell_type": "markdown",
   "metadata": {},
   "source": [
    "### Function as a Parameter of Another Function\n",
    "\n",
    "### <font color=\"blue\">Fonction comme paramètre d'une autre fonction</font>"
   ]
  },
  {
   "cell_type": "code",
   "execution_count": 25,
   "metadata": {},
   "outputs": [],
   "source": [
    "#You can pass functions around as parameters / Vous pouvez transmettre des fonctions en tant que paramètres\n",
    "def square_number (n):\n",
    "    return n * n\n"
   ]
  },
  {
   "cell_type": "code",
   "execution_count": 26,
   "metadata": {},
   "outputs": [
    {
     "name": "stdout",
     "output_type": "stream",
     "text": [
      "9\n"
     ]
    }
   ],
   "source": [
    "def do_something(f, x):\n",
    "    return f(x)\n",
    "print(do_something(square_number, 3))"
   ]
  },
  {
   "cell_type": "markdown",
   "metadata": {},
   "source": [
    "Encapsulating logic with functions in Python allows you to create modular, reusable code. Functions help in organizing code, making it more readable, and enabling code reuse. They also help in abstracting complex logic, making your programs easier to understand and maintain. As you progress in your Python journey, mastering functions will be key to writing efficient and effective code.\n",
    "<br>============<br>\n",
    "<font color=\"blue\">Encapsuler la logique avec des fonctions en Python vous permet de créer du code modulaire et réutilisable. Les fonctions aident à organiser le code, à le rendre plus lisible et à le réutiliser. Elles aident également à abstraire la logique complexe, facilitant ainsi la compréhension et la maintenance de vos programmes. À mesure que vous progresserez dans votre apprentissage Python, la maîtrise des fonctions sera essentielle pour écrire du code efficace et performant.</font>"
   ]
  },
  {
   "cell_type": "markdown",
   "metadata": {},
   "source": [
    "### Exercise I\n",
    "<ol>\n",
    "<li>Declare a function add_two_numbers. It takes two parameters and it returns a sum.</li>\n",
    "<li>Area of a circle is calculated as follows: area = π x r x r. Write a function that calculates area_of_circle.</li>\n",
    "<li>Write a function called add_all_nums which takes arbitrary number of arguments and sums all the arguments. Check if all the list items are number types. If not do give a reasonable feedback.</li>\n",
    "<li>Temperature in °C can be converted to °F using this formula: °F = (°C x 9/5) + 32. Write a function which converts °C to °F, convert_celsius_to-fahrenheit.</li>\n",
    "<li>Write a function called check-season, it takes a month parameter and returns the season: Autumn, Winter, Spring or Summer.</li>\n",
    "<li>Write a function called calculate_slope which return the slope of a linear equation</li>\n",
    "<li>Quadratic equation is calculated as follows: ax² + bx + c = 0. Write a function which calculates solution set of a quadratic equation, solve_quadratic_eqn.</li>\n",
    "</ol>\n",
    "\n",
    "<ol><font color=\"blue\">\n",
    "<li>Déclarez une fonction addition_deux_nombres. Elle prend deux paramètres et renvoie une somme.</li>\n",
    "<li>L'aire d'un cercle se calcule comme suit : aire = π x r x r. Écrivez une fonction qui calcule aire_du_cercle.</li>\n",
    "<li>Écrivez une fonction appelée additionner_tous_nombres qui prend un nombre arbitraire d'arguments et les additionne tous. Vérifiez si tous les éléments de la liste sont de type numérique. Sinon, veuillez fournir un commentaire raisonnable.</li>\n",
    "<li>La température en °C peut être convertie en °F grâce à la formule suivante : °F = (°C x 9/5) + 32. Écrivez une fonction qui convertit les °C en °F : convert_celsius_to-fahrenheit.</li>\n",
    "<li>Écrivez une fonction appelée check-season, qui prend un mois comme paramètre et renvoie la saison : automne, hiver, printemps ou été.</li>\n",
    "<li>Écrivez une fonction appelée calculate_slope, qui renvoie la pente d'une équation linéaire.</li>\n",
    "<li>Une équation quadratique se calcule comme suit : ax² + bx + c = 0. Écrivez une fonction qui calcule l'ensemble solution d'une équation quadratique : solve_quadratic_eqn.</li>\n",
    "</font>\n",
    "        </ol>"
   ]
  },
  {
   "cell_type": "markdown",
   "metadata": {},
   "source": [
    "### Exercise II\n",
    "<ol>\n",
    "<li>Write a function called is_prime, which checks if a number is prime.</li>\n",
    "<li>Write a functions which checks if all items are unique in the list.</li>\n",
    "<li>Write a function which checks if all the items of the list are of the same data type.</li>\n",
    "<li>Write a function which check if provided variable is a valid python variable</li>\n",
    "</ol>\n",
    "\n",
    "<ol><font color=\"blue\">\n",
    "<li>Écrivez une fonction appelée is_prime, qui vérifie si un nombre est premier.</li>\n",
    "<li>Écrivez une fonction qui vérifie si tous les éléments de la liste sont uniques.</li>\n",
    "<li>Écrivez une fonction qui vérifie si tous les éléments de la liste sont du même type de données.</li>\n",
    "<li>Écrivez une fonction qui vérifie si la variable fournie est une variable Python valide.</li>\n",
    "</font></ol>\n"
   ]
  },
  {
   "cell_type": "markdown",
   "metadata": {},
   "source": [
    "### Testimony:\n",
    "Now it is time to express your thoughts about the Author and the course; what are your impressions? Can you recommend this course to a friend?\n",
    "\n",
    "=========<br>\n",
    "### <font color=\"blue\">Témoignage :\n",
    "<font color=\"blue\">Il est temps de partager vos impressions sur l’auteur et le cours. Pouvez-vous recommander ce cours à un ami ?"
   ]
  },
  {
   "cell_type": "markdown",
   "metadata": {},
   "source": [
    "<font color=\"red\"><b>Happy Pythoning!</b></font>"
   ]
  },
  {
   "cell_type": "code",
   "execution_count": null,
   "metadata": {},
   "outputs": [],
   "source": []
  }
 ],
 "metadata": {
  "kernelspec": {
   "display_name": "Python 3.10",
   "language": "python",
   "name": "python3.10"
  },
  "language_info": {
   "codemirror_mode": {
    "name": "ipython",
    "version": 3
   },
   "file_extension": ".py",
   "mimetype": "text/x-python",
   "name": "python",
   "nbconvert_exporter": "python",
   "pygments_lexer": "ipython3",
   "version": "3.10.5"
  }
 },
 "nbformat": 4,
 "nbformat_minor": 1
}
