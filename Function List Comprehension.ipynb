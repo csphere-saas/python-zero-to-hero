{
 "cells": [
  {
   "cell_type": "markdown",
   "metadata": {},
   "source": [
    "# List Comprehension\n",
    "List comprehension in Python is a compact way of creating a list from a sequence. It is a short way to create a new list. List comprehension is considerably faster than processing a list using the for loop.\n",
    "\n",
    "# <font color=\"blue\">Compréhension de liste</font>\n",
    "<font color=\"blue\">En Python, la compréhension de liste est une méthode compacte pour créer une liste à partir d'une séquence. C'est une méthode rapide pour créer une nouvelle liste. La compréhension de liste est considérablement plus rapide que le traitement d'une liste à l'aide de la boucle for.</font>"
   ]
  },
  {
   "cell_type": "code",
   "execution_count": null,
   "metadata": {},
   "outputs": [],
   "source": [
    "# syntax\n",
    "[i for i in iterable if expression]"
   ]
  },
  {
   "cell_type": "code",
   "execution_count": 2,
   "metadata": {},
   "outputs": [
    {
     "name": "stdout",
     "output_type": "stream",
     "text": [
      "<class 'list'>\n",
      "['P', 'y', 't', 'h', 'o', 'n']\n"
     ]
    }
   ],
   "source": [
    "# One way\n",
    "language = 'Python'\n",
    "lst = list(language) # changing the string to list\n",
    "print(type(lst))     # list\n",
    "print(lst)         \n"
   ]
  },
  {
   "cell_type": "code",
   "execution_count": 3,
   "metadata": {},
   "outputs": [
    {
     "name": "stdout",
     "output_type": "stream",
     "text": [
      "<class 'list'>\n",
      "['P', 'y', 't', 'h', 'o', 'n']\n"
     ]
    }
   ],
   "source": [
    "\n",
    "# Second way: list comprehension\n",
    "lst = [i for i in language]\n",
    "print(type(lst)) # list\n",
    "print(lst)       "
   ]
  },
  {
   "cell_type": "code",
   "execution_count": null,
   "metadata": {},
   "outputs": [],
   "source": [
    "# Generating numbers / Générer des nombres\n",
    "numbers = [i for i in range(11)]  # to generate numbers from 0 to 10 / pour générer des nombres de 0 à 10\n",
    "print(numbers)                    \n"
   ]
  },
  {
   "cell_type": "code",
   "execution_count": 5,
   "metadata": {},
   "outputs": [
    {
     "name": "stdout",
     "output_type": "stream",
     "text": [
      "[0, 1, 4, 9, 16, 25, 36, 49, 64, 81, 100]\n"
     ]
    }
   ],
   "source": [
    "# It is possible to do mathematical operations during iteration / Il est possible d'effectuer des opérations mathématiques pendant l'itération\n",
    "squares = [i * i for i in range(11)]\n",
    "print(squares)                  \n"
   ]
  },
  {
   "cell_type": "code",
   "execution_count": 6,
   "metadata": {},
   "outputs": [
    {
     "name": "stdout",
     "output_type": "stream",
     "text": [
      "[(0, 0), (1, 1), (2, 4), (3, 9), (4, 16), (5, 25), (6, 36), (7, 49), (8, 64), (9, 81), (10, 100)]\n"
     ]
    }
   ],
   "source": [
    "\n",
    "# It is also possible to make a list of tuples / Il est également possible de créer une liste de tuples\n",
    "numbers = [(i, i * i) for i in range(11)]\n",
    "print(numbers)     "
   ]
  },
  {
   "cell_type": "markdown",
   "metadata": {},
   "source": [
    "### List comprehension can be combined with if expression\n",
    "\n",
    "### <font color=\"blue\">La compréhension de liste peut être combinée avec l'expression if</font>"
   ]
  },
  {
   "cell_type": "code",
   "execution_count": 7,
   "metadata": {},
   "outputs": [
    {
     "name": "stdout",
     "output_type": "stream",
     "text": [
      "[0, 2, 4, 6, 8, 10, 12, 14, 16, 18, 20]\n"
     ]
    }
   ],
   "source": [
    "# Generating even numbers / Générer des nombres pairs\n",
    "even_numbers = [i for i in range(21) if i % 2 == 0]  # to generate even numbers list in range 0 to 21\n",
    "print(even_numbers) "
   ]
  },
  {
   "cell_type": "code",
   "execution_count": 8,
   "metadata": {},
   "outputs": [
    {
     "name": "stdout",
     "output_type": "stream",
     "text": [
      "[1, 3, 5, 7, 9, 11, 13, 15, 17, 19]\n"
     ]
    }
   ],
   "source": [
    "# Generating odd numbers / Générer des nombres impairs\n",
    "odd_numbers = [i for i in range(21) if i % 2 != 0]  # to generate odd numbers in range 0 to 21\n",
    "print(odd_numbers)  "
   ]
  },
  {
   "cell_type": "code",
   "execution_count": 9,
   "metadata": {},
   "outputs": [
    {
     "name": "stdout",
     "output_type": "stream",
     "text": [
      "[4, 6, 8, 10]\n"
     ]
    }
   ],
   "source": [
    "# Filter numbers: let's filter out positive even numbers from the list below /. Filtrer les nombres : filtrons les nombres pairs positifs de la liste ci-dessous\n",
    "numbers = [-8, -7, -3, -1, 0, 1, 3, 4, 5, 7, 6, 8, 10]\n",
    "positive_even_numbers = [i for i in numbers if i % 2 == 0 and i > 0]\n",
    "print(positive_even_numbers)  "
   ]
  },
  {
   "cell_type": "code",
   "execution_count": 11,
   "metadata": {},
   "outputs": [
    {
     "name": "stdout",
     "output_type": "stream",
     "text": [
      "[1, 2, 3, 4, 5, 6, 7, 8, 9]\n"
     ]
    }
   ],
   "source": [
    "# Flattening a three dimensional array / Aplatissement d'un tableau tridimensionnel\n",
    "list_of_lists = [[1, 2, 3], [4, 5, 6], [7, 8, 9]]\n",
    "flattened_list = [ number for row in list_of_lists for number in row]\n",
    "print(flattened_list)"
   ]
  },
  {
   "cell_type": "markdown",
   "metadata": {},
   "source": [
    "### Lambda Function\n",
    "Lambda function is a small anonymous function without a name. It can take any number of arguments, but can only have one expression. Lambda function is similar to anonymous functions in JavaScript. We need it when we want to write an anonymous function inside another function.\n",
    "\n",
    "### Creating a Lambda Function\n",
    "To create a lambda function we use lambda keyword followed by a parameter(s), followed by an expression. See the syntax and the example below. Lambda function does not use return but it explicitly returns the expression.\n",
    "\n",
    "### <font color=\"blue\">Fonction Lambda</font>\n",
    "<font color=\"blue\">La fonction Lambda est une petite fonction anonyme sans nom. Elle peut accepter un nombre illimité d'arguments, mais ne peut contenir qu'une seule expression. Elle est similaire aux fonctions anonymes en JavaScript. Elle est nécessaire pour écrire une fonction anonyme dans une autre fonction.</font>\n",
    "\n",
    "### <font color=\"blue\">Création d'une fonction Lambda</font>\n",
    "<font color=\"blue\">Pour créer une fonction lambda, nous utilisons le mot-clé lambda suivi d'un ou plusieurs paramètres, puis d'une expression. Consultez la syntaxe et l'exemple ci-dessous. La fonction Lambda n'utilise pas de retour, mais renvoie explicitement l'expression.</font>"
   ]
  },
  {
   "cell_type": "code",
   "execution_count": null,
   "metadata": {},
   "outputs": [],
   "source": [
    "# syntax\n",
    "x = lambda param1, param2, param3: param1 + param2 + param2\n",
    "print(x(arg1, arg2, arg3))"
   ]
  },
  {
   "cell_type": "code",
   "execution_count": 5,
   "metadata": {},
   "outputs": [
    {
     "name": "stdout",
     "output_type": "stream",
     "text": [
      "5\n"
     ]
    }
   ],
   "source": [
    "# Named function\n",
    "def add_two_nums(a, b):\n",
    "    return a + b\n",
    "print(add_two_nums(2, 3))  "
   ]
  },
  {
   "cell_type": "code",
   "execution_count": 3,
   "metadata": {},
   "outputs": [
    {
     "name": "stdout",
     "output_type": "stream",
     "text": [
      "11\n"
     ]
    }
   ],
   "source": [
    "# Lets change the above function to a lambda function / ets change la fonction ci-dessus en une fonction lambda\n",
    "add_two_nums = lambda a, b: a + b\n",
    "print(add_two_nums(8,3))   \n"
   ]
  },
  {
   "cell_type": "code",
   "execution_count": 6,
   "metadata": {},
   "outputs": [
    {
     "name": "stdout",
     "output_type": "stream",
     "text": [
      "9\n"
     ]
    }
   ],
   "source": [
    "\n",
    "# Self invoking lambda function / Fonction lambda auto-invoquée\n",
    "(lambda a, b: a + b)(2,3) # 5 - need to encapsulate it in print() to see the result in the console / 5 - il faut l'encapsuler dans print() pour voir le résultat dans la console\n",
    "\n",
    "square = lambda x : x ** 2\n",
    "print(square(3))    # 9"
   ]
  },
  {
   "cell_type": "code",
   "execution_count": 7,
   "metadata": {},
   "outputs": [
    {
     "name": "stdout",
     "output_type": "stream",
     "text": [
      "27\n"
     ]
    }
   ],
   "source": [
    "cube = lambda x : x ** 3\n",
    "print(cube(3))    "
   ]
  },
  {
   "cell_type": "code",
   "execution_count": 18,
   "metadata": {},
   "outputs": [
    {
     "name": "stdout",
     "output_type": "stream",
     "text": [
      "22\n"
     ]
    }
   ],
   "source": [
    "\n",
    "# Multiple variables / Variables multiples\n",
    "multiple_variable = lambda a, b, c: a ** 2 - 3 * b + 4 * c\n",
    "print(multiple_variable(5, 5, 3)) "
   ]
  },
  {
   "cell_type": "markdown",
   "metadata": {},
   "source": [
    "### Lambda Function Inside Another Function\n",
    "Using a lambda function inside another function\n",
    "\n",
    "### <font color=\"blue\">Fonction lambda dans une autre fonction</font>\n",
    "<font color=\"blue\">Utilisation d'une fonction lambda dans une autre fonction</font>"
   ]
  },
  {
   "cell_type": "code",
   "execution_count": 8,
   "metadata": {},
   "outputs": [
    {
     "name": "stdout",
     "output_type": "stream",
     "text": [
      "8\n"
     ]
    }
   ],
   "source": [
    "def power(x):\n",
    "    return lambda n : x ** n\n",
    "# function power() now need 2 arguments to run, in separate rounded brackets \n",
    "# la fonction power() nécessite désormais 2 arguments pour s'exécuter, entre parenthèses arrondies séparées\n",
    "cube = power(2)(3)   \n",
    "print(cube)\n"
   ]
  },
  {
   "cell_type": "code",
   "execution_count": 9,
   "metadata": {},
   "outputs": [
    {
     "name": "stdout",
     "output_type": "stream",
     "text": [
      "32\n"
     ]
    }
   ],
   "source": [
    "\n",
    "two_power_of_five = power(2)(5) \n",
    "print(two_power_of_five) "
   ]
  },
  {
   "cell_type": "code",
   "execution_count": 22,
   "metadata": {},
   "outputs": [
    {
     "name": "stdout",
     "output_type": "stream",
     "text": [
      "10\n"
     ]
    }
   ],
   "source": [
    "# Lambda function to double a number\n",
    "# Fonction Lambda pour doubler un nombre\n",
    "double = lambda x: x * 2\n",
    "#area = lambda width, length: int(input())\n",
    "\n",
    "# Calling the lambda function\n",
    "# Appel de la fonction lambda\n",
    "result = double(5)\n",
    "#area\n",
    "print(result)  "
   ]
  },
  {
   "cell_type": "code",
   "execution_count": 10,
   "metadata": {},
   "outputs": [
    {
     "name": "stdout",
     "output_type": "stream",
     "text": [
      "2\n",
      "5\n"
     ]
    },
    {
     "data": {
      "text/plain": [
       "10"
      ]
     },
     "execution_count": 10,
     "metadata": {},
     "output_type": "execute_result"
    }
   ],
   "source": [
    "# Lambda function to double a number\n",
    "# Fonction Lambda pour doubler un nombre\n",
    "multiplication = lambda x, y: x * y\n",
    "x = int(input())\n",
    "y = int(input())\n",
    "#area = lambda width, length: int(input())\n",
    "multiplication(x,y)"
   ]
  },
  {
   "cell_type": "code",
   "execution_count": 20,
   "metadata": {},
   "outputs": [
    {
     "name": "stdout",
     "output_type": "stream",
     "text": [
      "3\n",
      "3\n",
      "The maximum value is 3\n"
     ]
    }
   ],
   "source": [
    "# Lambda function for conditional logic\n",
    "# Fonction Lambda pour la logique conditionnelle\n",
    "max_value = lambda a, b: a if a > b else b\n",
    "\n",
    "# Using the lambda function\n",
    "a = int(input())\n",
    "b = int(input())\n",
    "result = max_value(a, b)\n",
    "print(f\"The maximum value is {result}\") "
   ]
  },
  {
   "cell_type": "code",
   "execution_count": 20,
   "metadata": {},
   "outputs": [],
   "source": [
    "def circle_area(rayon, PI=3.14):\n",
    "    area = rayon ** 2 * PI\n",
    "    return area\n",
    "    #print(area)"
   ]
  },
  {
   "cell_type": "code",
   "execution_count": 21,
   "metadata": {},
   "outputs": [
    {
     "name": "stdout",
     "output_type": "stream",
     "text": [
      "45\n"
     ]
    },
    {
     "data": {
      "text/plain": [
       "6358.5"
      ]
     },
     "execution_count": 21,
     "metadata": {},
     "output_type": "execute_result"
    }
   ],
   "source": [
    "x = int(input())\n",
    "circle_area(x)"
   ]
  },
  {
   "cell_type": "markdown",
   "metadata": {},
   "source": [
    "### Exercise"
   ]
  },
  {
   "cell_type": "markdown",
   "metadata": {},
   "source": [
    "### 1\n",
    "Filter only negative and zero in the list using list comprehension\n",
    "numbers = [-4, -3, -2, -1, 0, 2, 4, 6]\n",
    "\n",
    "<br>\n",
    "<font color=\"blue\">\n",
    "Filtrer uniquement les valeurs négatives et nulles de la liste grâce à la compréhension de liste.\n",
    "\n",
    "Nombres = [-4, -3, -2, -1, 0, 2, 4, 6]\n",
    "</font>"
   ]
  },
  {
   "cell_type": "markdown",
   "metadata": {},
   "source": [
    "### 2\n",
    "Flatten the following list of lists of lists to a one dimensional list :\n",
    "\n",
    "list_of_lists =[[[1, 2, 3]], [[4, 5, 6]], [[7, 8, 9]]]\n",
    "\n",
    "<br>\n",
    "\n",
    "<font color=\"blue\">\n",
    "Aplatir la liste de listes suivante en une liste unidimensionnelle :\n",
    "\n",
    "liste_de_listes = [[[1, 2, 3]], [[4, 5, 6]], [[7, 8, 9]]]\n",
    "\n",
    "</font>"
   ]
  },
  {
   "cell_type": "markdown",
   "metadata": {},
   "source": [
    "### 3\n",
    "Change the following list to a list of dictionaries:\n",
    "\n",
    "countries = [[('Finland', 'Helsinki')], [('Sweden', 'Stockholm')], [('Norway', 'Oslo')]]\n",
    "\n",
    "<br>\n",
    "<font color=\"blue\">\n",
    "Convertir la liste suivante en une liste de dictionnaires :\n",
    "\n",
    "pays = [[('Finlande', 'Helsinki')], [('Suède', 'Stockholm')], [('Norvège', 'Oslo')]]</font>"
   ]
  },
  {
   "cell_type": "markdown",
   "metadata": {},
   "source": [
    "<font color=\"red\"><b>Happy Pythoning!</b></font>"
   ]
  },
  {
   "cell_type": "code",
   "execution_count": null,
   "metadata": {},
   "outputs": [],
   "source": []
  }
 ],
 "metadata": {
  "kernelspec": {
   "display_name": "Python 3.10",
   "language": "python",
   "name": "python3.10"
  },
  "language_info": {
   "codemirror_mode": {
    "name": "ipython",
    "version": 3
   },
   "file_extension": ".py",
   "mimetype": "text/x-python",
   "name": "python",
   "nbconvert_exporter": "python",
   "pygments_lexer": "ipython3",
   "version": "3.10.5"
  }
 },
 "nbformat": 4,
 "nbformat_minor": 1
}
