{
 "cells": [
  {
   "cell_type": "markdown",
   "metadata": {},
   "source": [
    "# Conditionals and Boolean Data Type in Python\n",
    "Conditionals are one of the fundamental building blocks of programming. They allow you to execute different pieces of code based on certain conditions. In Python, this is primarily done using the if, elif, and else statements. Coupled with the Boolean data type (True or False), conditionals enable you to control the flow of your program.\n",
    "By default, statements in Python script are executed sequentially from top to bottom. If the processing logic require so, the sequential flow of execution can be altered in two way:\n",
    "\n",
    "Conditional execution: a block of one or more statements will be executed if a certain expression is true<br>\n",
    "Repetitive execution: a block of one or more statements will be repetitively executed as long as a certain expression is true. In this section, we will cover if, else, elif statements. The comparison and logical operators we learned in previous sections will be useful here.\n",
    "\n",
    "==============\n",
    "\n",
    "# <font color='blue'>Conditions et type de données booléen en Python\n",
    "<font color='blue'>Les conditions sont l'un des éléments fondamentaux de la programmation. Elles permettent d'exécuter différents morceaux de code selon certaines conditions. En Python, cela se fait principalement à l'aide des instructions if, elif et else. Associées au type de données booléen (True ou False), les conditions vous permettent de contrôler le déroulement de votre programme.\n",
    "<br><font color='blue'>Exécution conditionnelle : un bloc d'une ou plusieurs instructions sera exécuté si une expression donnée est vraie.\n",
    "<br><font color='blue'>Exécution répétitive : un bloc d'une ou plusieurs instructions sera exécuté de manière répétitive tant qu'une expression donnée est vraie. Dans cette section, nous aborderons les instructions if, else et elif. Les opérateurs de comparaison et logiques étudiés dans les sections précédentes seront utiles ici."
   ]
  },
  {
   "cell_type": "markdown",
   "metadata": {},
   "source": [
    "### 1. Boolean Data Type\n",
    "Definition: A Boolean data type represents one of two values: True or False. Boolean values are often the result of comparison operations and logical operations.\n",
    "        \n",
    "===========\n",
    "\n",
    "### <font color='blue'>1. Type de données booléen\n",
    "<font color='blue'>Définition : Un type de données booléen représente l’une des deux valeurs suivantes : True ou False. Les valeurs booléennes résultent souvent d’opérations de comparaison et d’opérations logiques."
   ]
  },
  {
   "cell_type": "code",
   "execution_count": 8,
   "metadata": {},
   "outputs": [
    {
     "name": "stdout",
     "output_type": "stream",
     "text": [
      "True\n",
      "False\n",
      "False\n",
      "True\n",
      "False\n",
      "True\n"
     ]
    }
   ],
   "source": [
    "x = 1 \n",
    "y = 2\n",
    "print(1 == 1)\n",
    "print(3 != 3)\n",
    "print(3 <= 2)\n",
    "print(10 > 5)         \n",
    "print(3 == 4)\n",
    "print(3 != 4) \n"
   ]
  },
  {
   "cell_type": "code",
   "execution_count": 7,
   "metadata": {},
   "outputs": [
    {
     "name": "stdout",
     "output_type": "stream",
     "text": [
      "True\n",
      "False\n"
     ]
    }
   ],
   "source": [
    "is_active = True\n",
    "is_logged_in = False\n",
    "\n",
    "print(is_active)       \n",
    "print(is_logged_in)   "
   ]
  },
  {
   "cell_type": "markdown",
   "metadata": {},
   "source": [
    "### If Condition\n",
    "In python and other programming languages the key word if is used to check if a condition is true and to execute the block code. Remember the indentation after the colon.\n",
    "\n",
    "===========<br>\n",
    "### <font color='blue'>Condition If\n",
    "<font color='blue'>En Python et dans d'autres langages de programmation, le mot clé if permet de vérifier si une condition est vraie et d'exécuter le code du bloc. N'oubliez pas l'indentation après les deux points."
   ]
  },
  {
   "cell_type": "code",
   "execution_count": 28,
   "metadata": {},
   "outputs": [
    {
     "name": "stdout",
     "output_type": "stream",
     "text": [
      "You are an adult.\n"
     ]
    }
   ],
   "source": [
    "age = 22\n",
    "\n",
    "#this is one direction if statement, if the condition is met then a result will be displayed outerwise, nothing will be displayed\n",
    "#il s'agit d'une instruction if unidirectionnelle, si la condition est remplie, un résultat sera affiché à l'extérieur, rien ne sera affiché\n",
    "if age >= 18: \n",
    "    print(\"You are an adult.\")"
   ]
  },
  {
   "cell_type": "code",
   "execution_count": 32,
   "metadata": {},
   "outputs": [],
   "source": [
    "a = -3\n",
    "if a > 0:\n",
    "    print('A is a positive number')"
   ]
  },
  {
   "cell_type": "code",
   "execution_count": 33,
   "metadata": {},
   "outputs": [
    {
     "name": "stdout",
     "output_type": "stream",
     "text": [
      "A is positive\n"
     ]
    }
   ],
   "source": [
    "a = 3\n",
    "if a >0:\n",
    "    print('A is positive')\n",
    "else:\n",
    "    print('A is negative')"
   ]
  },
  {
   "cell_type": "code",
   "execution_count": 19,
   "metadata": {},
   "outputs": [
    {
     "name": "stdout",
     "output_type": "stream",
     "text": [
      "A is positive\n"
     ]
    }
   ],
   "source": [
    "a = 3\n",
    "print('A is positive') if a > 0 else print('A is negative')"
   ]
  },
  {
   "cell_type": "code",
   "execution_count": 34,
   "metadata": {},
   "outputs": [
    {
     "name": "stdout",
     "output_type": "stream",
     "text": [
      "Please enter two numbers to divide.\n",
      "Please enter the first number to divide: 29\n",
      "Please enter the second number to divide: 2\n",
      "The result is:  29 / 2 = 14.5\n"
     ]
    }
   ],
   "source": [
    "#Note the input() function that allows you to dynamically enter data\n",
    "#Notez la fonction input() qui vous permet de saisir dynamiquement des données\n",
    "print('Please enter two numbers to divide.')\n",
    "dividend = int(input('Please enter the first number to divide: '))\n",
    "divisor = int(input('Please enter the second number to divide: '))\n",
    "# If possible, divide them and report the result\n",
    "# Si possible, divisez-les et rapportez le résultat\n",
    "if divisor != 0:\n",
    "    print(\"The result is: \", dividend, '/', divisor, \"=\", dividend/divisor)"
   ]
  },
  {
   "cell_type": "markdown",
   "metadata": {},
   "source": [
    "### If Else\n",
    "If condition is true the first block will be executed, if not the else condition will run.\n",
    "\n",
    "==========<br>\n",
    "\n",
    "### <font color='blue'>If Else\n",
    "<font color='blue'>Si la condition est vraie, le premier bloc sera exécuté ; sinon, la condition else sera exécutée."
   ]
  },
  {
   "cell_type": "code",
   "execution_count": null,
   "metadata": {},
   "outputs": [],
   "source": [
    "# syntax\n",
    "if condition:\n",
    "    this part of code runs for truthy conditions\n",
    "else:\n",
    "     this part of code runs for false conditions"
   ]
  },
  {
   "cell_type": "code",
   "execution_count": 36,
   "metadata": {},
   "outputs": [
    {
     "name": "stdout",
     "output_type": "stream",
     "text": [
      "A is a negative number\n"
     ]
    }
   ],
   "source": [
    "a = -3\n",
    "if a < 0:\n",
    "    print('A is a negative number')\n",
    "else:\n",
    "    print('A is a positive number')"
   ]
  },
  {
   "cell_type": "code",
   "execution_count": 38,
   "metadata": {},
   "outputs": [
    {
     "name": "stdout",
     "output_type": "stream",
     "text": [
      "1\n",
      "is odd / impair\n",
      "27\n",
      "is odd / impair\n",
      "3\n",
      "is odd / impair\n",
      "4\n",
      "is even / pair\n",
      "66\n",
      "is even / pair\n",
      "6\n",
      "is even / pair\n",
      "100\n",
      "is even / pair\n",
      "56\n",
      "is even / pair\n",
      "78\n",
      "is even / pair\n",
      "99\n",
      "is odd / impair\n",
      "125\n",
      "is odd / impair\n",
      "896\n",
      "is even / pair\n",
      "All done. \n",
      "\n",
      "The number of observations 12\n"
     ]
    }
   ],
   "source": [
    "# Create data element listofnumbers and apply conditional statement\n",
    "# Créer une liste d'éléments de données listofnumbers et appliquer une instruction conditionnelle\n",
    "listOfNumbers = [1, 27, 3, 4, 66, 6, 100, 56,78,99,125,896]\n",
    "for number in listOfNumbers:\n",
    "    print(number)\n",
    "    if (number % 2 == 0):\n",
    "        print(\"is even / pair\")\n",
    "    else:\n",
    "        print(\"is odd / impair\")\n",
    "        \n",
    "print (\"All done. \\n\")\n",
    "print(\"The number of observations\", len(listOfNumbers))"
   ]
  },
  {
   "cell_type": "code",
   "execution_count": 40,
   "metadata": {},
   "outputs": [
    {
     "name": "stdout",
     "output_type": "stream",
     "text": [
      "Please enter the number to divide: 6\n",
      "Please enter dividend: 0\n",
      "Division by zero is not allowed\n"
     ]
    }
   ],
   "source": [
    "# Get two integers from the user\n",
    "# Obtenir deux entiers de l'utilisateur\n",
    "dividend = int(input('Please enter the number to divide: '))\n",
    "divisor = int(input('Please enter dividend: '))\n",
    "# If possible, divide them and report the result\n",
    "# Si possible, divisez-les et rapportez le résultat\n",
    "if divisor != 0:\n",
    "    print(\"The result of the operation is: \", dividend, '/', divisor, \"=\", dividend/divisor)\n",
    "else:\n",
    "    print('Division by zero is not allowed')"
   ]
  },
  {
   "cell_type": "markdown",
   "metadata": {},
   "source": [
    "### If Elif Else\n",
    "In our daily life, we make decisions on daily basis. We make decisions not by checking one or two conditions but multiple conditions. As similar to life, programming is also full of conditions. We use elif when we have multiple conditions.\n",
    "\n",
    "=========<br>\n",
    "### <font color='blue'>If Elif Else\n",
    "<font color='blue'>Au quotidien, nous prenons des décisions. Nous ne vérifions pas une ou deux conditions, mais plusieurs. Comme dans la vie, la programmation est elle aussi pleine de conditions. Nous utilisons elif lorsque nous avons plusieurs conditions."
   ]
  },
  {
   "cell_type": "code",
   "execution_count": null,
   "metadata": {},
   "outputs": [],
   "source": [
    "# syntax\n",
    "if condition:\n",
    "    code\n",
    "elif condition:\n",
    "    code\n",
    "elif condition:\n",
    "    code\n",
    "else:\n",
    "    code"
   ]
  },
  {
   "cell_type": "code",
   "execution_count": 42,
   "metadata": {},
   "outputs": [
    {
     "name": "stdout",
     "output_type": "stream",
     "text": [
      "You are an adult.\n"
     ]
    }
   ],
   "source": [
    "# Addressing multiple conditions in a code chain.\n",
    "# Traitement de plusieurs conditions dans une chaîne de code.\n",
    "age = 20\n",
    "\n",
    "if age < 13:\n",
    "    print(\"You are a child.\")\n",
    "elif 13 <= age < 18:\n",
    "    print(\"You are a teenager.\")\n",
    "elif  18 <= age <= 65:\n",
    "    print(\"You are an adult.\")\n",
    "elif age > 65:\n",
    "    print(\"You should be in retirement.\")\n",
    "else:\n",
    "    print(\"You are an adult.\")"
   ]
  },
  {
   "cell_type": "markdown",
   "metadata": {},
   "source": [
    "### Nested Conditions\n",
    "In Python, nested conditions (also called nested if statements) are conditional statements placed inside other conditional blocks. They allow you to perform multiple levels of checks and are useful when decisions depend on multiple layers of logic.\n",
    "\n",
    "### <font color='blue'>Conditions imbriquées\n",
    "<font color='blue'>En Python, les conditions imbriquées (également appelées instructions « if » imbriquées) sont des instructions conditionnelles placées à l'intérieur d'autres blocs conditionnels. Elles permettent d'effectuer plusieurs niveaux de vérification et sont utiles lorsque les décisions dépendent de plusieurs niveaux de logique."
   ]
  },
  {
   "cell_type": "code",
   "execution_count": null,
   "metadata": {},
   "outputs": [],
   "source": [
    "if condition1:\n",
    "    # code block for condition1\n",
    "    if condition2:\n",
    "        # code block for condition2\n",
    "        if condition3:\n",
    "            # code block for condition3\n",
    "        else:\n",
    "            # code block if condition3 is False\n",
    "    else:\n",
    "        # code block if condition2 is False\n",
    "else:\n",
    "    # code block if condition1 is False\n"
   ]
  },
  {
   "cell_type": "code",
   "execution_count": 20,
   "metadata": {},
   "outputs": [
    {
     "name": "stdout",
     "output_type": "stream",
     "text": [
      "A is zero\n"
     ]
    }
   ],
   "source": [
    "a = 0\n",
    "if a > 0:\n",
    "    if a % 2 == 0:\n",
    "        print('A is a positive and even integer')\n",
    "    else:\n",
    "        print('A is a positive number')\n",
    "elif a == 0:\n",
    "    print('A is zero')\n",
    "else:\n",
    "    print('A is a negative number')"
   ]
  },
  {
   "cell_type": "code",
   "execution_count": 16,
   "metadata": {},
   "outputs": [
    {
     "name": "stdout",
     "output_type": "stream",
     "text": [
      "A is zero\n"
     ]
    }
   ],
   "source": [
    "a = 0; print('A is a positive and even integer' if a > 0 and a % 2 == 0 else 'A is a positive number' if a > 0 else 'A is zero' if a == 0 else 'A is a negative number')\n"
   ]
  },
  {
   "cell_type": "markdown",
   "metadata": {},
   "source": [
    "### Explaining the below code:\n",
    "The program first checks if the day is a weekend (saturday or sunday).\n",
    "\n",
    "Based on the day and age, it then sets the ticket price using nested conditionals.\n",
    "\n",
    "or is a logical operator that returns True if at least one of the conditions is True.\n",
    "\n",
    "The program uses both if/else and if/elif/else structures to cover all possible cases.\n",
    "\n",
    "=========<br>\n",
    "\n",
    "### <font color='blue'>Explication du code ci-dessous :\n",
    "<font color='blue'>Le programme vérifie d'abord si le jour est un week-end (samedi ou dimanche).\n",
    "\n",
    "<font color='blue'>En fonction du jour et de l'âge, il fixe ensuite le prix du billet à l'aide de conditions imbriquées.\n",
    "\n",
    "<font color='blue'>or est un opérateur logique qui renvoie « Vrai » si au moins une des conditions est vraie.\n",
    "\n",
    "<font color='blue'>Le programme utilise les structures if/else et if/elif/else pour couvrir tous les cas possibles."
   ]
  },
  {
   "cell_type": "code",
   "execution_count": 22,
   "metadata": {},
   "outputs": [
    {
     "name": "stdout",
     "output_type": "stream",
     "text": [
      "Enter your age: 56\n",
      "Enter the day of the week: Monday\n",
      "The ticket price is $12.\n"
     ]
    }
   ],
   "source": [
    "age = int(input(\"Enter your age: \"))\n",
    "day = input(\"Enter the day of the week: \").lower()\n",
    "\n",
    "if day == \"saturday\" or \"Thursday\":\n",
    "    if age < 13:\n",
    "        price = 8\n",
    "    elif 13 <= age <= 18:\n",
    "        price = 10\n",
    "    elif age >= 60:\n",
    "        price = 9\n",
    "    else:\n",
    "        price = 12\n",
    "elif day == \"sunday\":\n",
    "    if age < 13:\n",
    "        price = 6\n",
    "    elif 13 <= age <= 18:\n",
    "        price = 7\n",
    "    elif age >= 60:\n",
    "        price = 5\n",
    "    else:\n",
    "        price = 8\n",
    "else:\n",
    "    if age < 13:\n",
    "        price = 6\n",
    "    elif 13 <= age <= 18:\n",
    "        price = 8\n",
    "    elif age >= 60:\n",
    "        price = 7\n",
    "    else:\n",
    "        price = 10\n",
    "\n",
    "print(f\"The ticket price is ${price}.\")"
   ]
  },
  {
   "cell_type": "code",
   "execution_count": 44,
   "metadata": {},
   "outputs": [
    {
     "name": "stdout",
     "output_type": "stream",
     "text": [
      "Your score is: 95\n",
      "You passed.\n",
      "Grade: A\n"
     ]
    }
   ],
   "source": [
    "#score = 85\n",
    "score = int(input(\"Your score is: \"))\n",
    "\n",
    "if score >= 60:\n",
    "    print(\"You passed.\")\n",
    "    if score >= 90:\n",
    "        print(\"Grade: A\")\n",
    "    elif score >= 80:\n",
    "        print(\"Grade: B\")\n",
    "    elif score >= 70:\n",
    "        print(\"Grade: C\")\n",
    "    else:\n",
    "        print(\"Grade: D\")\n",
    "else:\n",
    "    print(\"You failed.\")"
   ]
  },
  {
   "cell_type": "code",
   "execution_count": 47,
   "metadata": {},
   "outputs": [
    {
     "name": "stdout",
     "output_type": "stream",
     "text": [
      "Loan Denied: Must be at least 18\n"
     ]
    }
   ],
   "source": [
    "age = 12\n",
    "income = 4000\n",
    "credit_score = 650\n",
    "\n",
    "if age >= 18:\n",
    "    if income >= 3000:\n",
    "        if credit_score >= 650:\n",
    "            print(\"Loan Approved\")\n",
    "        else:\n",
    "            print(\"Loan Denied: Low Credit Score\")\n",
    "    else:\n",
    "        print(\"Loan Denied: Low Income\")\n",
    "else:\n",
    "    print(\"Loan Denied: Must be at least 18\")"
   ]
  },
  {
   "cell_type": "code",
   "execution_count": 9,
   "metadata": {},
   "outputs": [
    {
     "name": "stdout",
     "output_type": "stream",
     "text": [
      "Loan Approved\n"
     ]
    }
   ],
   "source": [
    "# instead of / Au lieu de..\n",
    "if age >= 18:\n",
    "    if income >= 3000:\n",
    "        if credit_score >= 650:\n",
    "            print(\"Loan Approved\")"
   ]
  },
  {
   "cell_type": "code",
   "execution_count": 10,
   "metadata": {},
   "outputs": [
    {
     "name": "stdout",
     "output_type": "stream",
     "text": [
      "Loan Approved\n"
     ]
    }
   ],
   "source": [
    "# You can write: / Tu peux ecrire:\n",
    "if age >= 18 and income >= 3000 and credit_score >= 650:\n",
    "    print(\"Loan Approved\")"
   ]
  },
  {
   "cell_type": "markdown",
   "metadata": {},
   "source": [
    "### Apllications of Conditional Statements\n",
    "Conditional statements in Python are essential for controlling the flow of a program based on different conditions. In real life, they're used in many everyday applications. Here are some practical real-life use cases where conditional statements (if, elif, else) play a critical role:)\n",
    "\n",
    "### <font color='blue'>Applications des instructions conditionnelles\n",
    "<font color='blue'>En Python, les instructions conditionnelles sont essentielles pour contrôler le déroulement d'un programme en fonction de différentes conditions. En pratique, elles sont utilisées dans de nombreuses applications courantes. Voici quelques cas d'utilisation concrets où les instructions conditionnelles (if, elif, else) jouent un rôle crucial."
   ]
  },
  {
   "cell_type": "markdown",
   "metadata": {},
   "source": [
    "### 1. User Authentication\n",
    "\n",
    "Check if login credentials match a user’s record.\n",
    "\n",
    "### <font color='blue'>1. Authentification de l'utilisateur\n",
    "\n",
    "<font color='blue'>Vérifiez si les identifiants de connexion correspondent à ceux de l'utilisateur."
   ]
  },
  {
   "cell_type": "code",
   "execution_count": 20,
   "metadata": {},
   "outputs": [
    {
     "name": "stdout",
     "output_type": "stream",
     "text": [
      "Enter your username: babala\n",
      "Enter your password: trying\n",
      "Access denied\n"
     ]
    }
   ],
   "source": [
    "username = input(\"Enter your username: \")\n",
    "password = input(\"Enter your password: \")\n",
    "if username == 'admin' and password == 'secret123':\n",
    "    print(\"Access granted\")\n",
    "else:\n",
    "    print(\"Access denied\")"
   ]
  },
  {
   "cell_type": "markdown",
   "metadata": {},
   "source": [
    "### 2. E-Commerce: Shopping Cart Discounts\n",
    "\n",
    "Apply discount rules based on the cart total or user type.\n",
    "\n",
    "### <font color='blue'>2. E-commerce : Remises sur le panier\n",
    "\n",
    "<font color='blue'>Appliquez des règles de remise en fonction du montant total du panier ou du type d'utilisateur."
   ]
  },
  {
   "cell_type": "code",
   "execution_count": 24,
   "metadata": {},
   "outputs": [
    {
     "name": "stdout",
     "output_type": "stream",
     "text": [
      "20\n"
     ]
    }
   ],
   "source": [
    "total = 20\n",
    "if total > 100:\n",
    "    discount = 0.10\n",
    "    print(total*(1-discount))\n",
    "elif total > 50:\n",
    "    discount = 0.05\n",
    "    print(total*(1-discount))\n",
    "else:\n",
    "    discount = 0\n",
    "    print(total*(1-discount))"
   ]
  },
  {
   "cell_type": "markdown",
   "metadata": {},
   "source": [
    "### 3. Banking & Finance\n",
    "\n",
    "Determine account overdraft status or interest eligibility.\n",
    "\n",
    "### <font color='blue'>3. Banque et Finance\n",
    "\n",
    "<font color='blue'>Déterminer le statut de découvert de votre compte ou l'admissibilité aux intérêts."
   ]
  },
  {
   "cell_type": "code",
   "execution_count": null,
   "metadata": {},
   "outputs": [],
   "source": [
    "if balance < 0:\n",
    "    print(\"Your account is overdrawn\")\n",
    "elif balance > 10000:\n",
    "    print(\"Eligible for premium interest rate\")"
   ]
  },
  {
   "cell_type": "markdown",
   "metadata": {},
   "source": [
    "### 4. Weather Application\n",
    "\n",
    "Customize messages based on temperature or forecast.\n",
    "\n",
    "### <font color='blue'>4. Application météo\n",
    "\n",
    "<font color='blue'>Personnalisez les messages en fonction de la température ou des prévisions."
   ]
  },
  {
   "cell_type": "code",
   "execution_count": 26,
   "metadata": {},
   "outputs": [
    {
     "name": "stdout",
     "output_type": "stream",
     "text": [
      "It's a hot day\n"
     ]
    }
   ],
   "source": [
    "temperature = 40\n",
    "if temperature > 30:\n",
    "    print(\"It's a hot day\")\n",
    "elif temperature < 10:\n",
    "    print(\"It's a cold day\")\n",
    "else:\n",
    "    print(\"Weather is moderate\")"
   ]
  },
  {
   "cell_type": "markdown",
   "metadata": {},
   "source": [
    "### 5. AI & Machine Learning Workflow\n",
    "\n",
    "Select preprocessing techniques based on dataset type.\n",
    "\n",
    "### <font color='blue'>5. Workflow d'IA et d'apprentissage automatique\n",
    "\n",
    " <font color='blue'>Sélectionnez les techniques de prétraitement en fonction du type de jeu de données."
   ]
  },
  {
   "cell_type": "code",
   "execution_count": null,
   "metadata": {},
   "outputs": [],
   "source": [
    "if data_type == 'image':\n",
    "    preprocess_image(data)\n",
    "elif data_type == 'text':\n",
    "    preprocess_text(data)"
   ]
  },
  {
   "cell_type": "markdown",
   "metadata": {},
   "source": [
    "### 6. File Management Systems\n",
    "\n",
    "Choose actions based on file size or type.\n",
    "\n",
    "### <font color='blue'>6. Systèmes de gestion de fichiers\n",
    "\n",
    "<font color='blue'>Choisissez des actions en fonction de la taille ou du type de fichier."
   ]
  },
  {
   "cell_type": "code",
   "execution_count": null,
   "metadata": {},
   "outputs": [],
   "source": [
    "if file.size > MAX_SIZE:\n",
    "    print(\"File too large to upload\")\n",
    "elif file.type not in allowed_types:\n",
    "    print(\"Unsupported file type\")"
   ]
  },
  {
   "cell_type": "markdown",
   "metadata": {},
   "source": [
    "# Exercise 1\n",
    "Write a code which gives grade to students according to theirs scores:<br>\n",
    "\n",
    "80-100, A<br>\n",
    "70-89, B<br>\n",
    "60-69, C<br>\n",
    "50-59, D<br>\n",
    "0-49, F<br>\n",
    "\n",
    "===========<br>\n",
    "# <font color='blue'>Exercice 1\n",
    "<font color='blue'>Écrivez un code qui attribue une note aux élèves en fonction de leurs résultats :<br>\n",
    "\n",
    "<font color='blue'>80-100, A<br>\n",
    "<font color='blue'>70-89, B<br>\n",
    "<font color='blue'>60-69, C<br>\n",
    "<font color='blue'>50-59, D<br>\n",
    "<font color='blue'>0-49, F<br>"
   ]
  },
  {
   "cell_type": "markdown",
   "metadata": {},
   "source": [
    "# Exercise 2\n",
    "Here we have a person dictionary. Feel free to modify it!<br>\n",
    "person = {<br>\n",
    "    'first_name':'Chayil',<br>\n",
    "    'last_name':'Assih',<br>\n",
    "    'age':250,<br>\n",
    "    'country':'New York',<br>\n",
    "    'is_marred':False,<br>\n",
    "    'skills':['JavaScript', 'React', 'Node', 'MongoDB', 'Python'],<br>\n",
    "    'address':{<br>\n",
    "        'street':'Bedell street',<br>\n",
    "        'zipcode':'11434'<br>\n",
    "    },<br>\n",
    "    'demography':{<br>\n",
    "        'marital status':'Married',<br>\n",
    "        'gender':'Male'<br>\n",
    "    }<br>\n",
    "    }<br>\n",
    "\n",
    "<ul>\n",
    "<li>Check if the person dictionary has skills key, if so print out the middle skill in the skills list.</li>\n",
    "<li>Check if the person dictionary has skills key, if so check if the person has 'Python' skill and print out the result.</li>\n",
    "<li>If a person skills has only JavaScript and React, print('He is a front end developer'), if the person skills has Node, Python, MongoDB, print('He is a backend developer'), if the person skills has React, Node and MongoDB, Print('He is a fullstack developer'), else print('unknown title') - for more accurate results more conditions can be nested!</li>\n",
    "<li>If the person is not married and if he lives in New York, print the information in the following format:<br>\n",
    "<font color=\"lightblue\">Assih Chayil</font> lives in Finland. He is not married.   </li>\n",
    "</ul>\n",
    "\n",
    "\n",
    "# <font color='blue'>Exercice 2\n",
    "<font color='blue'>Nous avons ici un dictionnaire de personnes. N'hésitez pas à le modifier !<br>\n",
    "<font color='blue'>person = {<br>\n",
    "    'first_name':'Chayil',<br>\n",
    "    'last_name':'Assih',<br>\n",
    "    'age':250,<br>\n",
    "    'country':'New York',<br>\n",
    "    'is_marred':False,<br>\n",
    "    'skills':['JavaScript', 'React', 'Node', 'MongoDB', 'Python'],<br>\n",
    "    'address':{<br>\n",
    "        'street':'Bedell street',<br>\n",
    "        'zipcode':'11434'<br>\n",
    "    },<br>\n",
    "    'demography':{<br>\n",
    "        'marital status':'Married',<br>\n",
    "        'gender':'Male'<br>\n",
    "    }<br>\n",
    "    }<br>\n",
    "\n",
    "<ul>\n",
    "<font color='blue'><li>Vérifiez si le dictionnaire de la personne contient une clé de compétences. Si oui, affichez la compétence intermédiaire dans la liste.</li>\n",
    "<font color='blue'><li>Vérifiez si le dictionnaire de la personne contient une clé de compétences. Si oui, vérifiez si la personne possède la compétence « Python » et affichez le résultat.</li>\n",
    "<font color='blue'><li>Si les compétences d'une personne ne sont que JavaScript et React, affichez ('Il est développeur front-end'). Si les compétences de la personne sont Node, Python, MongoDB, affichez ('Il est développeur back-end'). Si les compétences de la personne sont React, Node et MongoDB, affichez ('Il est développeur fullstack'). Sinon, affichez ('Titre inconnu'). Pour des résultats plus précis, plusieurs conditions peuvent être imbriquées !</li>\n",
    "<font color='blue'><li>Si la personne n'est pas mariée et vit à New York, affichez les informations au format suivant :<br>\n",
    "<font color='blue'><font color=\"lightblue\">Assih Chayil</font> vit en Finlande. Il n'est pas marié.</li>\n",
    "</ul>"
   ]
  },
  {
   "cell_type": "markdown",
   "metadata": {},
   "source": [
    "### Section Summary:\n",
    "Understanding conditionals and the Boolean data type in Python is crucial for making decisions in your programs. By mastering if, else, and elif statements, along with logical operators, you can create complex decision-making structures that can handle a wide variety of scenarios. Whether you're creating simple checks or implementing nested conditionals for more complex logic, these tools are essential for writing effective and efficient Python code.\n",
    "\n",
    "=============<br>\n",
    "<font color='blue'>Comprendre les conditions et le type de données booléen en Python est essentiel pour prendre des décisions dans vos programmes. En maîtrisant les instructions if, else et elif, ainsi que les opérateurs logiques, vous pouvez créer des structures décisionnelles complexes capables de gérer une grande variété de scénarios. Que vous créiez des vérifications simples ou implémentiez des conditions imbriquées pour une logique plus complexe, ces outils sont essentiels pour écrire du code Python efficace et performant."
   ]
  },
  {
   "cell_type": "markdown",
   "metadata": {},
   "source": [
    "<b><font color=\"red\">Happy Learning / Bon Apprentissage!</font></b>"
   ]
  },
  {
   "cell_type": "code",
   "execution_count": null,
   "metadata": {},
   "outputs": [],
   "source": []
  }
 ],
 "metadata": {
  "kernelspec": {
   "display_name": "Python 3.10",
   "language": "python",
   "name": "python3.10"
  },
  "language_info": {
   "codemirror_mode": {
    "name": "ipython",
    "version": 3
   },
   "file_extension": ".py",
   "mimetype": "text/x-python",
   "name": "python",
   "nbconvert_exporter": "python",
   "pygments_lexer": "ipython3",
   "version": "3.10.5"
  }
 },
 "nbformat": 4,
 "nbformat_minor": 1
}
