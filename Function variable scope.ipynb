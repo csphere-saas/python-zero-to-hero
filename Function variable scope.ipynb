{
 "cells": [
  {
   "cell_type": "markdown",
   "metadata": {},
   "source": [
    "# Understanding Scope in Python\n",
    "Definition: Scope in Python refers to the region of a program where a particular variable is accessible. When a variable is declared, its scope determines where that variable can be used or referenced within the code.\n",
    "\n",
    "Python follows a well-defined scope resolution rule known as the LEGB rule, which stands for:\n",
    "\n",
    "Local\n",
    "\n",
    "Enclosing\n",
    "\n",
    "Global\n",
    "\n",
    "Built-in\n",
    "<br>==========<br>\n",
    "# <font color=\"blue\">Comprendre la portée en Python\n",
    "<font color=\"blue\">Définition : En Python, la portée désigne la zone d'un programme où une variable particulière est accessible. Lorsqu'une variable est déclarée, sa portée détermine où elle peut être utilisée ou référencée dans le code.\n",
    "\n",
    "<font color=\"blue\">Python suit une règle de résolution de portée bien définie, appelée règle LEGB, qui signifie :\n",
    "\n",
    "<font color=\"blue\">Local\n",
    "\n",
    "<font color=\"blue\">Englobant\n",
    "\n",
    "<font color=\"blue\">Global\n",
    "\n",
    "<font color=\"blue\">Intégré"
   ]
  },
  {
   "cell_type": "markdown",
   "metadata": {},
   "source": [
    "### The LEGB Rule\n",
    "Local Scope (<b>L</b>):\n",
    "The local scope refers to the variables that are defined within a function. These variables are only accessible inside that function and cannot be accessed outside of it.\n",
    "### <font color=\"blue\">La règle LEGB\n",
    "<font color=\"blue\">Portée locale (<b>L</b>) :\n",
    "<font color=\"blue\">La portée locale fait référence aux variables définies dans une fonction. Ces variables ne sont accessibles qu'à l'intérieur de cette fonction et ne peuvent être consultées en dehors de celle-ci."
   ]
  },
  {
   "cell_type": "code",
   "execution_count": 1,
   "metadata": {},
   "outputs": [
    {
     "name": "stdout",
     "output_type": "stream",
     "text": [
      "I am local\n"
     ]
    }
   ],
   "source": [
    "def my_function():\n",
    "    local_var = \"I am local\"\n",
    "    print(local_var)\n",
    "\n",
    "my_function()\n",
    "# print(local_var)  # Error: NameError: name 'local_var' is not defined \n",
    "#Erreur : NameError : le nom « local_var » n'est pas défini\n"
   ]
  },
  {
   "cell_type": "markdown",
   "metadata": {},
   "source": [
    "### Enclosing Scope (E):\n",
    "The enclosing scope is relevant in nested functions. If a function is defined inside another function, the enclosing scope refers to the variables in the outer function.\n",
    "<br>===========<br>\n",
    "### <font color=\"blue\">Portée englobante (E) :\n",
    "<font color=\"blue\">La portée englobante est pertinente dans les fonctions imbriquées. Si une fonction est définie à l'intérieur d'une autre fonction, la portée englobante fait référence aux variables de la fonction externe."
   ]
  },
  {
   "cell_type": "code",
   "execution_count": 2,
   "metadata": {},
   "outputs": [
    {
     "name": "stdout",
     "output_type": "stream",
     "text": [
      "I am outer\n"
     ]
    }
   ],
   "source": [
    "def outer_function():\n",
    "    outer_var = \"I am outer\"\n",
    "    \n",
    "    def inner_function():\n",
    "        print(outer_var)  # Can access the outer variable / Peut accéder à la variable externe\n",
    "        \n",
    "    inner_function()\n",
    "\n",
    "outer_function()  "
   ]
  },
  {
   "cell_type": "markdown",
   "metadata": {},
   "source": [
    "### Global Scope (G):\n",
    "The global scope refers to variables that are defined at the top level of a script or module. These variables can be accessed from any function within the same script or module.\n",
    "<br>==========<br>\n",
    "### <font color=\"blue\">Portée globale (G) :\n",
    "<font color=\"blue\">La portée globale fait référence aux variables définies au niveau supérieur d'un script ou d'un module. Ces variables sont accessibles depuis n'importe quelle fonction du même script ou module."
   ]
  },
  {
   "cell_type": "code",
   "execution_count": 3,
   "metadata": {},
   "outputs": [
    {
     "name": "stdout",
     "output_type": "stream",
     "text": [
      "I am global\n"
     ]
    }
   ],
   "source": [
    "global_var = \"I am global\"\n",
    "\n",
    "def my_function():\n",
    "    print(global_var)\n",
    "\n",
    "my_function() "
   ]
  },
  {
   "cell_type": "markdown",
   "metadata": {},
   "source": [
    "### Built-in Scope (B):\n",
    "The built-in scope contains the names of all the built-in functions, exceptions, and other objects provided by Python (like print(), len(), int(), etc.). These are always available in any Python program.\n",
    "<br>===========<br>\n",
    "### <font color=\"blue\">Portée intégrée (B) :\n",
    "<font color=\"blue\">La portée intégrée contient les noms de toutes les fonctions, exceptions et autres objets intégrés fournis par Python (comme print(), len(), int(), etc.). Ceux-ci sont toujours disponibles dans tout programme Python.\n",
    "\n"
   ]
  },
  {
   "cell_type": "code",
   "execution_count": 6,
   "metadata": {},
   "outputs": [
    {
     "name": "stdout",
     "output_type": "stream",
     "text": [
      "12\n"
     ]
    }
   ],
   "source": [
    "# Using built-in function 'len' to calculate the length of a string\n",
    "# Utilisation de la fonction intégrée « len » pour calculer la longueur d'une chaîne\n",
    "my_string = \"Hello, World\"\n",
    "print(len(my_string))  \n"
   ]
  },
  {
   "cell_type": "markdown",
   "metadata": {},
   "source": [
    "### 2. Global vs. Local Variables\n",
    "Global Variables:\n",
    "\n",
    "Declared outside any function and accessible throughout the module.\n",
    "\n",
    "Local Variables:\n",
    "\n",
    "Declared inside a function and only accessible within that function.\n",
    "<br>=========<br>\n",
    "### <font color=\"blue\">2. Variables globales et locales\n",
    "<font color=\"blue\">Variables globales :\n",
    "\n",
    "<font color=\"blue\">Déclarées en dehors de toute fonction et accessibles dans tout le module.\n",
    "\n",
    "<font color=\"blue\">Variables locales :\n",
    "\n",
    "<font color=\"blue\">Déclarées à l'intérieur d'une fonction et accessibles uniquement dans cette fonction.\n",
    "\n"
   ]
  },
  {
   "cell_type": "code",
   "execution_count": 7,
   "metadata": {},
   "outputs": [
    {
     "name": "stdout",
     "output_type": "stream",
     "text": [
      "Inside function: local\n",
      "Outside function: global\n"
     ]
    }
   ],
   "source": [
    "x = \"global\"\n",
    "\n",
    "def my_function():\n",
    "    x = \"local\"\n",
    "    print(\"Inside function:\", x)\n",
    "\n",
    "my_function()  \n",
    "print(\"Outside function:\", x) "
   ]
  },
  {
   "cell_type": "markdown",
   "metadata": {},
   "source": [
    "### 3. The global Keyword\n",
    "Sometimes, you may want to modify a global variable inside a function. This is where the global keyword comes in handy.\n",
    "<br> ==========<br>\n",
    "### <font color=\"blue\"> 3. Le mot-clé global\n",
    "<font color=\"blue\"> Il peut arriver que vous souhaitiez modifier une variable globale dans une fonction. C'est là que le mot-clé global s'avère utile."
   ]
  },
  {
   "cell_type": "code",
   "execution_count": 8,
   "metadata": {},
   "outputs": [
    {
     "name": "stdout",
     "output_type": "stream",
     "text": [
      "Inside function: modified global\n",
      "Outside function: modified global\n"
     ]
    }
   ],
   "source": [
    "x = \"global\"\n",
    "\n",
    "def my_function():\n",
    "    global x\n",
    "    x = \"modified global\"\n",
    "    print(\"Inside function:\", x)\n",
    "\n",
    "my_function()  \n",
    "print(\"Outside function:\", x)  "
   ]
  },
  {
   "cell_type": "markdown",
   "metadata": {},
   "source": [
    "### 4. The nonlocal Keyword\n",
    "When dealing with nested functions, you might want to modify a variable in the enclosing scope. For this, Python provides the nonlocal keyword.\n",
    "<br>========<br>\n",
    "### <font color=\"blue\">4. Le mot-clé nonlocal\n",
    "<font color=\"blue\">Lorsque vous utilisez des fonctions imbriquées, vous pouvez souhaiter modifier une variable dans la portée qui les entoure. Pour cela, Python fournit le mot-clé nonlocal."
   ]
  },
  {
   "cell_type": "code",
   "execution_count": 9,
   "metadata": {},
   "outputs": [
    {
     "name": "stdout",
     "output_type": "stream",
     "text": [
      "Inside inner function: modified outer\n",
      "Inside outer function: modified outer\n"
     ]
    }
   ],
   "source": [
    "def outer_function():\n",
    "    x = \"outer\"\n",
    "    \n",
    "    def inner_function():\n",
    "        nonlocal x\n",
    "        x = \"modified outer\"\n",
    "        print(\"Inside inner function:\", x)\n",
    "    \n",
    "    inner_function()\n",
    "    print(\"Inside outer function:\", x)\n",
    "\n",
    "outer_function()"
   ]
  },
  {
   "cell_type": "markdown",
   "metadata": {},
   "source": [
    "### 5. Best Practices for Variable Scope\n",
    "Limit the use of global variables: Using global variables can make your code harder to debug and maintain. Prefer local variables or use function arguments and return values to pass data between functions.\n",
    "Use global and nonlocal sparingly: Overuse of these keywords can lead to code that is difficult to understand. It's often better to refactor your code to avoid needing them.\n",
    "Keep scopes small: Keeping the scope of your variables small (preferably local) helps to avoid conflicts and makes your code easier to read.\n",
    "    <br>=============<br>\n",
    "\n",
    "### <font color=\"blue\">5. Bonnes pratiques pour la portée des variables\n",
    "<font color=\"blue\">Limitez l'utilisation des variables globales : leur utilisation peut compliquer le débogage et la maintenance de votre code. Privilégiez les variables locales ou utilisez des arguments de fonction et des valeurs de retour pour transmettre des données entre les fonctions.\n",
    "<font color=\"blue\">Utilisez les mots-clés global et nonlocal avec parcimonie : une utilisation excessive de ces mots-clés peut rendre le code difficile à comprendre. Il est souvent préférable de refactoriser votre code pour éviter d'en avoir besoin.\n",
    "<font color=\"blue\">Limitez la portée de vos variables : une portée réduite (de préférence locale) permet d'éviter les conflits et de faciliter la lecture de votre code.\n"
   ]
  },
  {
   "cell_type": "markdown",
   "metadata": {},
   "source": [
    "<font color=\"red\"><b>Happy Pythoning!</b></font>"
   ]
  },
  {
   "cell_type": "code",
   "execution_count": null,
   "metadata": {},
   "outputs": [],
   "source": []
  }
 ],
 "metadata": {
  "kernelspec": {
   "display_name": "Python 3.10",
   "language": "python",
   "name": "python3.10"
  },
  "language_info": {
   "codemirror_mode": {
    "name": "ipython",
    "version": 3
   },
   "file_extension": ".py",
   "mimetype": "text/x-python",
   "name": "python",
   "nbconvert_exporter": "python",
   "pygments_lexer": "ipython3",
   "version": "3.10.5"
  }
 },
 "nbformat": 4,
 "nbformat_minor": 1
}
